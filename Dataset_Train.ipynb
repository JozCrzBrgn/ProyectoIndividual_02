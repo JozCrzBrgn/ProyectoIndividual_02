{
 "cells": [
  {
   "cell_type": "markdown",
   "id": "a42a44c6-a224-4a41-826c-1b56363f0272",
   "metadata": {},
   "source": [
    "# Caso: Mercado inmobiliario"
   ]
  },
  {
   "cell_type": "markdown",
   "id": "7efbd536-e8d0-4f0e-bbb3-c06a09846488",
   "metadata": {},
   "source": [
    "## 1) Entender el enunciado del problema y el caso práctico."
   ]
  },
  {
   "cell_type": "markdown",
   "id": "e99c40fc-7b46-4bca-b852-ab5c15390a6e",
   "metadata": {},
   "source": [
    "Dentro de la sociedad globalizada e industrializada, es sabido que los precios de los inmuebles han presentado un constante cambio, por lo que quienes deseen invertir o vender una propiedad se enfrentan al fenómeno especulativo existente en la valorización de éstos. Esto, debido a la constante tendencia de las ciudades a crecer demográfica y comercialmente, llegando a un punto en donde no se tiene certeza de la valorización real dentro del sector en donde se desee invertir. Pese a que el precio depende, en cierta medida, de las tendencias que esté teniendo el mercado inmobiliario en un determinado tiempo, poder estimar adecuadamente el valor de una propiedad es una referencia clave para entender si es una buena oportunidad, ya sea de compra o de venta."
   ]
  },
  {
   "cell_type": "markdown",
   "id": "194d816c-e0d7-4dfb-b520-8e6a99b6042a",
   "metadata": {},
   "source": [
    "### Objetivo a tener en cuenta."
   ]
  },
  {
   "cell_type": "markdown",
   "id": "ba0ef929-07ac-4b0d-a97a-b70fb8dee24a",
   "metadata": {},
   "source": [
    "Usted ha sido contactado de una importante empresa inversora dentro del rubro de la inmobiliaria en Colombia, con el fin de que implemente un modelo de clasificación que permita clasificar el precio de las propiedades en venta, utilizando los datos que se han puesto a su disposición correspondientes al año 2020. Para esto, específicamente, debe predecir la categorización de las propiedades entre baratas o caras, considerando como criterio el valor promedio de los precios (la media). "
   ]
  },
  {
   "cell_type": "markdown",
   "id": "a496369e-a660-43a3-a328-834c815f803a",
   "metadata": {},
   "source": [
    "## 2) Tratamiento del dataset"
   ]
  },
  {
   "cell_type": "markdown",
   "id": "00ab67c2-f089-4e75-8a55-ffd02ef1bd94",
   "metadata": {},
   "source": [
    "### a) Importar las librerias"
   ]
  },
  {
   "cell_type": "code",
   "execution_count": 66,
   "id": "61080737-b05e-4ee9-988b-a4e4d1c2f0db",
   "metadata": {},
   "outputs": [
    {
     "name": "stdout",
     "output_type": "stream",
     "text": [
      "Librerias importadas !\n"
     ]
    }
   ],
   "source": [
    "import pandas as pd\n",
    "import numpy as np\n",
    "import time \n",
    "import seaborn as sns\n",
    "import matplotlib.pyplot as plt\n",
    "\n",
    "print('Librerias importadas !')"
   ]
  },
  {
   "cell_type": "markdown",
   "id": "70c96bde-9192-4218-a5e2-520b26358a5b",
   "metadata": {},
   "source": [
    "### b) Visualización del dataset"
   ]
  },
  {
   "cell_type": "markdown",
   "id": "eb8a8d62-83d4-405a-a92f-2695885cf828",
   "metadata": {},
   "source": [
    "#### Creación de DataFrame"
   ]
  },
  {
   "cell_type": "code",
   "execution_count": 67,
   "id": "919a9d05-3965-4b66-a729-96d0cf468f2a",
   "metadata": {},
   "outputs": [
    {
     "name": "stdout",
     "output_type": "stream",
     "text": [
      "DataFrame cargado !!!\n"
     ]
    }
   ],
   "source": [
    "# Extraemos los datos del dataset\n",
    "data = pd.read_csv('properties_colombia_train.csv')\n",
    "print('DataFrame cargado !!!')"
   ]
  },
  {
   "cell_type": "markdown",
   "id": "27b38f01-60a3-4b30-a0d6-f5f914f80a8e",
   "metadata": {},
   "source": [
    "#### Estadísticos"
   ]
  },
  {
   "cell_type": "code",
   "execution_count": 68,
   "id": "149b3c1c-2766-4db0-bb0e-6deb916e3c28",
   "metadata": {},
   "outputs": [
    {
     "data": {
      "text/html": [
       "<div>\n",
       "<style scoped>\n",
       "    .dataframe tbody tr th:only-of-type {\n",
       "        vertical-align: middle;\n",
       "    }\n",
       "\n",
       "    .dataframe tbody tr th {\n",
       "        vertical-align: top;\n",
       "    }\n",
       "\n",
       "    .dataframe thead th {\n",
       "        text-align: right;\n",
       "    }\n",
       "</style>\n",
       "<table border=\"1\" class=\"dataframe\">\n",
       "  <thead>\n",
       "    <tr style=\"text-align: right;\">\n",
       "      <th></th>\n",
       "      <th>Unnamed: 0</th>\n",
       "      <th>lat</th>\n",
       "      <th>lon</th>\n",
       "      <th>rooms</th>\n",
       "      <th>bedrooms</th>\n",
       "      <th>bathrooms</th>\n",
       "      <th>surface_total</th>\n",
       "      <th>surface_covered</th>\n",
       "      <th>price</th>\n",
       "    </tr>\n",
       "  </thead>\n",
       "  <tbody>\n",
       "    <tr>\n",
       "      <th>count</th>\n",
       "      <td>197549.000000</td>\n",
       "      <td>148051.000000</td>\n",
       "      <td>148051.000000</td>\n",
       "      <td>27537.000000</td>\n",
       "      <td>40525.000000</td>\n",
       "      <td>156467.000000</td>\n",
       "      <td>6974.000000</td>\n",
       "      <td>9.802000e+03</td>\n",
       "      <td>1.974860e+05</td>\n",
       "    </tr>\n",
       "    <tr>\n",
       "      <th>mean</th>\n",
       "      <td>497437.843851</td>\n",
       "      <td>5.666001</td>\n",
       "      <td>-75.041045</td>\n",
       "      <td>3.291208</td>\n",
       "      <td>3.239062</td>\n",
       "      <td>2.639279</td>\n",
       "      <td>1352.132349</td>\n",
       "      <td>9.483356e+02</td>\n",
       "      <td>6.436051e+08</td>\n",
       "    </tr>\n",
       "    <tr>\n",
       "      <th>std</th>\n",
       "      <td>290023.578338</td>\n",
       "      <td>2.196804</td>\n",
       "      <td>1.104575</td>\n",
       "      <td>1.754795</td>\n",
       "      <td>1.985636</td>\n",
       "      <td>1.437174</td>\n",
       "      <td>7713.769352</td>\n",
       "      <td>3.730875e+04</td>\n",
       "      <td>1.944868e+09</td>\n",
       "    </tr>\n",
       "    <tr>\n",
       "      <th>min</th>\n",
       "      <td>0.000000</td>\n",
       "      <td>-32.787342</td>\n",
       "      <td>-119.698190</td>\n",
       "      <td>1.000000</td>\n",
       "      <td>0.000000</td>\n",
       "      <td>1.000000</td>\n",
       "      <td>10.000000</td>\n",
       "      <td>1.000000e+00</td>\n",
       "      <td>0.000000e+00</td>\n",
       "    </tr>\n",
       "    <tr>\n",
       "      <th>25%</th>\n",
       "      <td>234211.000000</td>\n",
       "      <td>4.582315</td>\n",
       "      <td>-75.645126</td>\n",
       "      <td>3.000000</td>\n",
       "      <td>3.000000</td>\n",
       "      <td>2.000000</td>\n",
       "      <td>72.000000</td>\n",
       "      <td>7.100000e+01</td>\n",
       "      <td>2.000000e+08</td>\n",
       "    </tr>\n",
       "    <tr>\n",
       "      <th>50%</th>\n",
       "      <td>507385.000000</td>\n",
       "      <td>4.908611</td>\n",
       "      <td>-75.476654</td>\n",
       "      <td>3.000000</td>\n",
       "      <td>3.000000</td>\n",
       "      <td>2.000000</td>\n",
       "      <td>120.000000</td>\n",
       "      <td>1.140000e+02</td>\n",
       "      <td>3.300000e+08</td>\n",
       "    </tr>\n",
       "    <tr>\n",
       "      <th>75%</th>\n",
       "      <td>770037.000000</td>\n",
       "      <td>6.248101</td>\n",
       "      <td>-74.094001</td>\n",
       "      <td>4.000000</td>\n",
       "      <td>4.000000</td>\n",
       "      <td>3.000000</td>\n",
       "      <td>281.000000</td>\n",
       "      <td>2.160000e+02</td>\n",
       "      <td>6.000000e+08</td>\n",
       "    </tr>\n",
       "    <tr>\n",
       "      <th>max</th>\n",
       "      <td>993551.000000</td>\n",
       "      <td>34.420334</td>\n",
       "      <td>-67.482570</td>\n",
       "      <td>40.000000</td>\n",
       "      <td>96.000000</td>\n",
       "      <td>20.000000</td>\n",
       "      <td>180000.000000</td>\n",
       "      <td>3.480000e+06</td>\n",
       "      <td>3.450000e+11</td>\n",
       "    </tr>\n",
       "  </tbody>\n",
       "</table>\n",
       "</div>"
      ],
      "text/plain": [
       "          Unnamed: 0            lat            lon         rooms  \\\n",
       "count  197549.000000  148051.000000  148051.000000  27537.000000   \n",
       "mean   497437.843851       5.666001     -75.041045      3.291208   \n",
       "std    290023.578338       2.196804       1.104575      1.754795   \n",
       "min         0.000000     -32.787342    -119.698190      1.000000   \n",
       "25%    234211.000000       4.582315     -75.645126      3.000000   \n",
       "50%    507385.000000       4.908611     -75.476654      3.000000   \n",
       "75%    770037.000000       6.248101     -74.094001      4.000000   \n",
       "max    993551.000000      34.420334     -67.482570     40.000000   \n",
       "\n",
       "           bedrooms      bathrooms  surface_total  surface_covered  \\\n",
       "count  40525.000000  156467.000000    6974.000000     9.802000e+03   \n",
       "mean       3.239062       2.639279    1352.132349     9.483356e+02   \n",
       "std        1.985636       1.437174    7713.769352     3.730875e+04   \n",
       "min        0.000000       1.000000      10.000000     1.000000e+00   \n",
       "25%        3.000000       2.000000      72.000000     7.100000e+01   \n",
       "50%        3.000000       2.000000     120.000000     1.140000e+02   \n",
       "75%        4.000000       3.000000     281.000000     2.160000e+02   \n",
       "max       96.000000      20.000000  180000.000000     3.480000e+06   \n",
       "\n",
       "              price  \n",
       "count  1.974860e+05  \n",
       "mean   6.436051e+08  \n",
       "std    1.944868e+09  \n",
       "min    0.000000e+00  \n",
       "25%    2.000000e+08  \n",
       "50%    3.300000e+08  \n",
       "75%    6.000000e+08  \n",
       "max    3.450000e+11  "
      ]
     },
     "execution_count": 68,
     "metadata": {},
     "output_type": "execute_result"
    }
   ],
   "source": [
    "# Resumen global de estadisticos:\n",
    "data.describe()"
   ]
  },
  {
   "cell_type": "markdown",
   "id": "47d95f2e-053b-46b2-8127-3cb1df6b0745",
   "metadata": {},
   "source": [
    "#### Transformación de la columna 'price': 0,1"
   ]
  },
  {
   "cell_type": "markdown",
   "id": "5175c3c8-c84a-49d6-86fb-f131b034c5f3",
   "metadata": {},
   "source": [
    "Como se nos pide clasificar las propiedades en barata (0) y cara (1) tomando como referencia la media, lo primero que haremos será cambiar a binario la columna 'price'"
   ]
  },
  {
   "cell_type": "code",
   "execution_count": 69,
   "id": "d58a395e-1f4a-4d6b-aaf2-053dd714ca91",
   "metadata": {},
   "outputs": [],
   "source": [
    "media = data['price'].mean()\n",
    "data['price'] = data['price'].apply(lambda x: 1 if x > media else 0)"
   ]
  },
  {
   "cell_type": "markdown",
   "id": "8a39653b-3fc0-45a5-89f2-600b5f8fef15",
   "metadata": {},
   "source": [
    "#### Variables que posee el dataset"
   ]
  },
  {
   "cell_type": "code",
   "execution_count": 70,
   "id": "fd9449cb-2ece-462d-8e42-1f54c7ee7fae",
   "metadata": {},
   "outputs": [
    {
     "data": {
      "text/plain": [
       "Index(['Unnamed: 0', 'id', 'ad_type', 'start_date', 'end_date', 'created_on',\n",
       "       'lat', 'lon', 'l1', 'l2', 'l3', 'l4', 'l5', 'l6', 'rooms', 'bedrooms',\n",
       "       'bathrooms', 'surface_total', 'surface_covered', 'price', 'currency',\n",
       "       'price_period', 'title', 'description', 'property_type',\n",
       "       'operation_type', 'geometry'],\n",
       "      dtype='object')"
      ]
     },
     "execution_count": 70,
     "metadata": {},
     "output_type": "execute_result"
    }
   ],
   "source": [
    "# Vemos las columnas que tiene el dataset\n",
    "data.columns"
   ]
  },
  {
   "cell_type": "markdown",
   "id": "5758ac95-d492-4b88-b8c8-880dd4e3e68d",
   "metadata": {},
   "source": [
    "#### Número de renglones y columas"
   ]
  },
  {
   "cell_type": "code",
   "execution_count": 71,
   "id": "c4efedc4-b529-4b57-bfc8-08c9d32f7975",
   "metadata": {},
   "outputs": [
    {
     "data": {
      "text/plain": [
       "(197549, 27)"
      ]
     },
     "execution_count": 71,
     "metadata": {},
     "output_type": "execute_result"
    }
   ],
   "source": [
    "# Su numero de filas y columnas\n",
    "data.shape"
   ]
  },
  {
   "cell_type": "markdown",
   "id": "0a11b87f-1ccf-4391-a764-768f2c90e290",
   "metadata": {},
   "source": [
    "#### Tipo de variable"
   ]
  },
  {
   "cell_type": "code",
   "execution_count": 72,
   "id": "9d3848e3-ca42-45df-8c87-9d516524234a",
   "metadata": {},
   "outputs": [
    {
     "data": {
      "text/plain": [
       "Unnamed: 0           int64\n",
       "id                  object\n",
       "ad_type             object\n",
       "start_date          object\n",
       "end_date            object\n",
       "created_on          object\n",
       "lat                float64\n",
       "lon                float64\n",
       "l1                  object\n",
       "l2                  object\n",
       "l3                  object\n",
       "l4                  object\n",
       "l5                  object\n",
       "l6                  object\n",
       "rooms              float64\n",
       "bedrooms           float64\n",
       "bathrooms          float64\n",
       "surface_total      float64\n",
       "surface_covered    float64\n",
       "price                int64\n",
       "currency            object\n",
       "price_period        object\n",
       "title               object\n",
       "description         object\n",
       "property_type       object\n",
       "operation_type      object\n",
       "geometry            object\n",
       "dtype: object"
      ]
     },
     "execution_count": 72,
     "metadata": {},
     "output_type": "execute_result"
    }
   ],
   "source": [
    "# Tipo de variable que tenemos\n",
    "data.dtypes"
   ]
  },
  {
   "cell_type": "markdown",
   "id": "d94addc1-afb5-40ad-a956-40b45db90f3b",
   "metadata": {},
   "source": [
    "#### Valores nulos"
   ]
  },
  {
   "cell_type": "code",
   "execution_count": 73,
   "id": "a22ceace-9455-4a68-b97c-f7528dd8a3ea",
   "metadata": {},
   "outputs": [
    {
     "name": "stdout",
     "output_type": "stream",
     "text": [
      "Unnamed: 0: 0\n",
      "id: 0\n",
      "ad_type: 0\n",
      "start_date: 0\n",
      "end_date: 0\n",
      "created_on: 0\n",
      "lat: 49498\n",
      "lon: 49498\n",
      "l1: 0\n",
      "l2: 0\n",
      "l3: 11032\n",
      "l4: 152182\n",
      "l5: 170140\n",
      "l6: 190682\n",
      "rooms: 170012\n",
      "bedrooms: 157024\n",
      "bathrooms: 41082\n",
      "surface_total: 190575\n",
      "surface_covered: 187747\n",
      "price: 0\n",
      "currency: 67\n",
      "price_period: 161578\n",
      "title: 1\n",
      "description: 121\n",
      "property_type: 0\n",
      "operation_type: 0\n",
      "geometry: 0\n"
     ]
    }
   ],
   "source": [
    "lista = data.isnull().sum().tolist()\n",
    "nom = data.columns.tolist()\n",
    "nom\n",
    "dict_from_list = dict(zip(nom, lista))\n",
    "for clave, valor in dict_from_list.items():\n",
    "    print(f'{clave}: {valor}')"
   ]
  },
  {
   "cell_type": "markdown",
   "id": "0dce8a00-63c4-4b9d-a81c-a4d5b7b02550",
   "metadata": {},
   "source": [
    "#### Visualización más detallada del DataFrame"
   ]
  },
  {
   "cell_type": "code",
   "execution_count": 74,
   "id": "049242bf-8ef6-4489-ac19-1f1d7a6dd655",
   "metadata": {},
   "outputs": [
    {
     "data": {
      "text/html": [
       "<div>\n",
       "<style scoped>\n",
       "    .dataframe tbody tr th:only-of-type {\n",
       "        vertical-align: middle;\n",
       "    }\n",
       "\n",
       "    .dataframe tbody tr th {\n",
       "        vertical-align: top;\n",
       "    }\n",
       "\n",
       "    .dataframe thead th {\n",
       "        text-align: right;\n",
       "    }\n",
       "</style>\n",
       "<table border=\"1\" class=\"dataframe\">\n",
       "  <thead>\n",
       "    <tr style=\"text-align: right;\">\n",
       "      <th></th>\n",
       "      <th>Unnamed: 0</th>\n",
       "      <th>id</th>\n",
       "      <th>ad_type</th>\n",
       "      <th>start_date</th>\n",
       "      <th>end_date</th>\n",
       "      <th>created_on</th>\n",
       "      <th>lat</th>\n",
       "      <th>lon</th>\n",
       "      <th>l1</th>\n",
       "      <th>l2</th>\n",
       "      <th>l3</th>\n",
       "      <th>l4</th>\n",
       "      <th>l5</th>\n",
       "      <th>l6</th>\n",
       "    </tr>\n",
       "  </thead>\n",
       "  <tbody>\n",
       "    <tr>\n",
       "      <th>0</th>\n",
       "      <td>861131</td>\n",
       "      <td>CScTjaFiP6yCzS8tFX0ZVA==</td>\n",
       "      <td>Propiedad</td>\n",
       "      <td>2020-12-14</td>\n",
       "      <td>9999-12-31</td>\n",
       "      <td>2020-12-14</td>\n",
       "      <td>6.203000</td>\n",
       "      <td>-75.572000</td>\n",
       "      <td>Colombia</td>\n",
       "      <td>Antioquia</td>\n",
       "      <td>Medellín</td>\n",
       "      <td>El Poblado</td>\n",
       "      <td>NaN</td>\n",
       "      <td>NaN</td>\n",
       "    </tr>\n",
       "    <tr>\n",
       "      <th>1</th>\n",
       "      <td>200972</td>\n",
       "      <td>DlCxox9+FuugkxS2kBVfJg==</td>\n",
       "      <td>Propiedad</td>\n",
       "      <td>2020-09-16</td>\n",
       "      <td>2021-05-14</td>\n",
       "      <td>2020-09-16</td>\n",
       "      <td>4.722748</td>\n",
       "      <td>-74.073115</td>\n",
       "      <td>Colombia</td>\n",
       "      <td>Cundinamarca</td>\n",
       "      <td>Bogotá D.C</td>\n",
       "      <td>Zona Noroccidental</td>\n",
       "      <td>Suba</td>\n",
       "      <td>NaN</td>\n",
       "    </tr>\n",
       "    <tr>\n",
       "      <th>2</th>\n",
       "      <td>554622</td>\n",
       "      <td>yitN1AigL45gh/K2YSF8rw==</td>\n",
       "      <td>Propiedad</td>\n",
       "      <td>2020-08-19</td>\n",
       "      <td>2020-08-20</td>\n",
       "      <td>2020-08-19</td>\n",
       "      <td>4.709000</td>\n",
       "      <td>-74.030000</td>\n",
       "      <td>Colombia</td>\n",
       "      <td>Cundinamarca</td>\n",
       "      <td>Bogotá D.C</td>\n",
       "      <td>Zona Norte</td>\n",
       "      <td>Usaquén</td>\n",
       "      <td>Bella Suiza</td>\n",
       "    </tr>\n",
       "    <tr>\n",
       "      <th>3</th>\n",
       "      <td>540321</td>\n",
       "      <td>hELQ9njwODbLMpATXieRdQ==</td>\n",
       "      <td>Propiedad</td>\n",
       "      <td>2020-11-23</td>\n",
       "      <td>2020-11-30</td>\n",
       "      <td>2020-11-23</td>\n",
       "      <td>NaN</td>\n",
       "      <td>NaN</td>\n",
       "      <td>Colombia</td>\n",
       "      <td>Santander</td>\n",
       "      <td>Bucaramanga</td>\n",
       "      <td>NaN</td>\n",
       "      <td>NaN</td>\n",
       "      <td>NaN</td>\n",
       "    </tr>\n",
       "    <tr>\n",
       "      <th>4</th>\n",
       "      <td>448920</td>\n",
       "      <td>aBCtKT7LDzt2CxJQ+gVFEA==</td>\n",
       "      <td>Propiedad</td>\n",
       "      <td>2020-10-06</td>\n",
       "      <td>2020-10-07</td>\n",
       "      <td>2020-10-06</td>\n",
       "      <td>NaN</td>\n",
       "      <td>NaN</td>\n",
       "      <td>Colombia</td>\n",
       "      <td>Antioquia</td>\n",
       "      <td>Medellín</td>\n",
       "      <td>NaN</td>\n",
       "      <td>NaN</td>\n",
       "      <td>NaN</td>\n",
       "    </tr>\n",
       "  </tbody>\n",
       "</table>\n",
       "</div>"
      ],
      "text/plain": [
       "   Unnamed: 0                        id    ad_type  start_date    end_date  \\\n",
       "0      861131  CScTjaFiP6yCzS8tFX0ZVA==  Propiedad  2020-12-14  9999-12-31   \n",
       "1      200972  DlCxox9+FuugkxS2kBVfJg==  Propiedad  2020-09-16  2021-05-14   \n",
       "2      554622  yitN1AigL45gh/K2YSF8rw==  Propiedad  2020-08-19  2020-08-20   \n",
       "3      540321  hELQ9njwODbLMpATXieRdQ==  Propiedad  2020-11-23  2020-11-30   \n",
       "4      448920  aBCtKT7LDzt2CxJQ+gVFEA==  Propiedad  2020-10-06  2020-10-07   \n",
       "\n",
       "   created_on       lat        lon        l1            l2           l3  \\\n",
       "0  2020-12-14  6.203000 -75.572000  Colombia     Antioquia     Medellín   \n",
       "1  2020-09-16  4.722748 -74.073115  Colombia  Cundinamarca   Bogotá D.C   \n",
       "2  2020-08-19  4.709000 -74.030000  Colombia  Cundinamarca   Bogotá D.C   \n",
       "3  2020-11-23       NaN        NaN  Colombia     Santander  Bucaramanga   \n",
       "4  2020-10-06       NaN        NaN  Colombia     Antioquia     Medellín   \n",
       "\n",
       "                   l4       l5           l6  \n",
       "0          El Poblado      NaN          NaN  \n",
       "1  Zona Noroccidental     Suba          NaN  \n",
       "2          Zona Norte  Usaquén  Bella Suiza  \n",
       "3                 NaN      NaN          NaN  \n",
       "4                 NaN      NaN          NaN  "
      ]
     },
     "execution_count": 74,
     "metadata": {},
     "output_type": "execute_result"
    }
   ],
   "source": [
    "# Columnas: 'Unnamed: 0', 'id', 'ad_type', 'start_date', 'end_date', 'created_on', 'lat', 'lon','l1', 'l2', 'l3', 'l4', 'l5', 'l6'\n",
    "data[['Unnamed: 0', 'id', 'ad_type', 'start_date', 'end_date', 'created_on', 'lat', 'lon','l1', 'l2', 'l3', 'l4', 'l5', 'l6']].head(5)"
   ]
  },
  {
   "cell_type": "code",
   "execution_count": 75,
   "id": "51a4b391-353a-49d2-a75a-ba1881ba319d",
   "metadata": {},
   "outputs": [
    {
     "data": {
      "text/html": [
       "<div>\n",
       "<style scoped>\n",
       "    .dataframe tbody tr th:only-of-type {\n",
       "        vertical-align: middle;\n",
       "    }\n",
       "\n",
       "    .dataframe tbody tr th {\n",
       "        vertical-align: top;\n",
       "    }\n",
       "\n",
       "    .dataframe thead th {\n",
       "        text-align: right;\n",
       "    }\n",
       "</style>\n",
       "<table border=\"1\" class=\"dataframe\">\n",
       "  <thead>\n",
       "    <tr style=\"text-align: right;\">\n",
       "      <th></th>\n",
       "      <th>rooms</th>\n",
       "      <th>bedrooms</th>\n",
       "      <th>bathrooms</th>\n",
       "      <th>surface_total</th>\n",
       "      <th>surface_covered</th>\n",
       "      <th>price</th>\n",
       "      <th>currency</th>\n",
       "      <th>price_period</th>\n",
       "      <th>title</th>\n",
       "      <th>description</th>\n",
       "    </tr>\n",
       "  </thead>\n",
       "  <tbody>\n",
       "    <tr>\n",
       "      <th>0</th>\n",
       "      <td>NaN</td>\n",
       "      <td>4.0</td>\n",
       "      <td>4.0</td>\n",
       "      <td>NaN</td>\n",
       "      <td>NaN</td>\n",
       "      <td>1</td>\n",
       "      <td>COP</td>\n",
       "      <td>NaN</td>\n",
       "      <td>Hermosa Mansión En El Poblado. Área Construida...</td>\n",
       "      <td>&lt;b&gt;Hermosa Mansión En El Poblado. Área Constru...</td>\n",
       "    </tr>\n",
       "    <tr>\n",
       "      <th>1</th>\n",
       "      <td>NaN</td>\n",
       "      <td>3.0</td>\n",
       "      <td>2.0</td>\n",
       "      <td>NaN</td>\n",
       "      <td>NaN</td>\n",
       "      <td>0</td>\n",
       "      <td>COP</td>\n",
       "      <td>NaN</td>\n",
       "      <td>APARTAMENTO EN VENTA, BOGOTA-CIUDAD JARDIN NORTE</td>\n",
       "      <td>Venta apartamento en piso 16 con vista exterio...</td>\n",
       "    </tr>\n",
       "    <tr>\n",
       "      <th>2</th>\n",
       "      <td>NaN</td>\n",
       "      <td>NaN</td>\n",
       "      <td>2.0</td>\n",
       "      <td>NaN</td>\n",
       "      <td>NaN</td>\n",
       "      <td>0</td>\n",
       "      <td>COP</td>\n",
       "      <td>NaN</td>\n",
       "      <td>Apartamento En Venta En Bogota Bella Suiza Cod...</td>\n",
       "      <td>Al entrar a este bonito apartamento interior e...</td>\n",
       "    </tr>\n",
       "    <tr>\n",
       "      <th>3</th>\n",
       "      <td>NaN</td>\n",
       "      <td>NaN</td>\n",
       "      <td>1.0</td>\n",
       "      <td>NaN</td>\n",
       "      <td>NaN</td>\n",
       "      <td>1</td>\n",
       "      <td>COP</td>\n",
       "      <td>NaN</td>\n",
       "      <td>SE VENDE LOCAL COMERCIAL EN CABECERA DEL LLANO...</td>\n",
       "      <td>Se encuentra ubicado en el sector de la Cabece...</td>\n",
       "    </tr>\n",
       "    <tr>\n",
       "      <th>4</th>\n",
       "      <td>NaN</td>\n",
       "      <td>NaN</td>\n",
       "      <td>2.0</td>\n",
       "      <td>NaN</td>\n",
       "      <td>NaN</td>\n",
       "      <td>0</td>\n",
       "      <td>COP</td>\n",
       "      <td>NaN</td>\n",
       "      <td>Apartamento en Venta Ubicado en ITAGUI</td>\n",
       "      <td>Codigo Inmueble 4302 Apartamento con 3 habitac...</td>\n",
       "    </tr>\n",
       "  </tbody>\n",
       "</table>\n",
       "</div>"
      ],
      "text/plain": [
       "   rooms  bedrooms  bathrooms  surface_total  surface_covered  price currency  \\\n",
       "0    NaN       4.0        4.0            NaN              NaN      1      COP   \n",
       "1    NaN       3.0        2.0            NaN              NaN      0      COP   \n",
       "2    NaN       NaN        2.0            NaN              NaN      0      COP   \n",
       "3    NaN       NaN        1.0            NaN              NaN      1      COP   \n",
       "4    NaN       NaN        2.0            NaN              NaN      0      COP   \n",
       "\n",
       "  price_period                                              title  \\\n",
       "0          NaN  Hermosa Mansión En El Poblado. Área Construida...   \n",
       "1          NaN   APARTAMENTO EN VENTA, BOGOTA-CIUDAD JARDIN NORTE   \n",
       "2          NaN  Apartamento En Venta En Bogota Bella Suiza Cod...   \n",
       "3          NaN  SE VENDE LOCAL COMERCIAL EN CABECERA DEL LLANO...   \n",
       "4          NaN             Apartamento en Venta Ubicado en ITAGUI   \n",
       "\n",
       "                                         description  \n",
       "0  <b>Hermosa Mansión En El Poblado. Área Constru...  \n",
       "1  Venta apartamento en piso 16 con vista exterio...  \n",
       "2  Al entrar a este bonito apartamento interior e...  \n",
       "3  Se encuentra ubicado en el sector de la Cabece...  \n",
       "4  Codigo Inmueble 4302 Apartamento con 3 habitac...  "
      ]
     },
     "execution_count": 75,
     "metadata": {},
     "output_type": "execute_result"
    }
   ],
   "source": [
    "# Columnas: 'rooms', 'bedrooms', 'bathrooms', 'surface_total', 'surface_covered', 'price', 'currency','price_period', 'title', 'description'\n",
    "data[['rooms', 'bedrooms', 'bathrooms', 'surface_total', 'surface_covered', 'price', 'currency','price_period', 'title', 'description']].head(5)"
   ]
  },
  {
   "cell_type": "code",
   "execution_count": 76,
   "id": "eb65df2f-a9cf-4504-86cc-68c6061e7211",
   "metadata": {},
   "outputs": [
    {
     "data": {
      "text/html": [
       "<div>\n",
       "<style scoped>\n",
       "    .dataframe tbody tr th:only-of-type {\n",
       "        vertical-align: middle;\n",
       "    }\n",
       "\n",
       "    .dataframe tbody tr th {\n",
       "        vertical-align: top;\n",
       "    }\n",
       "\n",
       "    .dataframe thead th {\n",
       "        text-align: right;\n",
       "    }\n",
       "</style>\n",
       "<table border=\"1\" class=\"dataframe\">\n",
       "  <thead>\n",
       "    <tr style=\"text-align: right;\">\n",
       "      <th></th>\n",
       "      <th>property_type</th>\n",
       "      <th>operation_type</th>\n",
       "      <th>geometry</th>\n",
       "    </tr>\n",
       "  </thead>\n",
       "  <tbody>\n",
       "    <tr>\n",
       "      <th>0</th>\n",
       "      <td>Casa</td>\n",
       "      <td>Venta</td>\n",
       "      <td>POINT (-75.572 6.203)</td>\n",
       "    </tr>\n",
       "    <tr>\n",
       "      <th>1</th>\n",
       "      <td>Apartamento</td>\n",
       "      <td>Venta</td>\n",
       "      <td>POINT (-74.0731146 4.7227485)</td>\n",
       "    </tr>\n",
       "    <tr>\n",
       "      <th>2</th>\n",
       "      <td>Casa</td>\n",
       "      <td>Venta</td>\n",
       "      <td>POINT (-74.03 4.709)</td>\n",
       "    </tr>\n",
       "    <tr>\n",
       "      <th>3</th>\n",
       "      <td>Otro</td>\n",
       "      <td>Venta</td>\n",
       "      <td>POINT EMPTY</td>\n",
       "    </tr>\n",
       "    <tr>\n",
       "      <th>4</th>\n",
       "      <td>Apartamento</td>\n",
       "      <td>Venta</td>\n",
       "      <td>POINT EMPTY</td>\n",
       "    </tr>\n",
       "  </tbody>\n",
       "</table>\n",
       "</div>"
      ],
      "text/plain": [
       "  property_type operation_type                       geometry\n",
       "0          Casa          Venta          POINT (-75.572 6.203)\n",
       "1   Apartamento          Venta  POINT (-74.0731146 4.7227485)\n",
       "2          Casa          Venta           POINT (-74.03 4.709)\n",
       "3          Otro          Venta                    POINT EMPTY\n",
       "4   Apartamento          Venta                    POINT EMPTY"
      ]
     },
     "execution_count": 76,
     "metadata": {},
     "output_type": "execute_result"
    }
   ],
   "source": [
    "# Columnas: \n",
    "data[['property_type','operation_type', 'geometry']].head()"
   ]
  },
  {
   "cell_type": "markdown",
   "id": "78ffb4cb-91e1-4d45-b171-9e7a0a22c1c1",
   "metadata": {},
   "source": [
    "### c) Tratamiento de las fechas del dataset\n",
    "\n",
    "Las columnas 'start_date', 'end_date' y 'created_on' se encuentran como tipo *_object_*. Se procede a transformarlas a tipo *_Int_* utilizando la librería **time** para su posterior uso."
   ]
  },
  {
   "cell_type": "markdown",
   "id": "f01e0e8e-397d-4b83-aee7-84c6b79ab35b",
   "metadata": {},
   "source": [
    "#### Eliminamos la columna 'created_on' del DataFrame original\n",
    "\n",
    "Si hacemos un pequeño análisis contando las veces que la columna 'start_date' es identica a la columna 'created_on', llegamos a la conclusión de que son la misma columna, así que podemos eliminarla."
   ]
  },
  {
   "cell_type": "code",
   "execution_count": 77,
   "id": "3684a440-61eb-4e04-bf3d-86a4c6b8780f",
   "metadata": {},
   "outputs": [
    {
     "name": "stdout",
     "output_type": "stream",
     "text": [
      "Eliminar columna \"created_on\"...\n",
      "Columna eliminada !!!\n"
     ]
    }
   ],
   "source": [
    "cantidad_repetidas = data[[\"start_date\", \"created_on\"]].apply(lambda x: 1 if (x.start_date ==  x.created_on) else 0, axis=1).sum()\n",
    "renglones_dataset = data.shape[0]\n",
    "if cantidad_repetidas == renglones_dataset:\n",
    "    print('Eliminar columna \"created_on\"...')\n",
    "    data.drop(['created_on'], axis=1, inplace=True)\n",
    "    print('Columna eliminada !!!')"
   ]
  },
  {
   "cell_type": "markdown",
   "id": "ac2b7819-eb9f-460c-8be1-dac35abafee2",
   "metadata": {},
   "source": [
    "#### Corrección de los años"
   ]
  },
  {
   "cell_type": "code",
   "execution_count": 78,
   "id": "6ad400a8-544f-46a5-b127-c7c53ad25902",
   "metadata": {},
   "outputs": [
    {
     "data": {
      "text/html": [
       "<div>\n",
       "<style scoped>\n",
       "    .dataframe tbody tr th:only-of-type {\n",
       "        vertical-align: middle;\n",
       "    }\n",
       "\n",
       "    .dataframe tbody tr th {\n",
       "        vertical-align: top;\n",
       "    }\n",
       "\n",
       "    .dataframe thead th {\n",
       "        text-align: right;\n",
       "    }\n",
       "</style>\n",
       "<table border=\"1\" class=\"dataframe\">\n",
       "  <thead>\n",
       "    <tr style=\"text-align: right;\">\n",
       "      <th></th>\n",
       "      <th>start_date</th>\n",
       "      <th>end_date</th>\n",
       "    </tr>\n",
       "  </thead>\n",
       "  <tbody>\n",
       "    <tr>\n",
       "      <th>0</th>\n",
       "      <td>2020-12-14</td>\n",
       "      <td>9999-12-31</td>\n",
       "    </tr>\n",
       "    <tr>\n",
       "      <th>1</th>\n",
       "      <td>2020-09-16</td>\n",
       "      <td>2021-05-14</td>\n",
       "    </tr>\n",
       "    <tr>\n",
       "      <th>2</th>\n",
       "      <td>2020-08-19</td>\n",
       "      <td>2020-08-20</td>\n",
       "    </tr>\n",
       "    <tr>\n",
       "      <th>3</th>\n",
       "      <td>2020-11-23</td>\n",
       "      <td>2020-11-30</td>\n",
       "    </tr>\n",
       "    <tr>\n",
       "      <th>4</th>\n",
       "      <td>2020-10-06</td>\n",
       "      <td>2020-10-07</td>\n",
       "    </tr>\n",
       "  </tbody>\n",
       "</table>\n",
       "</div>"
      ],
      "text/plain": [
       "   start_date    end_date\n",
       "0  2020-12-14  9999-12-31\n",
       "1  2020-09-16  2021-05-14\n",
       "2  2020-08-19  2020-08-20\n",
       "3  2020-11-23  2020-11-30\n",
       "4  2020-10-06  2020-10-07"
      ]
     },
     "execution_count": 78,
     "metadata": {},
     "output_type": "execute_result"
    }
   ],
   "source": [
    "# Visualizamos un poco mas las columnas 'start_date' y 'end_date'\n",
    "data[['start_date','end_date']].head()"
   ]
  },
  {
   "cell_type": "markdown",
   "id": "d09f2d5b-4d54-4963-9ae3-bc0675beba75",
   "metadata": {},
   "source": [
    "Notamos que algunas fechas tienen años que estan mal, así que vamos a corregir esto tomando como referencia la columna 'start_date'.\n",
    "\n",
    "Primero nos aseguramos que los años de la columna 'start_date' se encuentren en el rango 2020-2021."
   ]
  },
  {
   "cell_type": "code",
   "execution_count": 79,
   "id": "8595302b-4038-4919-94a9-52e5e4649277",
   "metadata": {},
   "outputs": [
    {
     "data": {
      "text/html": [
       "<div>\n",
       "<style scoped>\n",
       "    .dataframe tbody tr th:only-of-type {\n",
       "        vertical-align: middle;\n",
       "    }\n",
       "\n",
       "    .dataframe tbody tr th {\n",
       "        vertical-align: top;\n",
       "    }\n",
       "\n",
       "    .dataframe thead th {\n",
       "        text-align: right;\n",
       "    }\n",
       "</style>\n",
       "<table border=\"1\" class=\"dataframe\">\n",
       "  <thead>\n",
       "    <tr style=\"text-align: right;\">\n",
       "      <th></th>\n",
       "      <th>start_anio</th>\n",
       "      <th>start_mes</th>\n",
       "      <th>start_dia</th>\n",
       "    </tr>\n",
       "  </thead>\n",
       "  <tbody>\n",
       "    <tr>\n",
       "      <th>0</th>\n",
       "      <td>2020</td>\n",
       "      <td>12</td>\n",
       "      <td>14</td>\n",
       "    </tr>\n",
       "    <tr>\n",
       "      <th>1</th>\n",
       "      <td>2020</td>\n",
       "      <td>09</td>\n",
       "      <td>16</td>\n",
       "    </tr>\n",
       "    <tr>\n",
       "      <th>2</th>\n",
       "      <td>2020</td>\n",
       "      <td>08</td>\n",
       "      <td>19</td>\n",
       "    </tr>\n",
       "  </tbody>\n",
       "</table>\n",
       "</div>"
      ],
      "text/plain": [
       "  start_anio start_mes start_dia\n",
       "0       2020        12        14\n",
       "1       2020        09        16\n",
       "2       2020        08        19"
      ]
     },
     "execution_count": 79,
     "metadata": {},
     "output_type": "execute_result"
    }
   ],
   "source": [
    "# Vamos a dividir la columna 'start_date' en año, mes y dia:\n",
    "start = data['start_date'].str.split('-',expand=True)\n",
    "start = start.rename(columns={0:'start_anio', 1:'start_mes', 2:'start_dia'})\n",
    "start.head(3)"
   ]
  },
  {
   "cell_type": "code",
   "execution_count": 80,
   "id": "5f7b011e-dc57-4023-9be4-454cb19e8a20",
   "metadata": {},
   "outputs": [
    {
     "name": "stdout",
     "output_type": "stream",
     "text": [
      "Todos los años se encuentran en el rango [2020, 2021]\n"
     ]
    }
   ],
   "source": [
    "# Nos aseguramos que los años de la columna 'start_date' se encuentren en el rango 2020-2021\n",
    "EnRango = start[\"start_anio\"].apply(lambda x: 1 if (x ==  '2021' or x ==  '2020') else 0).sum()\n",
    "renglones_dataset = data.shape[0]\n",
    "if EnRango == renglones_dataset:\n",
    "    print('Todos los años se encuentran en el rango [2020, 2021]')"
   ]
  },
  {
   "cell_type": "markdown",
   "id": "cac85c2d-1de0-40db-b2a5-1fbb8ad73d3a",
   "metadata": {},
   "source": [
    "A continuación, utilizarémos el siguiente criterio:\n",
    "\n",
    "* Si el mes de la columna 'start_date' es menor o igual a la columna 'end_date', se tomará como referencia el año de la columna 'start_date'\n",
    "* En caso contrario usarémos el año 2021"
   ]
  },
  {
   "cell_type": "code",
   "execution_count": 81,
   "id": "15c77459-fb0b-4e51-8ef6-dfd13f264ede",
   "metadata": {},
   "outputs": [
    {
     "data": {
      "text/html": [
       "<div>\n",
       "<style scoped>\n",
       "    .dataframe tbody tr th:only-of-type {\n",
       "        vertical-align: middle;\n",
       "    }\n",
       "\n",
       "    .dataframe tbody tr th {\n",
       "        vertical-align: top;\n",
       "    }\n",
       "\n",
       "    .dataframe thead th {\n",
       "        text-align: right;\n",
       "    }\n",
       "</style>\n",
       "<table border=\"1\" class=\"dataframe\">\n",
       "  <thead>\n",
       "    <tr style=\"text-align: right;\">\n",
       "      <th></th>\n",
       "      <th>start_anio</th>\n",
       "      <th>start_mes</th>\n",
       "      <th>start_dia</th>\n",
       "      <th>end_anio</th>\n",
       "      <th>end_mes</th>\n",
       "      <th>end_dia</th>\n",
       "    </tr>\n",
       "  </thead>\n",
       "  <tbody>\n",
       "    <tr>\n",
       "      <th>0</th>\n",
       "      <td>2020</td>\n",
       "      <td>12</td>\n",
       "      <td>14</td>\n",
       "      <td>9999</td>\n",
       "      <td>12</td>\n",
       "      <td>31</td>\n",
       "    </tr>\n",
       "    <tr>\n",
       "      <th>1</th>\n",
       "      <td>2020</td>\n",
       "      <td>09</td>\n",
       "      <td>16</td>\n",
       "      <td>2021</td>\n",
       "      <td>05</td>\n",
       "      <td>14</td>\n",
       "    </tr>\n",
       "    <tr>\n",
       "      <th>2</th>\n",
       "      <td>2020</td>\n",
       "      <td>08</td>\n",
       "      <td>19</td>\n",
       "      <td>2020</td>\n",
       "      <td>08</td>\n",
       "      <td>20</td>\n",
       "    </tr>\n",
       "    <tr>\n",
       "      <th>3</th>\n",
       "      <td>2020</td>\n",
       "      <td>11</td>\n",
       "      <td>23</td>\n",
       "      <td>2020</td>\n",
       "      <td>11</td>\n",
       "      <td>30</td>\n",
       "    </tr>\n",
       "    <tr>\n",
       "      <th>4</th>\n",
       "      <td>2020</td>\n",
       "      <td>10</td>\n",
       "      <td>06</td>\n",
       "      <td>2020</td>\n",
       "      <td>10</td>\n",
       "      <td>07</td>\n",
       "    </tr>\n",
       "  </tbody>\n",
       "</table>\n",
       "</div>"
      ],
      "text/plain": [
       "  start_anio start_mes start_dia end_anio end_mes end_dia\n",
       "0       2020        12        14     9999      12      31\n",
       "1       2020        09        16     2021      05      14\n",
       "2       2020        08        19     2020      08      20\n",
       "3       2020        11        23     2020      11      30\n",
       "4       2020        10        06     2020      10      07"
      ]
     },
     "execution_count": 81,
     "metadata": {},
     "output_type": "execute_result"
    }
   ],
   "source": [
    "# Primero vamos a dividir la columna 'end_date' en año, mes y dia:\n",
    "end = data['end_date'].str.split('-',expand=True)\n",
    "end = end.rename(columns={0:'end_anio', 1:'end_mes', 2:'end_dia'})\n",
    "# Concatemanos las columnas 'start' y 'end' para usar un solo DataFrame auxiliar:\n",
    "df_aux = pd.concat([start, end], axis=1)\n",
    "df_aux.head()"
   ]
  },
  {
   "cell_type": "code",
   "execution_count": 82,
   "id": "5606ccc2-05ad-444d-b2be-0f04aa921962",
   "metadata": {},
   "outputs": [
    {
     "data": {
      "text/html": [
       "<div>\n",
       "<style scoped>\n",
       "    .dataframe tbody tr th:only-of-type {\n",
       "        vertical-align: middle;\n",
       "    }\n",
       "\n",
       "    .dataframe tbody tr th {\n",
       "        vertical-align: top;\n",
       "    }\n",
       "\n",
       "    .dataframe thead th {\n",
       "        text-align: right;\n",
       "    }\n",
       "</style>\n",
       "<table border=\"1\" class=\"dataframe\">\n",
       "  <thead>\n",
       "    <tr style=\"text-align: right;\">\n",
       "      <th></th>\n",
       "      <th>start_anio</th>\n",
       "      <th>start_mes</th>\n",
       "      <th>start_dia</th>\n",
       "      <th>end_anio</th>\n",
       "      <th>end_mes</th>\n",
       "      <th>end_dia</th>\n",
       "      <th>end_date_str</th>\n",
       "    </tr>\n",
       "  </thead>\n",
       "  <tbody>\n",
       "    <tr>\n",
       "      <th>0</th>\n",
       "      <td>2020</td>\n",
       "      <td>12</td>\n",
       "      <td>14</td>\n",
       "      <td>9999</td>\n",
       "      <td>12</td>\n",
       "      <td>31</td>\n",
       "      <td>2020-12-31</td>\n",
       "    </tr>\n",
       "    <tr>\n",
       "      <th>1</th>\n",
       "      <td>2020</td>\n",
       "      <td>09</td>\n",
       "      <td>16</td>\n",
       "      <td>2021</td>\n",
       "      <td>05</td>\n",
       "      <td>14</td>\n",
       "      <td>2021-05-14</td>\n",
       "    </tr>\n",
       "    <tr>\n",
       "      <th>2</th>\n",
       "      <td>2020</td>\n",
       "      <td>08</td>\n",
       "      <td>19</td>\n",
       "      <td>2020</td>\n",
       "      <td>08</td>\n",
       "      <td>20</td>\n",
       "      <td>2020-08-20</td>\n",
       "    </tr>\n",
       "    <tr>\n",
       "      <th>3</th>\n",
       "      <td>2020</td>\n",
       "      <td>11</td>\n",
       "      <td>23</td>\n",
       "      <td>2020</td>\n",
       "      <td>11</td>\n",
       "      <td>30</td>\n",
       "      <td>2020-11-30</td>\n",
       "    </tr>\n",
       "    <tr>\n",
       "      <th>4</th>\n",
       "      <td>2020</td>\n",
       "      <td>10</td>\n",
       "      <td>06</td>\n",
       "      <td>2020</td>\n",
       "      <td>10</td>\n",
       "      <td>07</td>\n",
       "      <td>2020-10-07</td>\n",
       "    </tr>\n",
       "  </tbody>\n",
       "</table>\n",
       "</div>"
      ],
      "text/plain": [
       "  start_anio start_mes start_dia end_anio end_mes end_dia end_date_str\n",
       "0       2020        12        14     9999      12      31   2020-12-31\n",
       "1       2020        09        16     2021      05      14   2021-05-14\n",
       "2       2020        08        19     2020      08      20   2020-08-20\n",
       "3       2020        11        23     2020      11      30   2020-11-30\n",
       "4       2020        10        06     2020      10      07   2020-10-07"
      ]
     },
     "execution_count": 82,
     "metadata": {},
     "output_type": "execute_result"
    }
   ],
   "source": [
    "# Usamos el criterio explicado anteriormente para corregir los años de la columna 'end_date':\n",
    "df_aux['end_date_str'] = df_aux[['start_anio', 'start_mes', 'start_dia', 'end_mes', 'end_dia']].apply(\n",
    "    lambda x: x.start_anio + '-' + x.end_mes + '-' + x.end_dia\n",
    "    if (x.start_mes <=  x.end_mes)  \n",
    "    else '2021' + '-' + x.end_mes + '-' + x.end_dia, axis=1)\n",
    "df_aux.head()"
   ]
  },
  {
   "cell_type": "code",
   "execution_count": 83,
   "id": "f4343472-7ce2-4ee0-a304-45db61e61f88",
   "metadata": {},
   "outputs": [
    {
     "data": {
      "text/html": [
       "<div>\n",
       "<style scoped>\n",
       "    .dataframe tbody tr th:only-of-type {\n",
       "        vertical-align: middle;\n",
       "    }\n",
       "\n",
       "    .dataframe tbody tr th {\n",
       "        vertical-align: top;\n",
       "    }\n",
       "\n",
       "    .dataframe thead th {\n",
       "        text-align: right;\n",
       "    }\n",
       "</style>\n",
       "<table border=\"1\" class=\"dataframe\">\n",
       "  <thead>\n",
       "    <tr style=\"text-align: right;\">\n",
       "      <th></th>\n",
       "      <th>end_date_str</th>\n",
       "      <th>start_date_str</th>\n",
       "    </tr>\n",
       "  </thead>\n",
       "  <tbody>\n",
       "    <tr>\n",
       "      <th>0</th>\n",
       "      <td>2020-12-31</td>\n",
       "      <td>2020-12-14</td>\n",
       "    </tr>\n",
       "    <tr>\n",
       "      <th>1</th>\n",
       "      <td>2021-05-14</td>\n",
       "      <td>2020-09-16</td>\n",
       "    </tr>\n",
       "    <tr>\n",
       "      <th>2</th>\n",
       "      <td>2020-08-20</td>\n",
       "      <td>2020-08-19</td>\n",
       "    </tr>\n",
       "    <tr>\n",
       "      <th>3</th>\n",
       "      <td>2020-11-30</td>\n",
       "      <td>2020-11-23</td>\n",
       "    </tr>\n",
       "    <tr>\n",
       "      <th>4</th>\n",
       "      <td>2020-10-07</td>\n",
       "      <td>2020-10-06</td>\n",
       "    </tr>\n",
       "  </tbody>\n",
       "</table>\n",
       "</div>"
      ],
      "text/plain": [
       "  end_date_str start_date_str\n",
       "0   2020-12-31     2020-12-14\n",
       "1   2021-05-14     2020-09-16\n",
       "2   2020-08-20     2020-08-19\n",
       "3   2020-11-30     2020-11-23\n",
       "4   2020-10-07     2020-10-06"
      ]
     },
     "execution_count": 83,
     "metadata": {},
     "output_type": "execute_result"
    }
   ],
   "source": [
    "# Volvemos a crear la columna 'start_date' en el DataFrame auxiliar:\n",
    "df_aux['start_date_str'] = df_aux[['start_anio', 'start_mes', 'start_dia']].apply(\n",
    "    lambda x: x.start_anio + '-' + x.start_mes + '-' + x.start_dia, axis=1)\n",
    "# Eliminamos las columnas auxiliares:\n",
    "df_aux.drop(['start_anio', 'start_mes', 'start_dia', 'end_anio', 'end_mes', 'end_dia'], axis=1, inplace=True)\n",
    "# Vemos los cambios\n",
    "df_aux.head()"
   ]
  },
  {
   "cell_type": "markdown",
   "id": "5105ed98-34c6-4c93-b60b-aae383d2be00",
   "metadata": {},
   "source": [
    "#### Transformación de las fechas a Int"
   ]
  },
  {
   "cell_type": "code",
   "execution_count": 84,
   "id": "19d37bc0-f05b-4de2-b3ec-7a662558824d",
   "metadata": {},
   "outputs": [
    {
     "data": {
      "text/html": [
       "<div>\n",
       "<style scoped>\n",
       "    .dataframe tbody tr th:only-of-type {\n",
       "        vertical-align: middle;\n",
       "    }\n",
       "\n",
       "    .dataframe tbody tr th {\n",
       "        vertical-align: top;\n",
       "    }\n",
       "\n",
       "    .dataframe thead th {\n",
       "        text-align: right;\n",
       "    }\n",
       "</style>\n",
       "<table border=\"1\" class=\"dataframe\">\n",
       "  <thead>\n",
       "    <tr style=\"text-align: right;\">\n",
       "      <th></th>\n",
       "      <th>start_date_int</th>\n",
       "      <th>end_date_int</th>\n",
       "    </tr>\n",
       "  </thead>\n",
       "  <tbody>\n",
       "    <tr>\n",
       "      <th>0</th>\n",
       "      <td>1607925600</td>\n",
       "      <td>1609394400</td>\n",
       "    </tr>\n",
       "    <tr>\n",
       "      <th>1</th>\n",
       "      <td>1600232400</td>\n",
       "      <td>1620968400</td>\n",
       "    </tr>\n",
       "    <tr>\n",
       "      <th>2</th>\n",
       "      <td>1597813200</td>\n",
       "      <td>1597899600</td>\n",
       "    </tr>\n",
       "    <tr>\n",
       "      <th>3</th>\n",
       "      <td>1606111200</td>\n",
       "      <td>1606716000</td>\n",
       "    </tr>\n",
       "    <tr>\n",
       "      <th>4</th>\n",
       "      <td>1601960400</td>\n",
       "      <td>1602046800</td>\n",
       "    </tr>\n",
       "  </tbody>\n",
       "</table>\n",
       "</div>"
      ],
      "text/plain": [
       "   start_date_int  end_date_int\n",
       "0      1607925600    1609394400\n",
       "1      1600232400    1620968400\n",
       "2      1597813200    1597899600\n",
       "3      1606111200    1606716000\n",
       "4      1601960400    1602046800"
      ]
     },
     "execution_count": 84,
     "metadata": {},
     "output_type": "execute_result"
    }
   ],
   "source": [
    "# Utilizamos una función que nos ayude a transformar las fechas a entero\n",
    "def date2int(input_date):\n",
    "    date = time.strptime(input_date, \"%Y-%m-%d\")\n",
    "    sec = int(time.mktime(date))\n",
    "    return sec\n",
    "# Aplicamos la función al DataFrame auxiliar\n",
    "df_aux['start_date_int'] = df_aux['start_date_str'].apply(date2int)\n",
    "df_aux['end_date_int'] = df_aux['end_date_str'].apply(date2int)\n",
    "# Eliminamos las columnas que ya no se ocupan:\n",
    "df_aux.drop(['end_date_str', 'start_date_str'], axis=1, inplace=True)\n",
    "# Vemos los cambios\n",
    "df_aux[['start_date_int','end_date_int']].head()"
   ]
  },
  {
   "cell_type": "markdown",
   "id": "c19057b4-e7be-4e08-baaf-f46ba1de5695",
   "metadata": {},
   "source": [
    "#### Incluimos los camibos realizados de las fechas al DataFrame original"
   ]
  },
  {
   "cell_type": "code",
   "execution_count": 85,
   "id": "e1ac9100-a150-463b-95e9-304affa5b514",
   "metadata": {},
   "outputs": [
    {
     "data": {
      "text/html": [
       "<div>\n",
       "<style scoped>\n",
       "    .dataframe tbody tr th:only-of-type {\n",
       "        vertical-align: middle;\n",
       "    }\n",
       "\n",
       "    .dataframe tbody tr th {\n",
       "        vertical-align: top;\n",
       "    }\n",
       "\n",
       "    .dataframe thead th {\n",
       "        text-align: right;\n",
       "    }\n",
       "</style>\n",
       "<table border=\"1\" class=\"dataframe\">\n",
       "  <thead>\n",
       "    <tr style=\"text-align: right;\">\n",
       "      <th></th>\n",
       "      <th>Unnamed: 0</th>\n",
       "      <th>id</th>\n",
       "      <th>ad_type</th>\n",
       "      <th>start_date</th>\n",
       "      <th>end_date</th>\n",
       "      <th>lat</th>\n",
       "      <th>lon</th>\n",
       "      <th>l1</th>\n",
       "      <th>l2</th>\n",
       "      <th>l3</th>\n",
       "      <th>...</th>\n",
       "      <th>surface_total</th>\n",
       "      <th>surface_covered</th>\n",
       "      <th>price</th>\n",
       "      <th>currency</th>\n",
       "      <th>price_period</th>\n",
       "      <th>title</th>\n",
       "      <th>description</th>\n",
       "      <th>property_type</th>\n",
       "      <th>operation_type</th>\n",
       "      <th>geometry</th>\n",
       "    </tr>\n",
       "  </thead>\n",
       "  <tbody>\n",
       "    <tr>\n",
       "      <th>0</th>\n",
       "      <td>861131</td>\n",
       "      <td>CScTjaFiP6yCzS8tFX0ZVA==</td>\n",
       "      <td>Propiedad</td>\n",
       "      <td>1607925600</td>\n",
       "      <td>1609394400</td>\n",
       "      <td>6.203000</td>\n",
       "      <td>-75.572000</td>\n",
       "      <td>Colombia</td>\n",
       "      <td>Antioquia</td>\n",
       "      <td>Medellín</td>\n",
       "      <td>...</td>\n",
       "      <td>NaN</td>\n",
       "      <td>NaN</td>\n",
       "      <td>1</td>\n",
       "      <td>COP</td>\n",
       "      <td>NaN</td>\n",
       "      <td>Hermosa Mansión En El Poblado. Área Construida...</td>\n",
       "      <td>&lt;b&gt;Hermosa Mansión En El Poblado. Área Constru...</td>\n",
       "      <td>Casa</td>\n",
       "      <td>Venta</td>\n",
       "      <td>POINT (-75.572 6.203)</td>\n",
       "    </tr>\n",
       "    <tr>\n",
       "      <th>1</th>\n",
       "      <td>200972</td>\n",
       "      <td>DlCxox9+FuugkxS2kBVfJg==</td>\n",
       "      <td>Propiedad</td>\n",
       "      <td>1600232400</td>\n",
       "      <td>1620968400</td>\n",
       "      <td>4.722748</td>\n",
       "      <td>-74.073115</td>\n",
       "      <td>Colombia</td>\n",
       "      <td>Cundinamarca</td>\n",
       "      <td>Bogotá D.C</td>\n",
       "      <td>...</td>\n",
       "      <td>NaN</td>\n",
       "      <td>NaN</td>\n",
       "      <td>0</td>\n",
       "      <td>COP</td>\n",
       "      <td>NaN</td>\n",
       "      <td>APARTAMENTO EN VENTA, BOGOTA-CIUDAD JARDIN NORTE</td>\n",
       "      <td>Venta apartamento en piso 16 con vista exterio...</td>\n",
       "      <td>Apartamento</td>\n",
       "      <td>Venta</td>\n",
       "      <td>POINT (-74.0731146 4.7227485)</td>\n",
       "    </tr>\n",
       "    <tr>\n",
       "      <th>2</th>\n",
       "      <td>554622</td>\n",
       "      <td>yitN1AigL45gh/K2YSF8rw==</td>\n",
       "      <td>Propiedad</td>\n",
       "      <td>1597813200</td>\n",
       "      <td>1597899600</td>\n",
       "      <td>4.709000</td>\n",
       "      <td>-74.030000</td>\n",
       "      <td>Colombia</td>\n",
       "      <td>Cundinamarca</td>\n",
       "      <td>Bogotá D.C</td>\n",
       "      <td>...</td>\n",
       "      <td>NaN</td>\n",
       "      <td>NaN</td>\n",
       "      <td>0</td>\n",
       "      <td>COP</td>\n",
       "      <td>NaN</td>\n",
       "      <td>Apartamento En Venta En Bogota Bella Suiza Cod...</td>\n",
       "      <td>Al entrar a este bonito apartamento interior e...</td>\n",
       "      <td>Casa</td>\n",
       "      <td>Venta</td>\n",
       "      <td>POINT (-74.03 4.709)</td>\n",
       "    </tr>\n",
       "    <tr>\n",
       "      <th>3</th>\n",
       "      <td>540321</td>\n",
       "      <td>hELQ9njwODbLMpATXieRdQ==</td>\n",
       "      <td>Propiedad</td>\n",
       "      <td>1606111200</td>\n",
       "      <td>1606716000</td>\n",
       "      <td>NaN</td>\n",
       "      <td>NaN</td>\n",
       "      <td>Colombia</td>\n",
       "      <td>Santander</td>\n",
       "      <td>Bucaramanga</td>\n",
       "      <td>...</td>\n",
       "      <td>NaN</td>\n",
       "      <td>NaN</td>\n",
       "      <td>1</td>\n",
       "      <td>COP</td>\n",
       "      <td>NaN</td>\n",
       "      <td>SE VENDE LOCAL COMERCIAL EN CABECERA DEL LLANO...</td>\n",
       "      <td>Se encuentra ubicado en el sector de la Cabece...</td>\n",
       "      <td>Otro</td>\n",
       "      <td>Venta</td>\n",
       "      <td>POINT EMPTY</td>\n",
       "    </tr>\n",
       "    <tr>\n",
       "      <th>4</th>\n",
       "      <td>448920</td>\n",
       "      <td>aBCtKT7LDzt2CxJQ+gVFEA==</td>\n",
       "      <td>Propiedad</td>\n",
       "      <td>1601960400</td>\n",
       "      <td>1602046800</td>\n",
       "      <td>NaN</td>\n",
       "      <td>NaN</td>\n",
       "      <td>Colombia</td>\n",
       "      <td>Antioquia</td>\n",
       "      <td>Medellín</td>\n",
       "      <td>...</td>\n",
       "      <td>NaN</td>\n",
       "      <td>NaN</td>\n",
       "      <td>0</td>\n",
       "      <td>COP</td>\n",
       "      <td>NaN</td>\n",
       "      <td>Apartamento en Venta Ubicado en ITAGUI</td>\n",
       "      <td>Codigo Inmueble 4302 Apartamento con 3 habitac...</td>\n",
       "      <td>Apartamento</td>\n",
       "      <td>Venta</td>\n",
       "      <td>POINT EMPTY</td>\n",
       "    </tr>\n",
       "  </tbody>\n",
       "</table>\n",
       "<p>5 rows × 26 columns</p>\n",
       "</div>"
      ],
      "text/plain": [
       "   Unnamed: 0                        id    ad_type  start_date    end_date  \\\n",
       "0      861131  CScTjaFiP6yCzS8tFX0ZVA==  Propiedad  1607925600  1609394400   \n",
       "1      200972  DlCxox9+FuugkxS2kBVfJg==  Propiedad  1600232400  1620968400   \n",
       "2      554622  yitN1AigL45gh/K2YSF8rw==  Propiedad  1597813200  1597899600   \n",
       "3      540321  hELQ9njwODbLMpATXieRdQ==  Propiedad  1606111200  1606716000   \n",
       "4      448920  aBCtKT7LDzt2CxJQ+gVFEA==  Propiedad  1601960400  1602046800   \n",
       "\n",
       "        lat        lon        l1            l2           l3  ...  \\\n",
       "0  6.203000 -75.572000  Colombia     Antioquia     Medellín  ...   \n",
       "1  4.722748 -74.073115  Colombia  Cundinamarca   Bogotá D.C  ...   \n",
       "2  4.709000 -74.030000  Colombia  Cundinamarca   Bogotá D.C  ...   \n",
       "3       NaN        NaN  Colombia     Santander  Bucaramanga  ...   \n",
       "4       NaN        NaN  Colombia     Antioquia     Medellín  ...   \n",
       "\n",
       "  surface_total surface_covered price  currency  price_period  \\\n",
       "0           NaN             NaN     1       COP           NaN   \n",
       "1           NaN             NaN     0       COP           NaN   \n",
       "2           NaN             NaN     0       COP           NaN   \n",
       "3           NaN             NaN     1       COP           NaN   \n",
       "4           NaN             NaN     0       COP           NaN   \n",
       "\n",
       "                                               title  \\\n",
       "0  Hermosa Mansión En El Poblado. Área Construida...   \n",
       "1   APARTAMENTO EN VENTA, BOGOTA-CIUDAD JARDIN NORTE   \n",
       "2  Apartamento En Venta En Bogota Bella Suiza Cod...   \n",
       "3  SE VENDE LOCAL COMERCIAL EN CABECERA DEL LLANO...   \n",
       "4             Apartamento en Venta Ubicado en ITAGUI   \n",
       "\n",
       "                                         description  property_type  \\\n",
       "0  <b>Hermosa Mansión En El Poblado. Área Constru...           Casa   \n",
       "1  Venta apartamento en piso 16 con vista exterio...    Apartamento   \n",
       "2  Al entrar a este bonito apartamento interior e...           Casa   \n",
       "3  Se encuentra ubicado en el sector de la Cabece...           Otro   \n",
       "4  Codigo Inmueble 4302 Apartamento con 3 habitac...    Apartamento   \n",
       "\n",
       "   operation_type                       geometry  \n",
       "0           Venta          POINT (-75.572 6.203)  \n",
       "1           Venta  POINT (-74.0731146 4.7227485)  \n",
       "2           Venta           POINT (-74.03 4.709)  \n",
       "3           Venta                    POINT EMPTY  \n",
       "4           Venta                    POINT EMPTY  \n",
       "\n",
       "[5 rows x 26 columns]"
      ]
     },
     "execution_count": 85,
     "metadata": {},
     "output_type": "execute_result"
    }
   ],
   "source": [
    "# Eliminamos las columnas \n",
    "data['start_date'] = df_aux['start_date_int']\n",
    "data['end_date'] = df_aux['end_date_int']\n",
    "data.head()"
   ]
  },
  {
   "cell_type": "markdown",
   "id": "7b32f30d-8517-400c-848c-43e203039bd6",
   "metadata": {},
   "source": [
    "### d) Columnas constantes y Id´s\n",
    "\n",
    "A continuación se mostrará que las columnas *_'ad_type', 'l1' y 'operation_type'_* tienen valores constantes (siempre se repiten en las 197,549 filas del DataFrame) y por tal motivo se eliminarán del DataFrame, ya que no aportan valor al análisis."
   ]
  },
  {
   "cell_type": "code",
   "execution_count": 86,
   "id": "f9daf082-34c9-460c-8c47-61e65b494842",
   "metadata": {},
   "outputs": [
    {
     "data": {
      "text/plain": [
       "Propiedad    197549\n",
       "Name: ad_type, dtype: int64"
      ]
     },
     "execution_count": 86,
     "metadata": {},
     "output_type": "execute_result"
    }
   ],
   "source": [
    "# ad_type\n",
    "data['ad_type'].value_counts()"
   ]
  },
  {
   "cell_type": "code",
   "execution_count": 87,
   "id": "03129c87-060d-4ba4-8d39-413080d3b1f8",
   "metadata": {},
   "outputs": [
    {
     "data": {
      "text/plain": [
       "Colombia    197549\n",
       "Name: l1, dtype: int64"
      ]
     },
     "execution_count": 87,
     "metadata": {},
     "output_type": "execute_result"
    }
   ],
   "source": [
    "# l1\n",
    "data['l1'].value_counts()"
   ]
  },
  {
   "cell_type": "code",
   "execution_count": 88,
   "id": "cbd886b8-6bf6-45ac-a615-190bee45526d",
   "metadata": {},
   "outputs": [
    {
     "data": {
      "text/plain": [
       "Venta    197549\n",
       "Name: operation_type, dtype: int64"
      ]
     },
     "execution_count": 88,
     "metadata": {},
     "output_type": "execute_result"
    }
   ],
   "source": [
    "# operation_type\n",
    "data['operation_type'].value_counts() "
   ]
  },
  {
   "cell_type": "markdown",
   "id": "8b639888-8a0e-4b51-8b33-793b10ad1a8f",
   "metadata": {},
   "source": [
    "También las columnas de *_'Unnamed: 0' y 'id'_* se eliminarán, ya que no aportan valor a la predicción que se trata de hacer."
   ]
  },
  {
   "cell_type": "markdown",
   "id": "31af77a7-fb5e-4997-a75b-05b063d6ccbb",
   "metadata": {},
   "source": [
    "#### Eliminación de columnas constantes y id´s"
   ]
  },
  {
   "cell_type": "code",
   "execution_count": 89,
   "id": "5f23cbdf-9b6c-4d2a-bbdf-8fbd8f4f2415",
   "metadata": {},
   "outputs": [
    {
     "data": {
      "text/html": [
       "<div>\n",
       "<style scoped>\n",
       "    .dataframe tbody tr th:only-of-type {\n",
       "        vertical-align: middle;\n",
       "    }\n",
       "\n",
       "    .dataframe tbody tr th {\n",
       "        vertical-align: top;\n",
       "    }\n",
       "\n",
       "    .dataframe thead th {\n",
       "        text-align: right;\n",
       "    }\n",
       "</style>\n",
       "<table border=\"1\" class=\"dataframe\">\n",
       "  <thead>\n",
       "    <tr style=\"text-align: right;\">\n",
       "      <th></th>\n",
       "      <th>start_date</th>\n",
       "      <th>end_date</th>\n",
       "      <th>lat</th>\n",
       "      <th>lon</th>\n",
       "      <th>l2</th>\n",
       "      <th>l3</th>\n",
       "      <th>l4</th>\n",
       "      <th>l5</th>\n",
       "      <th>l6</th>\n",
       "      <th>rooms</th>\n",
       "      <th>...</th>\n",
       "      <th>bathrooms</th>\n",
       "      <th>surface_total</th>\n",
       "      <th>surface_covered</th>\n",
       "      <th>price</th>\n",
       "      <th>currency</th>\n",
       "      <th>price_period</th>\n",
       "      <th>title</th>\n",
       "      <th>description</th>\n",
       "      <th>property_type</th>\n",
       "      <th>geometry</th>\n",
       "    </tr>\n",
       "  </thead>\n",
       "  <tbody>\n",
       "    <tr>\n",
       "      <th>0</th>\n",
       "      <td>1607925600</td>\n",
       "      <td>1609394400</td>\n",
       "      <td>6.203000</td>\n",
       "      <td>-75.572000</td>\n",
       "      <td>Antioquia</td>\n",
       "      <td>Medellín</td>\n",
       "      <td>El Poblado</td>\n",
       "      <td>NaN</td>\n",
       "      <td>NaN</td>\n",
       "      <td>NaN</td>\n",
       "      <td>...</td>\n",
       "      <td>4.0</td>\n",
       "      <td>NaN</td>\n",
       "      <td>NaN</td>\n",
       "      <td>1</td>\n",
       "      <td>COP</td>\n",
       "      <td>NaN</td>\n",
       "      <td>Hermosa Mansión En El Poblado. Área Construida...</td>\n",
       "      <td>&lt;b&gt;Hermosa Mansión En El Poblado. Área Constru...</td>\n",
       "      <td>Casa</td>\n",
       "      <td>POINT (-75.572 6.203)</td>\n",
       "    </tr>\n",
       "    <tr>\n",
       "      <th>1</th>\n",
       "      <td>1600232400</td>\n",
       "      <td>1620968400</td>\n",
       "      <td>4.722748</td>\n",
       "      <td>-74.073115</td>\n",
       "      <td>Cundinamarca</td>\n",
       "      <td>Bogotá D.C</td>\n",
       "      <td>Zona Noroccidental</td>\n",
       "      <td>Suba</td>\n",
       "      <td>NaN</td>\n",
       "      <td>NaN</td>\n",
       "      <td>...</td>\n",
       "      <td>2.0</td>\n",
       "      <td>NaN</td>\n",
       "      <td>NaN</td>\n",
       "      <td>0</td>\n",
       "      <td>COP</td>\n",
       "      <td>NaN</td>\n",
       "      <td>APARTAMENTO EN VENTA, BOGOTA-CIUDAD JARDIN NORTE</td>\n",
       "      <td>Venta apartamento en piso 16 con vista exterio...</td>\n",
       "      <td>Apartamento</td>\n",
       "      <td>POINT (-74.0731146 4.7227485)</td>\n",
       "    </tr>\n",
       "    <tr>\n",
       "      <th>2</th>\n",
       "      <td>1597813200</td>\n",
       "      <td>1597899600</td>\n",
       "      <td>4.709000</td>\n",
       "      <td>-74.030000</td>\n",
       "      <td>Cundinamarca</td>\n",
       "      <td>Bogotá D.C</td>\n",
       "      <td>Zona Norte</td>\n",
       "      <td>Usaquén</td>\n",
       "      <td>Bella Suiza</td>\n",
       "      <td>NaN</td>\n",
       "      <td>...</td>\n",
       "      <td>2.0</td>\n",
       "      <td>NaN</td>\n",
       "      <td>NaN</td>\n",
       "      <td>0</td>\n",
       "      <td>COP</td>\n",
       "      <td>NaN</td>\n",
       "      <td>Apartamento En Venta En Bogota Bella Suiza Cod...</td>\n",
       "      <td>Al entrar a este bonito apartamento interior e...</td>\n",
       "      <td>Casa</td>\n",
       "      <td>POINT (-74.03 4.709)</td>\n",
       "    </tr>\n",
       "    <tr>\n",
       "      <th>3</th>\n",
       "      <td>1606111200</td>\n",
       "      <td>1606716000</td>\n",
       "      <td>NaN</td>\n",
       "      <td>NaN</td>\n",
       "      <td>Santander</td>\n",
       "      <td>Bucaramanga</td>\n",
       "      <td>NaN</td>\n",
       "      <td>NaN</td>\n",
       "      <td>NaN</td>\n",
       "      <td>NaN</td>\n",
       "      <td>...</td>\n",
       "      <td>1.0</td>\n",
       "      <td>NaN</td>\n",
       "      <td>NaN</td>\n",
       "      <td>1</td>\n",
       "      <td>COP</td>\n",
       "      <td>NaN</td>\n",
       "      <td>SE VENDE LOCAL COMERCIAL EN CABECERA DEL LLANO...</td>\n",
       "      <td>Se encuentra ubicado en el sector de la Cabece...</td>\n",
       "      <td>Otro</td>\n",
       "      <td>POINT EMPTY</td>\n",
       "    </tr>\n",
       "    <tr>\n",
       "      <th>4</th>\n",
       "      <td>1601960400</td>\n",
       "      <td>1602046800</td>\n",
       "      <td>NaN</td>\n",
       "      <td>NaN</td>\n",
       "      <td>Antioquia</td>\n",
       "      <td>Medellín</td>\n",
       "      <td>NaN</td>\n",
       "      <td>NaN</td>\n",
       "      <td>NaN</td>\n",
       "      <td>NaN</td>\n",
       "      <td>...</td>\n",
       "      <td>2.0</td>\n",
       "      <td>NaN</td>\n",
       "      <td>NaN</td>\n",
       "      <td>0</td>\n",
       "      <td>COP</td>\n",
       "      <td>NaN</td>\n",
       "      <td>Apartamento en Venta Ubicado en ITAGUI</td>\n",
       "      <td>Codigo Inmueble 4302 Apartamento con 3 habitac...</td>\n",
       "      <td>Apartamento</td>\n",
       "      <td>POINT EMPTY</td>\n",
       "    </tr>\n",
       "  </tbody>\n",
       "</table>\n",
       "<p>5 rows × 21 columns</p>\n",
       "</div>"
      ],
      "text/plain": [
       "   start_date    end_date       lat        lon            l2           l3  \\\n",
       "0  1607925600  1609394400  6.203000 -75.572000     Antioquia     Medellín   \n",
       "1  1600232400  1620968400  4.722748 -74.073115  Cundinamarca   Bogotá D.C   \n",
       "2  1597813200  1597899600  4.709000 -74.030000  Cundinamarca   Bogotá D.C   \n",
       "3  1606111200  1606716000       NaN        NaN     Santander  Bucaramanga   \n",
       "4  1601960400  1602046800       NaN        NaN     Antioquia     Medellín   \n",
       "\n",
       "                   l4       l5           l6  rooms  ...  bathrooms  \\\n",
       "0          El Poblado      NaN          NaN    NaN  ...        4.0   \n",
       "1  Zona Noroccidental     Suba          NaN    NaN  ...        2.0   \n",
       "2          Zona Norte  Usaquén  Bella Suiza    NaN  ...        2.0   \n",
       "3                 NaN      NaN          NaN    NaN  ...        1.0   \n",
       "4                 NaN      NaN          NaN    NaN  ...        2.0   \n",
       "\n",
       "   surface_total  surface_covered  price  currency price_period  \\\n",
       "0            NaN              NaN      1       COP          NaN   \n",
       "1            NaN              NaN      0       COP          NaN   \n",
       "2            NaN              NaN      0       COP          NaN   \n",
       "3            NaN              NaN      1       COP          NaN   \n",
       "4            NaN              NaN      0       COP          NaN   \n",
       "\n",
       "                                               title  \\\n",
       "0  Hermosa Mansión En El Poblado. Área Construida...   \n",
       "1   APARTAMENTO EN VENTA, BOGOTA-CIUDAD JARDIN NORTE   \n",
       "2  Apartamento En Venta En Bogota Bella Suiza Cod...   \n",
       "3  SE VENDE LOCAL COMERCIAL EN CABECERA DEL LLANO...   \n",
       "4             Apartamento en Venta Ubicado en ITAGUI   \n",
       "\n",
       "                                         description property_type  \\\n",
       "0  <b>Hermosa Mansión En El Poblado. Área Constru...          Casa   \n",
       "1  Venta apartamento en piso 16 con vista exterio...   Apartamento   \n",
       "2  Al entrar a este bonito apartamento interior e...          Casa   \n",
       "3  Se encuentra ubicado en el sector de la Cabece...          Otro   \n",
       "4  Codigo Inmueble 4302 Apartamento con 3 habitac...   Apartamento   \n",
       "\n",
       "                        geometry  \n",
       "0          POINT (-75.572 6.203)  \n",
       "1  POINT (-74.0731146 4.7227485)  \n",
       "2           POINT (-74.03 4.709)  \n",
       "3                    POINT EMPTY  \n",
       "4                    POINT EMPTY  \n",
       "\n",
       "[5 rows x 21 columns]"
      ]
     },
     "execution_count": 89,
     "metadata": {},
     "output_type": "execute_result"
    }
   ],
   "source": [
    "# Eliminamos las columnas 'ad_type', 'l1' y 'operation_type':\n",
    "data.drop(['ad_type', 'l1', 'operation_type','Unnamed: 0','id'], axis=1, inplace=True)\n",
    "data.head()"
   ]
  },
  {
   "cell_type": "markdown",
   "id": "fd37cc20-e92e-42a7-a630-3a77c06fbd85",
   "metadata": {},
   "source": [
    "#### Valores nulos actualizados"
   ]
  },
  {
   "cell_type": "code",
   "execution_count": 90,
   "id": "b68d116e-7c1c-4570-bcd0-d36a9a8e0d84",
   "metadata": {},
   "outputs": [
    {
     "name": "stdout",
     "output_type": "stream",
     "text": [
      "start_date: 0\n",
      "end_date: 0\n",
      "lat: 49498\n",
      "lon: 49498\n",
      "l2: 0\n",
      "l3: 11032\n",
      "l4: 152182\n",
      "l5: 170140\n",
      "l6: 190682\n",
      "rooms: 170012\n",
      "bedrooms: 157024\n",
      "bathrooms: 41082\n",
      "surface_total: 190575\n",
      "surface_covered: 187747\n",
      "price: 0\n",
      "currency: 67\n",
      "price_period: 161578\n",
      "title: 1\n",
      "description: 121\n",
      "property_type: 0\n",
      "geometry: 0\n"
     ]
    }
   ],
   "source": [
    "lista = data.isnull().sum().tolist()\n",
    "nom = data.columns.tolist()\n",
    "nom\n",
    "dict_from_list = dict(zip(nom, lista))\n",
    "for clave, valor in dict_from_list.items():\n",
    "    print(f'{clave}: {valor}')"
   ]
  },
  {
   "cell_type": "markdown",
   "id": "68b98190-b77a-4c03-aede-c8c8e866d6e1",
   "metadata": {},
   "source": [
    "#### Número de renglones y columnas actualizadas"
   ]
  },
  {
   "cell_type": "code",
   "execution_count": 91,
   "id": "6d76fb4e-0dfa-4f82-a18b-fc045fdda687",
   "metadata": {},
   "outputs": [
    {
     "data": {
      "text/plain": [
       "(197549, 21)"
      ]
     },
     "execution_count": 91,
     "metadata": {},
     "output_type": "execute_result"
    }
   ],
   "source": [
    "data.shape"
   ]
  },
  {
   "cell_type": "markdown",
   "id": "dfed7752-030f-4c7c-a8a9-9314c36f4078",
   "metadata": {},
   "source": [
    "### e) Imputación de valores de latitud y Longitud"
   ]
  },
  {
   "cell_type": "markdown",
   "id": "5a0cbc05-ce5f-4076-bbec-a0c64fd0898a",
   "metadata": {},
   "source": [
    "#### Cantidad de valores faltantes\n",
    "\n",
    "Contando la cantidad de valores faltantes en la columna de 'lat' y 'lon' podemos ver que son demaciados, así que vamos a obtener los que hagan falta de la columna 'geometry'. Pero primero verificaremos que no haya valores faltantes."
   ]
  },
  {
   "cell_type": "code",
   "execution_count": 92,
   "id": "ed4f2a20-e640-484d-8a4d-0ceee07a61fd",
   "metadata": {},
   "outputs": [
    {
     "data": {
      "text/plain": [
       "lat         49498\n",
       "lon         49498\n",
       "geometry        0\n",
       "dtype: int64"
      ]
     },
     "execution_count": 92,
     "metadata": {},
     "output_type": "execute_result"
    }
   ],
   "source": [
    "# Cantidad de valores faltantes de las columnas 'lat','lon' y 'geometry':\n",
    "data[['lat','lon','geometry']].isnull().sum()"
   ]
  },
  {
   "cell_type": "markdown",
   "id": "ee8c79b6-70bd-472c-9449-51dbce1ddbce",
   "metadata": {},
   "source": [
    "Haciendo un análisis rapido se observa que aparentemente no hay valores faltantes en la columna 'geometry', pero esto no es así."
   ]
  },
  {
   "cell_type": "markdown",
   "id": "e2775fc6-034e-4ed5-b007-ca559f900f51",
   "metadata": {},
   "source": [
    "#### Eliminamos la columna 'geometry'\n",
    "\n",
    "Analizarémos un poco más esta columna para ver si podemos rescatar valores de la columna 'geometry'."
   ]
  },
  {
   "cell_type": "code",
   "execution_count": 93,
   "id": "e62fc6a9-6b87-419a-996c-9d42a0da6296",
   "metadata": {},
   "outputs": [
    {
     "name": "stdout",
     "output_type": "stream",
     "text": [
      "Valores faltantes en la columna \"geometry\": 49498\n"
     ]
    }
   ],
   "source": [
    "val = data['geometry'][data['geometry'] == 'POINT EMPTY'].count()\n",
    "print(f'Valores faltantes en la columna \"geometry\": {val}')"
   ]
  },
  {
   "cell_type": "markdown",
   "id": "aa9fb297-a8ce-47f8-a0ce-9942f680dcbb",
   "metadata": {},
   "source": [
    "Facilmente vemos que hay la misma cantidad de valores faltantes en las columnas de *_'lat','lon' y 'geometry'_*. "
   ]
  },
  {
   "cell_type": "code",
   "execution_count": 94,
   "id": "19fd0de5-5cc8-4fac-8f4a-785399fb665d",
   "metadata": {},
   "outputs": [
    {
     "data": {
      "text/html": [
       "<div>\n",
       "<style scoped>\n",
       "    .dataframe tbody tr th:only-of-type {\n",
       "        vertical-align: middle;\n",
       "    }\n",
       "\n",
       "    .dataframe tbody tr th {\n",
       "        vertical-align: top;\n",
       "    }\n",
       "\n",
       "    .dataframe thead th {\n",
       "        text-align: right;\n",
       "    }\n",
       "</style>\n",
       "<table border=\"1\" class=\"dataframe\">\n",
       "  <thead>\n",
       "    <tr style=\"text-align: right;\">\n",
       "      <th></th>\n",
       "      <th>lat</th>\n",
       "      <th>lon</th>\n",
       "      <th>geometry</th>\n",
       "    </tr>\n",
       "  </thead>\n",
       "  <tbody>\n",
       "    <tr>\n",
       "      <th>3</th>\n",
       "      <td>NaN</td>\n",
       "      <td>NaN</td>\n",
       "      <td>POINT EMPTY</td>\n",
       "    </tr>\n",
       "    <tr>\n",
       "      <th>4</th>\n",
       "      <td>NaN</td>\n",
       "      <td>NaN</td>\n",
       "      <td>POINT EMPTY</td>\n",
       "    </tr>\n",
       "    <tr>\n",
       "      <th>9</th>\n",
       "      <td>NaN</td>\n",
       "      <td>NaN</td>\n",
       "      <td>POINT EMPTY</td>\n",
       "    </tr>\n",
       "    <tr>\n",
       "      <th>11</th>\n",
       "      <td>NaN</td>\n",
       "      <td>NaN</td>\n",
       "      <td>POINT EMPTY</td>\n",
       "    </tr>\n",
       "    <tr>\n",
       "      <th>12</th>\n",
       "      <td>NaN</td>\n",
       "      <td>NaN</td>\n",
       "      <td>POINT EMPTY</td>\n",
       "    </tr>\n",
       "    <tr>\n",
       "      <th>...</th>\n",
       "      <td>...</td>\n",
       "      <td>...</td>\n",
       "      <td>...</td>\n",
       "    </tr>\n",
       "    <tr>\n",
       "      <th>197532</th>\n",
       "      <td>NaN</td>\n",
       "      <td>NaN</td>\n",
       "      <td>POINT EMPTY</td>\n",
       "    </tr>\n",
       "    <tr>\n",
       "      <th>197533</th>\n",
       "      <td>NaN</td>\n",
       "      <td>NaN</td>\n",
       "      <td>POINT EMPTY</td>\n",
       "    </tr>\n",
       "    <tr>\n",
       "      <th>197537</th>\n",
       "      <td>NaN</td>\n",
       "      <td>NaN</td>\n",
       "      <td>POINT EMPTY</td>\n",
       "    </tr>\n",
       "    <tr>\n",
       "      <th>197538</th>\n",
       "      <td>NaN</td>\n",
       "      <td>NaN</td>\n",
       "      <td>POINT EMPTY</td>\n",
       "    </tr>\n",
       "    <tr>\n",
       "      <th>197541</th>\n",
       "      <td>NaN</td>\n",
       "      <td>NaN</td>\n",
       "      <td>POINT EMPTY</td>\n",
       "    </tr>\n",
       "  </tbody>\n",
       "</table>\n",
       "<p>49498 rows × 3 columns</p>\n",
       "</div>"
      ],
      "text/plain": [
       "        lat  lon     geometry\n",
       "3       NaN  NaN  POINT EMPTY\n",
       "4       NaN  NaN  POINT EMPTY\n",
       "9       NaN  NaN  POINT EMPTY\n",
       "11      NaN  NaN  POINT EMPTY\n",
       "12      NaN  NaN  POINT EMPTY\n",
       "...     ...  ...          ...\n",
       "197532  NaN  NaN  POINT EMPTY\n",
       "197533  NaN  NaN  POINT EMPTY\n",
       "197537  NaN  NaN  POINT EMPTY\n",
       "197538  NaN  NaN  POINT EMPTY\n",
       "197541  NaN  NaN  POINT EMPTY\n",
       "\n",
       "[49498 rows x 3 columns]"
      ]
     },
     "execution_count": 94,
     "metadata": {},
     "output_type": "execute_result"
    }
   ],
   "source": [
    "data[['lat','lon','geometry']][data['geometry'] == 'POINT EMPTY']"
   ]
  },
  {
   "cell_type": "markdown",
   "id": "a4f4d750-a209-405d-894d-e80618d8710e",
   "metadata": {},
   "source": [
    "Observamos rápidamente que la columna *_'geometry'_* no nos sirve de nada y procedemos a borrarla ya que tiene los mismos valores faltantes que *_'lat' y 'lon'*. "
   ]
  },
  {
   "cell_type": "code",
   "execution_count": 95,
   "id": "f21485d6-dad9-43f7-a5c5-c2398e4c8319",
   "metadata": {},
   "outputs": [
    {
     "data": {
      "text/html": [
       "<div>\n",
       "<style scoped>\n",
       "    .dataframe tbody tr th:only-of-type {\n",
       "        vertical-align: middle;\n",
       "    }\n",
       "\n",
       "    .dataframe tbody tr th {\n",
       "        vertical-align: top;\n",
       "    }\n",
       "\n",
       "    .dataframe thead th {\n",
       "        text-align: right;\n",
       "    }\n",
       "</style>\n",
       "<table border=\"1\" class=\"dataframe\">\n",
       "  <thead>\n",
       "    <tr style=\"text-align: right;\">\n",
       "      <th></th>\n",
       "      <th>start_date</th>\n",
       "      <th>end_date</th>\n",
       "      <th>lat</th>\n",
       "      <th>lon</th>\n",
       "      <th>l2</th>\n",
       "      <th>l3</th>\n",
       "      <th>l4</th>\n",
       "      <th>l5</th>\n",
       "      <th>l6</th>\n",
       "      <th>rooms</th>\n",
       "      <th>bedrooms</th>\n",
       "      <th>bathrooms</th>\n",
       "      <th>surface_total</th>\n",
       "      <th>surface_covered</th>\n",
       "      <th>price</th>\n",
       "      <th>currency</th>\n",
       "      <th>price_period</th>\n",
       "      <th>title</th>\n",
       "      <th>description</th>\n",
       "      <th>property_type</th>\n",
       "    </tr>\n",
       "  </thead>\n",
       "  <tbody>\n",
       "    <tr>\n",
       "      <th>0</th>\n",
       "      <td>1607925600</td>\n",
       "      <td>1609394400</td>\n",
       "      <td>6.203000</td>\n",
       "      <td>-75.572000</td>\n",
       "      <td>Antioquia</td>\n",
       "      <td>Medellín</td>\n",
       "      <td>El Poblado</td>\n",
       "      <td>NaN</td>\n",
       "      <td>NaN</td>\n",
       "      <td>NaN</td>\n",
       "      <td>4.0</td>\n",
       "      <td>4.0</td>\n",
       "      <td>NaN</td>\n",
       "      <td>NaN</td>\n",
       "      <td>1</td>\n",
       "      <td>COP</td>\n",
       "      <td>NaN</td>\n",
       "      <td>Hermosa Mansión En El Poblado. Área Construida...</td>\n",
       "      <td>&lt;b&gt;Hermosa Mansión En El Poblado. Área Constru...</td>\n",
       "      <td>Casa</td>\n",
       "    </tr>\n",
       "    <tr>\n",
       "      <th>1</th>\n",
       "      <td>1600232400</td>\n",
       "      <td>1620968400</td>\n",
       "      <td>4.722748</td>\n",
       "      <td>-74.073115</td>\n",
       "      <td>Cundinamarca</td>\n",
       "      <td>Bogotá D.C</td>\n",
       "      <td>Zona Noroccidental</td>\n",
       "      <td>Suba</td>\n",
       "      <td>NaN</td>\n",
       "      <td>NaN</td>\n",
       "      <td>3.0</td>\n",
       "      <td>2.0</td>\n",
       "      <td>NaN</td>\n",
       "      <td>NaN</td>\n",
       "      <td>0</td>\n",
       "      <td>COP</td>\n",
       "      <td>NaN</td>\n",
       "      <td>APARTAMENTO EN VENTA, BOGOTA-CIUDAD JARDIN NORTE</td>\n",
       "      <td>Venta apartamento en piso 16 con vista exterio...</td>\n",
       "      <td>Apartamento</td>\n",
       "    </tr>\n",
       "    <tr>\n",
       "      <th>2</th>\n",
       "      <td>1597813200</td>\n",
       "      <td>1597899600</td>\n",
       "      <td>4.709000</td>\n",
       "      <td>-74.030000</td>\n",
       "      <td>Cundinamarca</td>\n",
       "      <td>Bogotá D.C</td>\n",
       "      <td>Zona Norte</td>\n",
       "      <td>Usaquén</td>\n",
       "      <td>Bella Suiza</td>\n",
       "      <td>NaN</td>\n",
       "      <td>NaN</td>\n",
       "      <td>2.0</td>\n",
       "      <td>NaN</td>\n",
       "      <td>NaN</td>\n",
       "      <td>0</td>\n",
       "      <td>COP</td>\n",
       "      <td>NaN</td>\n",
       "      <td>Apartamento En Venta En Bogota Bella Suiza Cod...</td>\n",
       "      <td>Al entrar a este bonito apartamento interior e...</td>\n",
       "      <td>Casa</td>\n",
       "    </tr>\n",
       "    <tr>\n",
       "      <th>3</th>\n",
       "      <td>1606111200</td>\n",
       "      <td>1606716000</td>\n",
       "      <td>NaN</td>\n",
       "      <td>NaN</td>\n",
       "      <td>Santander</td>\n",
       "      <td>Bucaramanga</td>\n",
       "      <td>NaN</td>\n",
       "      <td>NaN</td>\n",
       "      <td>NaN</td>\n",
       "      <td>NaN</td>\n",
       "      <td>NaN</td>\n",
       "      <td>1.0</td>\n",
       "      <td>NaN</td>\n",
       "      <td>NaN</td>\n",
       "      <td>1</td>\n",
       "      <td>COP</td>\n",
       "      <td>NaN</td>\n",
       "      <td>SE VENDE LOCAL COMERCIAL EN CABECERA DEL LLANO...</td>\n",
       "      <td>Se encuentra ubicado en el sector de la Cabece...</td>\n",
       "      <td>Otro</td>\n",
       "    </tr>\n",
       "    <tr>\n",
       "      <th>4</th>\n",
       "      <td>1601960400</td>\n",
       "      <td>1602046800</td>\n",
       "      <td>NaN</td>\n",
       "      <td>NaN</td>\n",
       "      <td>Antioquia</td>\n",
       "      <td>Medellín</td>\n",
       "      <td>NaN</td>\n",
       "      <td>NaN</td>\n",
       "      <td>NaN</td>\n",
       "      <td>NaN</td>\n",
       "      <td>NaN</td>\n",
       "      <td>2.0</td>\n",
       "      <td>NaN</td>\n",
       "      <td>NaN</td>\n",
       "      <td>0</td>\n",
       "      <td>COP</td>\n",
       "      <td>NaN</td>\n",
       "      <td>Apartamento en Venta Ubicado en ITAGUI</td>\n",
       "      <td>Codigo Inmueble 4302 Apartamento con 3 habitac...</td>\n",
       "      <td>Apartamento</td>\n",
       "    </tr>\n",
       "  </tbody>\n",
       "</table>\n",
       "</div>"
      ],
      "text/plain": [
       "   start_date    end_date       lat        lon            l2           l3  \\\n",
       "0  1607925600  1609394400  6.203000 -75.572000     Antioquia     Medellín   \n",
       "1  1600232400  1620968400  4.722748 -74.073115  Cundinamarca   Bogotá D.C   \n",
       "2  1597813200  1597899600  4.709000 -74.030000  Cundinamarca   Bogotá D.C   \n",
       "3  1606111200  1606716000       NaN        NaN     Santander  Bucaramanga   \n",
       "4  1601960400  1602046800       NaN        NaN     Antioquia     Medellín   \n",
       "\n",
       "                   l4       l5           l6  rooms  bedrooms  bathrooms  \\\n",
       "0          El Poblado      NaN          NaN    NaN       4.0        4.0   \n",
       "1  Zona Noroccidental     Suba          NaN    NaN       3.0        2.0   \n",
       "2          Zona Norte  Usaquén  Bella Suiza    NaN       NaN        2.0   \n",
       "3                 NaN      NaN          NaN    NaN       NaN        1.0   \n",
       "4                 NaN      NaN          NaN    NaN       NaN        2.0   \n",
       "\n",
       "   surface_total  surface_covered  price currency price_period  \\\n",
       "0            NaN              NaN      1      COP          NaN   \n",
       "1            NaN              NaN      0      COP          NaN   \n",
       "2            NaN              NaN      0      COP          NaN   \n",
       "3            NaN              NaN      1      COP          NaN   \n",
       "4            NaN              NaN      0      COP          NaN   \n",
       "\n",
       "                                               title  \\\n",
       "0  Hermosa Mansión En El Poblado. Área Construida...   \n",
       "1   APARTAMENTO EN VENTA, BOGOTA-CIUDAD JARDIN NORTE   \n",
       "2  Apartamento En Venta En Bogota Bella Suiza Cod...   \n",
       "3  SE VENDE LOCAL COMERCIAL EN CABECERA DEL LLANO...   \n",
       "4             Apartamento en Venta Ubicado en ITAGUI   \n",
       "\n",
       "                                         description property_type  \n",
       "0  <b>Hermosa Mansión En El Poblado. Área Constru...          Casa  \n",
       "1  Venta apartamento en piso 16 con vista exterio...   Apartamento  \n",
       "2  Al entrar a este bonito apartamento interior e...          Casa  \n",
       "3  Se encuentra ubicado en el sector de la Cabece...          Otro  \n",
       "4  Codigo Inmueble 4302 Apartamento con 3 habitac...   Apartamento  "
      ]
     },
     "execution_count": 95,
     "metadata": {},
     "output_type": "execute_result"
    }
   ],
   "source": [
    "# Eliminamos la columna 'geometry':\n",
    "data.drop(['geometry'], axis=1, inplace=True)\n",
    "data.head()"
   ]
  },
  {
   "cell_type": "markdown",
   "id": "77080781-6e45-457e-ab7b-51c8222c3a52",
   "metadata": {},
   "source": [
    "#### Busqueda y corrección de Outliers"
   ]
  },
  {
   "cell_type": "code",
   "execution_count": 96,
   "id": "33dafc45-85fd-4ab3-8dfc-14463c286005",
   "metadata": {},
   "outputs": [
    {
     "data": {
      "text/html": [
       "<div>\n",
       "<style scoped>\n",
       "    .dataframe tbody tr th:only-of-type {\n",
       "        vertical-align: middle;\n",
       "    }\n",
       "\n",
       "    .dataframe tbody tr th {\n",
       "        vertical-align: top;\n",
       "    }\n",
       "\n",
       "    .dataframe thead th {\n",
       "        text-align: right;\n",
       "    }\n",
       "</style>\n",
       "<table border=\"1\" class=\"dataframe\">\n",
       "  <thead>\n",
       "    <tr style=\"text-align: right;\">\n",
       "      <th></th>\n",
       "      <th>l2</th>\n",
       "      <th>l3</th>\n",
       "      <th>l4</th>\n",
       "      <th>lat</th>\n",
       "      <th>lon</th>\n",
       "    </tr>\n",
       "  </thead>\n",
       "  <tbody>\n",
       "    <tr>\n",
       "      <th>0</th>\n",
       "      <td>Antioquia</td>\n",
       "      <td>Medellín</td>\n",
       "      <td>El Poblado</td>\n",
       "      <td>6.203000</td>\n",
       "      <td>-75.572000</td>\n",
       "    </tr>\n",
       "    <tr>\n",
       "      <th>1</th>\n",
       "      <td>Cundinamarca</td>\n",
       "      <td>Bogotá D.C</td>\n",
       "      <td>Zona Noroccidental</td>\n",
       "      <td>4.722748</td>\n",
       "      <td>-74.073115</td>\n",
       "    </tr>\n",
       "    <tr>\n",
       "      <th>2</th>\n",
       "      <td>Cundinamarca</td>\n",
       "      <td>Bogotá D.C</td>\n",
       "      <td>Zona Norte</td>\n",
       "      <td>4.709000</td>\n",
       "      <td>-74.030000</td>\n",
       "    </tr>\n",
       "    <tr>\n",
       "      <th>6</th>\n",
       "      <td>Cundinamarca</td>\n",
       "      <td>Bogotá D.C</td>\n",
       "      <td>Zona Noroccidental</td>\n",
       "      <td>4.732379</td>\n",
       "      <td>-74.082150</td>\n",
       "    </tr>\n",
       "    <tr>\n",
       "      <th>8</th>\n",
       "      <td>Atlántico</td>\n",
       "      <td>Barranquilla</td>\n",
       "      <td>Olaya</td>\n",
       "      <td>10.977000</td>\n",
       "      <td>-74.809000</td>\n",
       "    </tr>\n",
       "    <tr>\n",
       "      <th>...</th>\n",
       "      <td>...</td>\n",
       "      <td>...</td>\n",
       "      <td>...</td>\n",
       "      <td>...</td>\n",
       "      <td>...</td>\n",
       "    </tr>\n",
       "    <tr>\n",
       "      <th>197535</th>\n",
       "      <td>Cundinamarca</td>\n",
       "      <td>Bogotá D.C</td>\n",
       "      <td>Zona Norte</td>\n",
       "      <td>4.716000</td>\n",
       "      <td>-74.031000</td>\n",
       "    </tr>\n",
       "    <tr>\n",
       "      <th>197543</th>\n",
       "      <td>Cundinamarca</td>\n",
       "      <td>Bogotá D.C</td>\n",
       "      <td>Zona Suroccidental</td>\n",
       "      <td>4.636047</td>\n",
       "      <td>-74.147480</td>\n",
       "    </tr>\n",
       "    <tr>\n",
       "      <th>197544</th>\n",
       "      <td>Cundinamarca</td>\n",
       "      <td>Bogotá D.C</td>\n",
       "      <td>Zona Suroccidental</td>\n",
       "      <td>4.649682</td>\n",
       "      <td>-74.161950</td>\n",
       "    </tr>\n",
       "    <tr>\n",
       "      <th>197545</th>\n",
       "      <td>Cundinamarca</td>\n",
       "      <td>Bogotá D.C</td>\n",
       "      <td>Zona Chapinero</td>\n",
       "      <td>4.668000</td>\n",
       "      <td>-74.055000</td>\n",
       "    </tr>\n",
       "    <tr>\n",
       "      <th>197547</th>\n",
       "      <td>Cundinamarca</td>\n",
       "      <td>Bogotá D.C</td>\n",
       "      <td>Zona Occidental</td>\n",
       "      <td>4.674874</td>\n",
       "      <td>-74.147077</td>\n",
       "    </tr>\n",
       "  </tbody>\n",
       "</table>\n",
       "<p>42891 rows × 5 columns</p>\n",
       "</div>"
      ],
      "text/plain": [
       "                  l2            l3                  l4        lat        lon\n",
       "0          Antioquia      Medellín          El Poblado   6.203000 -75.572000\n",
       "1       Cundinamarca    Bogotá D.C  Zona Noroccidental   4.722748 -74.073115\n",
       "2       Cundinamarca    Bogotá D.C          Zona Norte   4.709000 -74.030000\n",
       "6       Cundinamarca    Bogotá D.C  Zona Noroccidental   4.732379 -74.082150\n",
       "8          Atlántico  Barranquilla               Olaya  10.977000 -74.809000\n",
       "...              ...           ...                 ...        ...        ...\n",
       "197535  Cundinamarca    Bogotá D.C          Zona Norte   4.716000 -74.031000\n",
       "197543  Cundinamarca    Bogotá D.C  Zona Suroccidental   4.636047 -74.147480\n",
       "197544  Cundinamarca    Bogotá D.C  Zona Suroccidental   4.649682 -74.161950\n",
       "197545  Cundinamarca    Bogotá D.C      Zona Chapinero   4.668000 -74.055000\n",
       "197547  Cundinamarca    Bogotá D.C     Zona Occidental   4.674874 -74.147077\n",
       "\n",
       "[42891 rows x 5 columns]"
      ]
     },
     "execution_count": 96,
     "metadata": {},
     "output_type": "execute_result"
    }
   ],
   "source": [
    "# Creamos otro DataFrame auxuliar\n",
    "df_prom = data[['l2','l3','l4','lat','lon']]\n",
    "df_prom = df_prom.dropna(subset=['lat', 'lon','l2','l3','l4'])\n",
    "df_prom"
   ]
  },
  {
   "cell_type": "markdown",
   "id": "c7fe6632-9709-4cda-a21e-91499ce9ccb5",
   "metadata": {},
   "source": [
    "##### Gráficamos los multiples outliers para las latitudes"
   ]
  },
  {
   "cell_type": "code",
   "execution_count": 97,
   "id": "3059f41c-a186-4738-b2b8-37e69e8c052b",
   "metadata": {},
   "outputs": [
    {
     "data": {
      "text/plain": [
       "Text(0.5, 1.0, 'Outliers de Latitud (columna \"l4\")')"
      ]
     },
     "execution_count": 97,
     "metadata": {},
     "output_type": "execute_result"
    },
    {
     "data": {
      "image/png": "[encoded data removed]",
      "text/plain": [
       "<Figure size 1440x1440 with 1 Axes>"
      ]
     },
     "metadata": {
      "needs_background": "light"
     },
     "output_type": "display_data"
    }
   ],
   "source": [
    "plt.figure(figsize=(20, 20))\n",
    "sns.boxplot(x = 'lat', y = 'l4', data = df_prom)\n",
    "plt.title('Outliers de Latitud (columna \"l4\")')"
   ]
  },
  {
   "cell_type": "markdown",
   "id": "664eff3b-2d4a-4980-98c5-554bae001878",
   "metadata": {},
   "source": [
    "Como no se observan bien, podemos verlos de mejor manera usando la columna *_\"l2\"_*"
   ]
  },
  {
   "cell_type": "code",
   "execution_count": 98,
   "id": "509853ac-921d-4f49-b529-6829aaaec0bc",
   "metadata": {},
   "outputs": [
    {
     "data": {
      "text/plain": [
       "Text(0.5, 1.0, 'Outliers de Latitud (columna \"l2\")')"
      ]
     },
     "execution_count": 98,
     "metadata": {},
     "output_type": "execute_result"
    },
    {
     "data": {
      "image/png": "[encoded data removed]",
      "text/plain": [
       "<Figure size 1440x360 with 1 Axes>"
      ]
     },
     "metadata": {
      "needs_background": "light"
     },
     "output_type": "display_data"
    }
   ],
   "source": [
    "plt.figure(figsize=(20, 5))\n",
    "sns.boxplot(x = 'lat', y = 'l2', data = df_prom)\n",
    "plt.title('Outliers de Latitud (columna \"l2\")')"
   ]
  },
  {
   "cell_type": "markdown",
   "id": "2f049028-6ab2-46f3-b689-a1a27d61fcb3",
   "metadata": {},
   "source": [
    "Vemos como sí hay algunos outliers en las latitudes así que vamos a corregirlos por la media tomando como referencia la columna *_\"l4\"_* que es la más particular de cada lugar."
   ]
  },
  {
   "cell_type": "markdown",
   "id": "0fb28572-8a05-4702-9fbe-9e296abed9f9",
   "metadata": {},
   "source": [
    "##### Corrección de outliers para las latitudes"
   ]
  },
  {
   "cell_type": "code",
   "execution_count": 99,
   "id": "2ca3258d-b192-4d54-9fd5-b03e6a67a994",
   "metadata": {},
   "outputs": [
    {
     "name": "stdout",
     "output_type": "stream",
     "text": [
      "Outliers listos !!!\n"
     ]
    }
   ],
   "source": [
    "\n",
    "lista = df_prom[\"l4\"].unique().tolist()\n",
    "for val_l4 in lista:\n",
    "    # Media\n",
    "    Mean = df_prom['lat'].mean()\n",
    "    # Percentil 25%\n",
    "    Q1 = np.percentile(df_prom[df_prom['l4']==val_l4]['lat'], 25, interpolation = 'midpoint')\n",
    "    # Percentil 75%\n",
    "    Q3 = np.percentile(df_prom[df_prom['l4']==val_l4]['lat'], 75,interpolation = 'midpoint')\n",
    "    # Rango intercuartil\n",
    "    IQR = Q3 - Q1\n",
    "    # limite maximo\n",
    "    maximo = Q3 + 1.5 * IQR\n",
    "    # limite minimo\n",
    "    minimo = Q1 - 1.5 * IQR\n",
    "\n",
    "    # Corregimos los outliers                         \n",
    "    df_prom[\"lat\"] = df_prom[[\"l4\", \"lat\"]].apply(\n",
    "        lambda x: Mean\n",
    "        if (x.l4 == val_l4 and x.lat >= maximo)\n",
    "        else Mean\n",
    "        if (x.l4 == val_l4 and x.lat <= minimo)\n",
    "        else x.lat,\n",
    "        axis=1\n",
    "    )\n",
    "print('Outliers listos !!!')"
   ]
  },
  {
   "cell_type": "markdown",
   "id": "5d470cb0-6c5a-43b5-9518-02e5ff7442a7",
   "metadata": {},
   "source": [
    "A continuación, se grafican cómo quedaron las latitudes para comparación de que mejoraron mucho."
   ]
  },
  {
   "cell_type": "code",
   "execution_count": 100,
   "id": "c87d7dcb-38bd-436f-a576-f1e23f7f25df",
   "metadata": {},
   "outputs": [
    {
     "data": {
      "text/plain": [
       "Text(0.5, 1.0, 'Outliers de Latitud (columna \"l4\")')"
      ]
     },
     "execution_count": 100,
     "metadata": {},
     "output_type": "execute_result"
    },
    {
     "data": {
      "image/png": "[encoded data removed]",
      "text/plain": [
       "<Figure size 1440x1440 with 1 Axes>"
      ]
     },
     "metadata": {
      "needs_background": "light"
     },
     "output_type": "display_data"
    }
   ],
   "source": [
    "plt.figure(figsize=(20, 20))\n",
    "sns.boxplot(x = 'lat', y = 'l4', data = df_prom)\n",
    "plt.title('Outliers de Latitud (columna \"l4\")')"
   ]
  },
  {
   "cell_type": "code",
   "execution_count": 101,
   "id": "2698f7f8-1c5d-494b-8d04-69dd0898600c",
   "metadata": {},
   "outputs": [
    {
     "data": {
      "text/plain": [
       "Text(0.5, 1.0, 'Outliers de Latitud (columna \"l2\")')"
      ]
     },
     "execution_count": 101,
     "metadata": {},
     "output_type": "execute_result"
    },
    {
     "data": {
      "image/png": "[encoded data removed]",
      "text/plain": [
       "<Figure size 1440x360 with 1 Axes>"
      ]
     },
     "metadata": {
      "needs_background": "light"
     },
     "output_type": "display_data"
    }
   ],
   "source": [
    "plt.figure(figsize=(20, 5))\n",
    "sns.boxplot(x = 'lat', y = 'l2', data = df_prom)\n",
    "plt.title('Outliers de Latitud (columna \"l2\")')"
   ]
  },
  {
   "cell_type": "markdown",
   "id": "4043d124-6d84-49c8-900e-b601011b3f4a",
   "metadata": {},
   "source": [
    "##### Gráficamos los multiples outliers para las longitudes"
   ]
  },
  {
   "cell_type": "code",
   "execution_count": 102,
   "id": "beed6eb8-324d-40f3-92b4-c80ee99e3f02",
   "metadata": {},
   "outputs": [
    {
     "data": {
      "text/plain": [
       "Text(0.5, 1.0, 'Outliers de Longitud (columna \"l4\")')"
      ]
     },
     "execution_count": 102,
     "metadata": {},
     "output_type": "execute_result"
    },
    {
     "data": {
      "image/png": "[encoded data removed]",
      "text/plain": [
       "<Figure size 1440x1440 with 1 Axes>"
      ]
     },
     "metadata": {
      "needs_background": "light"
     },
     "output_type": "display_data"
    }
   ],
   "source": [
    "plt.figure(figsize=(20, 20))\n",
    "sns.boxplot(x = 'lon', y = 'l4', data = df_prom)\n",
    "plt.title('Outliers de Longitud (columna \"l4\")')"
   ]
  },
  {
   "cell_type": "code",
   "execution_count": 103,
   "id": "66fd25c6-86de-45a4-80a6-46bac5f9db3d",
   "metadata": {},
   "outputs": [
    {
     "data": {
      "text/plain": [
       "Text(0.5, 1.0, 'Outliers de Longitud (columna \"l2\")')"
      ]
     },
     "execution_count": 103,
     "metadata": {},
     "output_type": "execute_result"
    },
    {
     "data": {
      "image/png": "[encoded data removed]",
      "text/plain": [
       "<Figure size 1440x360 with 1 Axes>"
      ]
     },
     "metadata": {
      "needs_background": "light"
     },
     "output_type": "display_data"
    }
   ],
   "source": [
    "plt.figure(figsize=(20, 5))\n",
    "sns.boxplot(x = 'lon', y = 'l2', data = df_prom)\n",
    "plt.title('Outliers de Longitud (columna \"l2\")')"
   ]
  },
  {
   "cell_type": "markdown",
   "id": "283f29f3-1bbe-4652-b341-e51f60972b9c",
   "metadata": {},
   "source": [
    "Observamos que tambien hay outliers, procedemos a corregirlos"
   ]
  },
  {
   "cell_type": "markdown",
   "id": "36b5886c-9492-4b48-892f-ea5561671dfd",
   "metadata": {},
   "source": [
    "##### Corrección de outliers para las longitudes"
   ]
  },
  {
   "cell_type": "code",
   "execution_count": 104,
   "id": "a1749244-94a9-41eb-9d2d-1e347f6b0b08",
   "metadata": {},
   "outputs": [
    {
     "name": "stdout",
     "output_type": "stream",
     "text": [
      "Outliers listos !!!\n"
     ]
    }
   ],
   "source": [
    "\n",
    "lista = df_prom[\"l4\"].unique().tolist()\n",
    "for val_l4 in lista:\n",
    "    # Media\n",
    "    Mean = df_prom['lon'].mean()\n",
    "    # Percentil 25%\n",
    "    Q1 = np.percentile(df_prom[df_prom['l4']==val_l4]['lon'], 25, interpolation = 'midpoint')\n",
    "    # Percentil 75%\n",
    "    Q3 = np.percentile(df_prom[df_prom['l4']==val_l4]['lon'], 75,interpolation = 'midpoint')\n",
    "    # Rango intercuartil\n",
    "    IQR = Q3 - Q1\n",
    "    # limite maximo\n",
    "    maximo = Q3 + 1.5 * IQR\n",
    "    # limite minimo\n",
    "    minimo = Q1 - 1.5 * IQR\n",
    "\n",
    "    # Corregimos los outliers                         \n",
    "    df_prom[\"lon\"] = df_prom[[\"l4\", \"lon\"]].apply(\n",
    "        lambda x: Mean\n",
    "        if (x.l4 == val_l4 and x.lon >= maximo)\n",
    "        else Mean\n",
    "        if (x.l4 == val_l4 and x.lon <= minimo)\n",
    "        else x.lon,\n",
    "        axis=1\n",
    "    )\n",
    "print('Outliers listos !!!')"
   ]
  },
  {
   "cell_type": "markdown",
   "id": "14e55323-7eac-4dad-898f-c9503874fc1b",
   "metadata": {},
   "source": [
    "Graficamos las longitudes."
   ]
  },
  {
   "cell_type": "code",
   "execution_count": 105,
   "id": "dbc8e626-377c-4345-a48d-8e5c2051c414",
   "metadata": {},
   "outputs": [
    {
     "data": {
      "text/plain": [
       "Text(0.5, 1.0, 'Outliers de Longitudes (columna \"l4\")')"
      ]
     },
     "execution_count": 105,
     "metadata": {},
     "output_type": "execute_result"
    },
    {
     "data": {
      "image/png": "[encoded data removed]",
      "text/plain": [
       "<Figure size 1440x1440 with 1 Axes>"
      ]
     },
     "metadata": {
      "needs_background": "light"
     },
     "output_type": "display_data"
    }
   ],
   "source": [
    "plt.figure(figsize=(20, 20))\n",
    "sns.boxplot(x = 'lon', y = 'l4', data = df_prom)\n",
    "plt.title('Outliers de Longitudes (columna \"l4\")')"
   ]
  },
  {
   "cell_type": "code",
   "execution_count": 106,
   "id": "38fb47b6-5395-4f0b-a6c9-73425aba9a68",
   "metadata": {},
   "outputs": [
    {
     "data": {
      "text/plain": [
       "Text(0.5, 1.0, 'Outliers de Longitudes (columna \"l2\")')"
      ]
     },
     "execution_count": 106,
     "metadata": {},
     "output_type": "execute_result"
    },
    {
     "data": {
      "image/png": "[encoded data removed]",
      "text/plain": [
       "<Figure size 1440x360 with 1 Axes>"
      ]
     },
     "metadata": {
      "needs_background": "light"
     },
     "output_type": "display_data"
    }
   ],
   "source": [
    "plt.figure(figsize=(20, 5))\n",
    "sns.boxplot(x = 'lon', y = 'l2', data = df_prom)\n",
    "plt.title('Outliers de Longitudes (columna \"l2\")')"
   ]
  },
  {
   "cell_type": "markdown",
   "id": "92582128-cdb0-41a6-84ae-0caf7dae29b3",
   "metadata": {},
   "source": [
    "#### Usando columnas *_'l2','l3' y 'l4'_* para rescatar coordenadas"
   ]
  },
  {
   "cell_type": "markdown",
   "id": "dbc9924e-e346-46dc-90dc-6fc000a88da9",
   "metadata": {},
   "source": [
    "Las columnas *_'l2','l3' y 'l4'_* tienen información de la ubicación de las casas como: provincia, ciudad, barrio. Por esta razón, podemos usar esto a nuestro favor y promediar la ubicación de las zonas donde no tenemos coordenadas."
   ]
  },
  {
   "cell_type": "code",
   "execution_count": 107,
   "id": "7052a100-809a-4893-a337-3d0c74cc2270",
   "metadata": {},
   "outputs": [
    {
     "data": {
      "text/html": [
       "<div>\n",
       "<style scoped>\n",
       "    .dataframe tbody tr th:only-of-type {\n",
       "        vertical-align: middle;\n",
       "    }\n",
       "\n",
       "    .dataframe tbody tr th {\n",
       "        vertical-align: top;\n",
       "    }\n",
       "\n",
       "    .dataframe thead th {\n",
       "        text-align: right;\n",
       "    }\n",
       "</style>\n",
       "<table border=\"1\" class=\"dataframe\">\n",
       "  <thead>\n",
       "    <tr style=\"text-align: right;\">\n",
       "      <th></th>\n",
       "      <th>l2</th>\n",
       "      <th>l3</th>\n",
       "      <th>l4</th>\n",
       "      <th>lat</th>\n",
       "      <th>lon</th>\n",
       "    </tr>\n",
       "  </thead>\n",
       "  <tbody>\n",
       "    <tr>\n",
       "      <th>0</th>\n",
       "      <td>Antioquia</td>\n",
       "      <td>Medellín</td>\n",
       "      <td>El Poblado</td>\n",
       "      <td>6.203000</td>\n",
       "      <td>-75.572000</td>\n",
       "    </tr>\n",
       "    <tr>\n",
       "      <th>1</th>\n",
       "      <td>Cundinamarca</td>\n",
       "      <td>Bogotá D.C</td>\n",
       "      <td>Zona Noroccidental</td>\n",
       "      <td>4.722748</td>\n",
       "      <td>-74.073115</td>\n",
       "    </tr>\n",
       "    <tr>\n",
       "      <th>2</th>\n",
       "      <td>Cundinamarca</td>\n",
       "      <td>Bogotá D.C</td>\n",
       "      <td>Zona Norte</td>\n",
       "      <td>4.709000</td>\n",
       "      <td>-74.030000</td>\n",
       "    </tr>\n",
       "    <tr>\n",
       "      <th>3</th>\n",
       "      <td>Santander</td>\n",
       "      <td>Bucaramanga</td>\n",
       "      <td>0</td>\n",
       "      <td>0.000000</td>\n",
       "      <td>0.000000</td>\n",
       "    </tr>\n",
       "    <tr>\n",
       "      <th>4</th>\n",
       "      <td>Antioquia</td>\n",
       "      <td>Medellín</td>\n",
       "      <td>0</td>\n",
       "      <td>0.000000</td>\n",
       "      <td>0.000000</td>\n",
       "    </tr>\n",
       "  </tbody>\n",
       "</table>\n",
       "</div>"
      ],
      "text/plain": [
       "             l2           l3                  l4       lat        lon\n",
       "0     Antioquia     Medellín          El Poblado  6.203000 -75.572000\n",
       "1  Cundinamarca   Bogotá D.C  Zona Noroccidental  4.722748 -74.073115\n",
       "2  Cundinamarca   Bogotá D.C          Zona Norte  4.709000 -74.030000\n",
       "3     Santander  Bucaramanga                   0  0.000000   0.000000\n",
       "4     Antioquia     Medellín                   0  0.000000   0.000000"
      ]
     },
     "execution_count": 107,
     "metadata": {},
     "output_type": "execute_result"
    }
   ],
   "source": [
    "# Creamos un nuevo DataFrame con los valores NaN como cero\n",
    "df_match = data[['l2','l3','l4','lat','lon']].fillna(0)\n",
    "df_match.head()"
   ]
  },
  {
   "cell_type": "markdown",
   "id": "bd3dac66-f5e6-45b7-985b-f2cc583057ca",
   "metadata": {},
   "source": [
    "##### Imputacion usando: \"l2\", \"l3\" y \"l4\""
   ]
  },
  {
   "cell_type": "code",
   "execution_count": 108,
   "id": "dfa7c215-adcc-40da-b45f-4b73464ca43f",
   "metadata": {},
   "outputs": [
    {
     "name": "stdout",
     "output_type": "stream",
     "text": [
      "Iterando...\n",
      "Listo !!!\n"
     ]
    }
   ],
   "source": [
    "# Ubicamos las coordenadas faltantes en funcion del: \n",
    "#     l2 - Nivel administrativo 2, usualmente provincia.\n",
    "#     l3 - Nivel administrativo 3: usualmente ciudad.\n",
    "#     l4 - Nivel administrativo 4: usualmente barrio.\n",
    "\n",
    "print('Iterando...')\n",
    "for i in range(len(df_match)):\n",
    "    lat = df_match.loc[i, \"lat\"]\n",
    "    lon = df_match.loc[i, \"lon\"]\n",
    "    if lat == 0 and lon == 0:\n",
    "        for j in range(len(df_prom)):\n",
    "            l2 = df_match.loc[i, \"l2\"]\n",
    "            l3 = df_match.loc[i, \"l3\"]\n",
    "            l4 = df_match.loc[i, \"l4\"]\n",
    "            coord = df_prom.loc[(df_prom['l2'] == l2) & (df_prom['l3'] == l3) & (df_prom['l4'] == l4)]\n",
    "            df_match.loc[i, \"lat\"] = coord.lat.mean()\n",
    "            df_match.loc[i, \"lon\"] = coord.lon.mean()\n",
    "            break\n",
    "print('Listo !!!')"
   ]
  },
  {
   "cell_type": "code",
   "execution_count": 109,
   "id": "28d0c3bf-e867-4842-b1ec-d026e81a630d",
   "metadata": {},
   "outputs": [
    {
     "data": {
      "text/plain": [
       "l2         0\n",
       "l3         0\n",
       "l4         0\n",
       "lat    47023\n",
       "lon    47023\n",
       "dtype: int64"
      ]
     },
     "execution_count": 109,
     "metadata": {},
     "output_type": "execute_result"
    }
   ],
   "source": [
    "df_match.isnull().sum()"
   ]
  },
  {
   "cell_type": "markdown",
   "id": "ba248e99-f731-47f4-be7d-b31911c02e04",
   "metadata": {},
   "source": [
    "Si comparamos los valores faltantes podemos observar una mejora de los valores faltantes:\n",
    "\n",
    "* lat(anterior): 49498 - lat(actual): 47023 \n",
    "* lon(anterior): 49498 - lon(actual): 47023\n",
    "\n",
    "Repetimos el procedimiento, pero ahora solo limitandonos a las columnas *_l2_ y l3*."
   ]
  },
  {
   "cell_type": "markdown",
   "id": "49e06799-4883-465d-896c-4c81f649519d",
   "metadata": {},
   "source": [
    "##### Imputacion usando: \"l2\" y \"l3\""
   ]
  },
  {
   "cell_type": "code",
   "execution_count": 110,
   "id": "5739d369-2826-4ea1-923c-93afbce8fb52",
   "metadata": {},
   "outputs": [
    {
     "name": "stdout",
     "output_type": "stream",
     "text": [
      "Iterando...\n",
      "Listo !!!\n"
     ]
    }
   ],
   "source": [
    "# Ubicamos las coordenadas faltantes en funcion del: \n",
    "#     l2 - Nivel administrativo 2, usualmente provincia.\n",
    "#     l3 - Nivel administrativo 3: usualmente ciudad.\n",
    "\n",
    "df_match = df_match.fillna(0)\n",
    "\n",
    "print('Iterando...')\n",
    "for i in range(len(df_match)):\n",
    "    lat = df_match.loc[i, \"lat\"]\n",
    "    lon = df_match.loc[i, \"lon\"]\n",
    "    if lat == 0 and lon == 0:\n",
    "        for j in range(len(df_prom)):\n",
    "            l2 = df_match.loc[i, \"l2\"]\n",
    "            l3 = df_match.loc[i, \"l3\"]\n",
    "            coord = df_prom.loc[(df_prom['l2'] == l2) & (df_prom['l3'] == l3)]\n",
    "            df_match.loc[i, \"lat\"] = coord.lat.mean()\n",
    "            df_match.loc[i, \"lon\"] = coord.lon.mean()\n",
    "            break\n",
    "print('Listo !!!')"
   ]
  },
  {
   "cell_type": "code",
   "execution_count": 111,
   "id": "361b7912-29ba-4d20-a66c-73f0b8ae0854",
   "metadata": {},
   "outputs": [
    {
     "data": {
      "text/plain": [
       "l2         0\n",
       "l3         0\n",
       "l4         0\n",
       "lat    10518\n",
       "lon    10518\n",
       "dtype: int64"
      ]
     },
     "execution_count": 111,
     "metadata": {},
     "output_type": "execute_result"
    }
   ],
   "source": [
    "df_match.isnull().sum()"
   ]
  },
  {
   "cell_type": "markdown",
   "id": "c9450b15-0f9c-4613-8285-8f6666705e20",
   "metadata": {},
   "source": [
    "Volviendo a comparar los valores faltantes podemos observar una mejora aun mayor de los valores faltantes:\n",
    "\n",
    "* lat(anterior): 47023 - lat(actual): 10518\n",
    "* lon(anterior): 47023 - lon(actual): 10518\n",
    "\n",
    "En resumen, disminuimos los valores faltantes de un 25.05% a solo un 5.32%."
   ]
  },
  {
   "cell_type": "markdown",
   "id": "0896f63a-00dd-4140-927f-0bb97dc068b1",
   "metadata": {},
   "source": [
    "#### Ingestando en el DataFrame original (Borrado de 'l5' y 'l6')"
   ]
  },
  {
   "cell_type": "code",
   "execution_count": 112,
   "id": "35da6e48-0086-49d9-9945-99c54076705c",
   "metadata": {},
   "outputs": [],
   "source": [
    "# ELiminamos las columnas innecesarias del DataFrame auxiliar\n",
    "df_match.drop(['l2', 'l3', 'l4'], axis=1, inplace=True)\n",
    "# Renombramos las columnas del DataFrame auxiliar\n",
    "df_match.rename(columns={'lat':'latitud', 'lon':'longitud'}, inplace=True)\n",
    "# Combinamos con el DataFrame auxiliar\n",
    "data = pd.concat([data, df_match], axis = 1)\n",
    "# ELiminamos las columnas de 'l5', 'l6', 'lat' y 'lon' del DataFrame original\n",
    "data.drop(['l5', 'l6', 'lat', 'lon'], axis=1, inplace=True)"
   ]
  },
  {
   "cell_type": "markdown",
   "id": "9707ecab-894e-4126-9cdd-48ee61bba867",
   "metadata": {},
   "source": [
    "#### Valores nulos actualizados"
   ]
  },
  {
   "cell_type": "code",
   "execution_count": 113,
   "id": "53b21fda-df91-4154-ad24-4226532593f3",
   "metadata": {},
   "outputs": [
    {
     "name": "stdout",
     "output_type": "stream",
     "text": [
      "start_date: 0\n",
      "end_date: 0\n",
      "l2: 0\n",
      "l3: 11032\n",
      "l4: 152182\n",
      "rooms: 170012\n",
      "bedrooms: 157024\n",
      "bathrooms: 41082\n",
      "surface_total: 190575\n",
      "surface_covered: 187747\n",
      "price: 0\n",
      "currency: 67\n",
      "price_period: 161578\n",
      "title: 1\n",
      "description: 121\n",
      "property_type: 0\n",
      "latitud: 10518\n",
      "longitud: 10518\n"
     ]
    }
   ],
   "source": [
    "lista = data.isnull().sum().tolist()\n",
    "nom = data.columns.tolist()\n",
    "nom\n",
    "dict_from_list = dict(zip(nom, lista))\n",
    "for clave, valor in dict_from_list.items():\n",
    "    print(f'{clave}: {valor}')"
   ]
  },
  {
   "cell_type": "markdown",
   "id": "e50fd9d6-6505-4f8c-b1c0-962f4412028c",
   "metadata": {},
   "source": [
    "#### Número de renglones y columnas actualizadas"
   ]
  },
  {
   "cell_type": "code",
   "execution_count": 54,
   "id": "c7f068da-9678-4668-a21a-86570ad1d873",
   "metadata": {},
   "outputs": [
    {
     "data": {
      "text/plain": [
       "(197549, 18)"
      ]
     },
     "execution_count": 54,
     "metadata": {},
     "output_type": "execute_result"
    }
   ],
   "source": [
    "data.shape"
   ]
  },
  {
   "cell_type": "markdown",
   "id": "44daf107-fae4-4698-b336-cd61722230a7",
   "metadata": {},
   "source": [
    "### f) Imputacion de valores en la columnas 'rooms', 'bedrooms', 'bathrooms', 'surface_total', 'surface_covered'"
   ]
  },
  {
   "cell_type": "markdown",
   "id": "42e52d19-32b3-498e-92d2-f50503d3016d",
   "metadata": {},
   "source": [
    "#### Obteniendo los valores de la columna: 'bathrooms'"
   ]
  },
  {
   "cell_type": "code",
   "execution_count": 115,
   "id": "c3d12a0f-fa9e-4520-8664-1c57bd673e07",
   "metadata": {},
   "outputs": [
    {
     "data": {
      "text/html": [
       "<div>\n",
       "<style scoped>\n",
       "    .dataframe tbody tr th:only-of-type {\n",
       "        vertical-align: middle;\n",
       "    }\n",
       "\n",
       "    .dataframe tbody tr th {\n",
       "        vertical-align: top;\n",
       "    }\n",
       "\n",
       "    .dataframe thead th {\n",
       "        text-align: right;\n",
       "    }\n",
       "</style>\n",
       "<table border=\"1\" class=\"dataframe\">\n",
       "  <thead>\n",
       "    <tr style=\"text-align: right;\">\n",
       "      <th></th>\n",
       "      <th>l2</th>\n",
       "      <th>l3</th>\n",
       "      <th>l4</th>\n",
       "      <th>bathrooms</th>\n",
       "    </tr>\n",
       "  </thead>\n",
       "  <tbody>\n",
       "    <tr>\n",
       "      <th>0</th>\n",
       "      <td>Antioquia</td>\n",
       "      <td>Medellín</td>\n",
       "      <td>El Poblado</td>\n",
       "      <td>4.0</td>\n",
       "    </tr>\n",
       "    <tr>\n",
       "      <th>1</th>\n",
       "      <td>Cundinamarca</td>\n",
       "      <td>Bogotá D.C</td>\n",
       "      <td>Zona Noroccidental</td>\n",
       "      <td>2.0</td>\n",
       "    </tr>\n",
       "    <tr>\n",
       "      <th>2</th>\n",
       "      <td>Cundinamarca</td>\n",
       "      <td>Bogotá D.C</td>\n",
       "      <td>Zona Norte</td>\n",
       "      <td>2.0</td>\n",
       "    </tr>\n",
       "    <tr>\n",
       "      <th>6</th>\n",
       "      <td>Cundinamarca</td>\n",
       "      <td>Bogotá D.C</td>\n",
       "      <td>Zona Noroccidental</td>\n",
       "      <td>8.0</td>\n",
       "    </tr>\n",
       "    <tr>\n",
       "      <th>8</th>\n",
       "      <td>Atlántico</td>\n",
       "      <td>Barranquilla</td>\n",
       "      <td>Olaya</td>\n",
       "      <td>2.0</td>\n",
       "    </tr>\n",
       "  </tbody>\n",
       "</table>\n",
       "</div>"
      ],
      "text/plain": [
       "             l2            l3                  l4  bathrooms\n",
       "0     Antioquia      Medellín          El Poblado        4.0\n",
       "1  Cundinamarca    Bogotá D.C  Zona Noroccidental        2.0\n",
       "2  Cundinamarca    Bogotá D.C          Zona Norte        2.0\n",
       "6  Cundinamarca    Bogotá D.C  Zona Noroccidental        8.0\n",
       "8     Atlántico  Barranquilla               Olaya        2.0"
      ]
     },
     "execution_count": 115,
     "metadata": {},
     "output_type": "execute_result"
    }
   ],
   "source": [
    "df_med = data[['l2', 'l3', 'l4', 'bathrooms']].dropna()\n",
    "df_med.head() #bathrooms: 41082"
   ]
  },
  {
   "cell_type": "code",
   "execution_count": 116,
   "id": "a9dabe9b-da76-47ee-a196-8d3aa7517818",
   "metadata": {},
   "outputs": [
    {
     "data": {
      "text/html": [
       "<div>\n",
       "<style scoped>\n",
       "    .dataframe tbody tr th:only-of-type {\n",
       "        vertical-align: middle;\n",
       "    }\n",
       "\n",
       "    .dataframe tbody tr th {\n",
       "        vertical-align: top;\n",
       "    }\n",
       "\n",
       "    .dataframe thead th {\n",
       "        text-align: right;\n",
       "    }\n",
       "</style>\n",
       "<table border=\"1\" class=\"dataframe\">\n",
       "  <thead>\n",
       "    <tr style=\"text-align: right;\">\n",
       "      <th></th>\n",
       "      <th>l2</th>\n",
       "      <th>l3</th>\n",
       "      <th>l4</th>\n",
       "      <th>bathrooms</th>\n",
       "    </tr>\n",
       "  </thead>\n",
       "  <tbody>\n",
       "    <tr>\n",
       "      <th>0</th>\n",
       "      <td>Antioquia</td>\n",
       "      <td>Medellín</td>\n",
       "      <td>El Poblado</td>\n",
       "      <td>4.0</td>\n",
       "    </tr>\n",
       "    <tr>\n",
       "      <th>1</th>\n",
       "      <td>Cundinamarca</td>\n",
       "      <td>Bogotá D.C</td>\n",
       "      <td>Zona Noroccidental</td>\n",
       "      <td>2.0</td>\n",
       "    </tr>\n",
       "    <tr>\n",
       "      <th>2</th>\n",
       "      <td>Cundinamarca</td>\n",
       "      <td>Bogotá D.C</td>\n",
       "      <td>Zona Norte</td>\n",
       "      <td>2.0</td>\n",
       "    </tr>\n",
       "    <tr>\n",
       "      <th>3</th>\n",
       "      <td>Santander</td>\n",
       "      <td>Bucaramanga</td>\n",
       "      <td>0</td>\n",
       "      <td>1.0</td>\n",
       "    </tr>\n",
       "    <tr>\n",
       "      <th>4</th>\n",
       "      <td>Antioquia</td>\n",
       "      <td>Medellín</td>\n",
       "      <td>0</td>\n",
       "      <td>2.0</td>\n",
       "    </tr>\n",
       "  </tbody>\n",
       "</table>\n",
       "</div>"
      ],
      "text/plain": [
       "             l2           l3                  l4  bathrooms\n",
       "0     Antioquia     Medellín          El Poblado        4.0\n",
       "1  Cundinamarca   Bogotá D.C  Zona Noroccidental        2.0\n",
       "2  Cundinamarca   Bogotá D.C          Zona Norte        2.0\n",
       "3     Santander  Bucaramanga                   0        1.0\n",
       "4     Antioquia     Medellín                   0        2.0"
      ]
     },
     "execution_count": 116,
     "metadata": {},
     "output_type": "execute_result"
    }
   ],
   "source": [
    "df_match = data[['l2', 'l3', 'l4', 'bathrooms']].fillna(0)\n",
    "df_match.head() #bathrooms: 41082"
   ]
  },
  {
   "cell_type": "code",
   "execution_count": 117,
   "id": "e75e72bf-9ccc-444b-b6cd-cb3793d92c0b",
   "metadata": {},
   "outputs": [
    {
     "name": "stdout",
     "output_type": "stream",
     "text": [
      "Iterando la etapa 1...\n",
      "Etapa 1, lista !!! \n",
      "Iterando la etapa 2...\n",
      "Etapa 2, Lista !!!\n"
     ]
    }
   ],
   "source": [
    "# Ubicamos los faltantes en funcion del: \n",
    "#     l2 - Nivel administrativo 2, usualmente provincia.\n",
    "#     l3 - Nivel administrativo 3: usualmente ciudad.\n",
    "#     l4 - Nivel administrativo 4: usualmente barrio.\n",
    "\n",
    "print('Iterando la etapa 1...')\n",
    "for i in range(len(df_match)):\n",
    "    bath = df_match.loc[i, \"bathrooms\"]\n",
    "    if bath == 0:\n",
    "        for j in range(len(df_med)):\n",
    "            l2 = df_match.loc[i, \"l2\"]\n",
    "            l3 = df_match.loc[i, \"l3\"]\n",
    "            l4 = df_match.loc[i, \"l4\"]\n",
    "            X = df_med.loc[(df_med['l2'] == l2) & (df_med['l3'] == l3) & (df_med['l4'] == l4)]\n",
    "            df_match.loc[i, \"bathrooms\"] = X.bathrooms.median()\n",
    "            break\n",
    "            \n",
    "print('Etapa 1, lista !!! ')\n",
    "\n",
    "\n",
    "# Ubicamos las coordenadas faltantes en funcion del: \n",
    "#     l2 - Nivel administrativo 2, usualmente provincia.\n",
    "#     l3 - Nivel administrativo 3: usualmente ciudad.\n",
    "\n",
    "df_med = data[['l2', 'l3', 'l4', 'bathrooms']].dropna()\n",
    "df_match = df_match.fillna(0)\n",
    "\n",
    "print('Iterando la etapa 2...')\n",
    "for i in range(len(df_match)):\n",
    "    bath = df_match.loc[i, \"bathrooms\"]\n",
    "    if bath == 0:\n",
    "        for j in range(len(df_med)):\n",
    "            l2 = df_match.loc[i, \"l2\"]\n",
    "            l3 = df_match.loc[i, \"l3\"]\n",
    "            X = df_med.loc[(df_med['l2'] == l2) & (df_med['l3'] == l3)]\n",
    "            df_match.loc[i, \"bathrooms\"] = X.bathrooms.median()\n",
    "            break\n",
    "            \n",
    "data[\"bathrooms\"] = df_match[\"bathrooms\"]\n",
    "            \n",
    "print('Etapa 2, Lista !!!')"
   ]
  },
  {
   "cell_type": "code",
   "execution_count": 118,
   "id": "2f0a7eec-b63e-465c-bc7b-7a32aca9cb7b",
   "metadata": {},
   "outputs": [
    {
     "data": {
      "text/plain": [
       "l2               0\n",
       "l3               0\n",
       "l4               0\n",
       "bathrooms    23980\n",
       "dtype: int64"
      ]
     },
     "execution_count": 118,
     "metadata": {},
     "output_type": "execute_result"
    }
   ],
   "source": [
    "data.isnull().sum() "
   ]
  },
  {
   "cell_type": "code",
   "execution_count": 156,
   "id": "775fc158-efcc-45c2-8868-725f0f22e8e1",
   "metadata": {},
   "outputs": [],
   "source": [
    "# Reemplazaremos los valores faltantes con el valor 1 \n",
    "data[\"bathrooms\"].fillna(1, inplace = True)\n",
    "data.isnull().sum() "
   ]
  },
  {
   "cell_type": "markdown",
   "id": "2f85772c-7136-4b70-837d-24c95336907e",
   "metadata": {},
   "source": [
    "#### Obteniendo los valores de la columna: 'rooms'"
   ]
  },
  {
   "cell_type": "code",
   "execution_count": 123,
   "id": "3951c9f4-39e0-46fb-9eba-c1bb1448dbab",
   "metadata": {},
   "outputs": [
    {
     "data": {
      "text/html": [
       "<div>\n",
       "<style scoped>\n",
       "    .dataframe tbody tr th:only-of-type {\n",
       "        vertical-align: middle;\n",
       "    }\n",
       "\n",
       "    .dataframe tbody tr th {\n",
       "        vertical-align: top;\n",
       "    }\n",
       "\n",
       "    .dataframe thead th {\n",
       "        text-align: right;\n",
       "    }\n",
       "</style>\n",
       "<table border=\"1\" class=\"dataframe\">\n",
       "  <thead>\n",
       "    <tr style=\"text-align: right;\">\n",
       "      <th></th>\n",
       "      <th>l2</th>\n",
       "      <th>l3</th>\n",
       "      <th>l4</th>\n",
       "      <th>rooms</th>\n",
       "    </tr>\n",
       "  </thead>\n",
       "  <tbody>\n",
       "    <tr>\n",
       "      <th>42</th>\n",
       "      <td>Atlántico</td>\n",
       "      <td>Barranquilla</td>\n",
       "      <td>El Recreo</td>\n",
       "      <td>3.0</td>\n",
       "    </tr>\n",
       "    <tr>\n",
       "      <th>50</th>\n",
       "      <td>Cundinamarca</td>\n",
       "      <td>Bogotá D.C</td>\n",
       "      <td>Zona Norte</td>\n",
       "      <td>4.0</td>\n",
       "    </tr>\n",
       "    <tr>\n",
       "      <th>106</th>\n",
       "      <td>Cundinamarca</td>\n",
       "      <td>Bogotá D.C</td>\n",
       "      <td>Zona Norte</td>\n",
       "      <td>2.0</td>\n",
       "    </tr>\n",
       "    <tr>\n",
       "      <th>109</th>\n",
       "      <td>Cundinamarca</td>\n",
       "      <td>Bogotá D.C</td>\n",
       "      <td>Zona Norte</td>\n",
       "      <td>2.0</td>\n",
       "    </tr>\n",
       "    <tr>\n",
       "      <th>126</th>\n",
       "      <td>Antioquia</td>\n",
       "      <td>Medellín</td>\n",
       "      <td>El Poblado</td>\n",
       "      <td>4.0</td>\n",
       "    </tr>\n",
       "  </tbody>\n",
       "</table>\n",
       "</div>"
      ],
      "text/plain": [
       "               l2            l3          l4  rooms\n",
       "42      Atlántico  Barranquilla   El Recreo    3.0\n",
       "50   Cundinamarca    Bogotá D.C  Zona Norte    4.0\n",
       "106  Cundinamarca    Bogotá D.C  Zona Norte    2.0\n",
       "109  Cundinamarca    Bogotá D.C  Zona Norte    2.0\n",
       "126     Antioquia      Medellín  El Poblado    4.0"
      ]
     },
     "execution_count": 123,
     "metadata": {},
     "output_type": "execute_result"
    }
   ],
   "source": [
    "df_med = data[['l2', 'l3', 'l4', 'rooms']].dropna()\n",
    "df_med.head()"
   ]
  },
  {
   "cell_type": "code",
   "execution_count": 124,
   "id": "4e29e3ac-a18d-4bda-ae63-f5b298cf8a5a",
   "metadata": {},
   "outputs": [
    {
     "data": {
      "text/html": [
       "<div>\n",
       "<style scoped>\n",
       "    .dataframe tbody tr th:only-of-type {\n",
       "        vertical-align: middle;\n",
       "    }\n",
       "\n",
       "    .dataframe tbody tr th {\n",
       "        vertical-align: top;\n",
       "    }\n",
       "\n",
       "    .dataframe thead th {\n",
       "        text-align: right;\n",
       "    }\n",
       "</style>\n",
       "<table border=\"1\" class=\"dataframe\">\n",
       "  <thead>\n",
       "    <tr style=\"text-align: right;\">\n",
       "      <th></th>\n",
       "      <th>l2</th>\n",
       "      <th>l3</th>\n",
       "      <th>l4</th>\n",
       "      <th>rooms</th>\n",
       "    </tr>\n",
       "  </thead>\n",
       "  <tbody>\n",
       "    <tr>\n",
       "      <th>0</th>\n",
       "      <td>Antioquia</td>\n",
       "      <td>Medellín</td>\n",
       "      <td>El Poblado</td>\n",
       "      <td>0.0</td>\n",
       "    </tr>\n",
       "    <tr>\n",
       "      <th>1</th>\n",
       "      <td>Cundinamarca</td>\n",
       "      <td>Bogotá D.C</td>\n",
       "      <td>Zona Noroccidental</td>\n",
       "      <td>0.0</td>\n",
       "    </tr>\n",
       "    <tr>\n",
       "      <th>2</th>\n",
       "      <td>Cundinamarca</td>\n",
       "      <td>Bogotá D.C</td>\n",
       "      <td>Zona Norte</td>\n",
       "      <td>0.0</td>\n",
       "    </tr>\n",
       "    <tr>\n",
       "      <th>3</th>\n",
       "      <td>Santander</td>\n",
       "      <td>Bucaramanga</td>\n",
       "      <td>0</td>\n",
       "      <td>0.0</td>\n",
       "    </tr>\n",
       "    <tr>\n",
       "      <th>4</th>\n",
       "      <td>Antioquia</td>\n",
       "      <td>Medellín</td>\n",
       "      <td>0</td>\n",
       "      <td>0.0</td>\n",
       "    </tr>\n",
       "  </tbody>\n",
       "</table>\n",
       "</div>"
      ],
      "text/plain": [
       "             l2           l3                  l4  rooms\n",
       "0     Antioquia     Medellín          El Poblado    0.0\n",
       "1  Cundinamarca   Bogotá D.C  Zona Noroccidental    0.0\n",
       "2  Cundinamarca   Bogotá D.C          Zona Norte    0.0\n",
       "3     Santander  Bucaramanga                   0    0.0\n",
       "4     Antioquia     Medellín                   0    0.0"
      ]
     },
     "execution_count": 124,
     "metadata": {},
     "output_type": "execute_result"
    }
   ],
   "source": [
    "df_match = data[['l2', 'l3', 'l4', 'rooms']].fillna(0)\n",
    "df_match.head()"
   ]
  },
  {
   "cell_type": "code",
   "execution_count": 125,
   "id": "2d84a1d4-dd4a-4797-b203-f587f7567dbb",
   "metadata": {},
   "outputs": [
    {
     "name": "stdout",
     "output_type": "stream",
     "text": [
      "Iterando la etapa 1...\n",
      "Etapa 1, lista !!! \n",
      "Iterando la etapa 2...\n",
      "Etapa 2, Lista !!!\n"
     ]
    }
   ],
   "source": [
    "# Ubicamos los faltantes en funcion del: \n",
    "#     l2 - Nivel administrativo 2, usualmente provincia.\n",
    "#     l3 - Nivel administrativo 3: usualmente ciudad.\n",
    "#     l4 - Nivel administrativo 4: usualmente barrio.\n",
    "print('Iterando la etapa 1...')\n",
    "for i in range(len(df_match)):\n",
    "    Var = df_match.loc[i, \"rooms\"]\n",
    "    if Var == 0:\n",
    "        for j in range(len(df_med)):\n",
    "            l2 = df_match.loc[i, \"l2\"]\n",
    "            l3 = df_match.loc[i, \"l3\"]\n",
    "            l4 = df_match.loc[i, \"l4\"]\n",
    "            X = df_med.loc[(df_med['l2'] == l2) & (df_med['l3'] == l3) & (df_med['l4'] == l4)]\n",
    "            df_match.loc[i, \"rooms\"] = X.rooms.median()\n",
    "            break\n",
    "print('Etapa 1, lista !!! ')\n",
    "\n",
    "# Ubicamos las coordenadas faltantes en funcion del: \n",
    "#     l2 - Nivel administrativo 2, usualmente provincia.\n",
    "#     l3 - Nivel administrativo 3: usualmente ciudad.\n",
    "df_med = data[['l2', 'l3', 'l4', 'rooms']].dropna()\n",
    "df_match = df_match.fillna(0)\n",
    "\n",
    "print('Iterando la etapa 2...')\n",
    "for i in range(len(df_match)):\n",
    "    Var = df_match.loc[i, \"rooms\"]\n",
    "    if Var == 0:\n",
    "        for j in range(len(df_med)):\n",
    "            l2 = df_match.loc[i, \"l2\"]\n",
    "            l3 = df_match.loc[i, \"l3\"]\n",
    "            X = df_med.loc[(df_med['l2'] == l2) & (df_med['l3'] == l3)]\n",
    "            df_match.loc[i, \"rooms\"] = X.rooms.median()\n",
    "            break\n",
    "            \n",
    "data[\"rooms\"] = df_match[\"rooms\"]\n",
    "\n",
    "print('Etapa 2, Lista !!!')"
   ]
  },
  {
   "cell_type": "code",
   "execution_count": 127,
   "id": "756e0b4f-85c4-4e68-b418-5d0b67ba208b",
   "metadata": {},
   "outputs": [
    {
     "data": {
      "text/plain": [
       "start_date              0\n",
       "end_date                0\n",
       "l2                      0\n",
       "l3                  11032\n",
       "l4                 152182\n",
       "rooms               71340\n",
       "bedrooms           157024\n",
       "bathrooms           23980\n",
       "surface_total      190575\n",
       "surface_covered    187747\n",
       "price                   0\n",
       "currency               67\n",
       "price_period       161578\n",
       "title                   1\n",
       "description           121\n",
       "property_type           0\n",
       "latitud             10518\n",
       "longitud            10518\n",
       "dtype: int64"
      ]
     },
     "execution_count": 127,
     "metadata": {},
     "output_type": "execute_result"
    }
   ],
   "source": [
    "data.isnull().sum() "
   ]
  },
  {
   "cell_type": "code",
   "execution_count": 160,
   "id": "1621a496-65a6-4afc-b66c-1a52669b4f24",
   "metadata": {},
   "outputs": [
    {
     "data": {
      "text/plain": [
       "start_date              0\n",
       "end_date                0\n",
       "l2                      0\n",
       "l3                  11032\n",
       "l4                 152182\n",
       "rooms                   0\n",
       "bedrooms            66224\n",
       "bathrooms               0\n",
       "surface_total       80632\n",
       "surface_covered     80383\n",
       "price                   0\n",
       "currency               67\n",
       "price_period       161578\n",
       "title                   1\n",
       "description           121\n",
       "property_type           0\n",
       "latitud             10518\n",
       "longitud            10518\n",
       "dtype: int64"
      ]
     },
     "execution_count": 160,
     "metadata": {},
     "output_type": "execute_result"
    }
   ],
   "source": [
    "# Reemplazaremos los valores faltantes con el valor 1 \n",
    "data[\"rooms\"].fillna(1, inplace = True)\n",
    "data.isnull().sum() "
   ]
  },
  {
   "cell_type": "markdown",
   "id": "cdff8ae2-2693-42d2-835e-b524412f3e92",
   "metadata": {},
   "source": [
    "#### Obteniendo los valores de la columna: 'bedrooms'"
   ]
  },
  {
   "cell_type": "code",
   "execution_count": 128,
   "id": "b5b9ac19-0ca3-4507-bf30-023b2aac0e25",
   "metadata": {},
   "outputs": [
    {
     "data": {
      "text/html": [
       "<div>\n",
       "<style scoped>\n",
       "    .dataframe tbody tr th:only-of-type {\n",
       "        vertical-align: middle;\n",
       "    }\n",
       "\n",
       "    .dataframe tbody tr th {\n",
       "        vertical-align: top;\n",
       "    }\n",
       "\n",
       "    .dataframe thead th {\n",
       "        text-align: right;\n",
       "    }\n",
       "</style>\n",
       "<table border=\"1\" class=\"dataframe\">\n",
       "  <thead>\n",
       "    <tr style=\"text-align: right;\">\n",
       "      <th></th>\n",
       "      <th>l2</th>\n",
       "      <th>l3</th>\n",
       "      <th>l4</th>\n",
       "      <th>bedrooms</th>\n",
       "    </tr>\n",
       "  </thead>\n",
       "  <tbody>\n",
       "    <tr>\n",
       "      <th>0</th>\n",
       "      <td>Antioquia</td>\n",
       "      <td>Medellín</td>\n",
       "      <td>El Poblado</td>\n",
       "      <td>4.0</td>\n",
       "    </tr>\n",
       "    <tr>\n",
       "      <th>1</th>\n",
       "      <td>Cundinamarca</td>\n",
       "      <td>Bogotá D.C</td>\n",
       "      <td>Zona Noroccidental</td>\n",
       "      <td>3.0</td>\n",
       "    </tr>\n",
       "    <tr>\n",
       "      <th>2</th>\n",
       "      <td>Cundinamarca</td>\n",
       "      <td>Bogotá D.C</td>\n",
       "      <td>Zona Norte</td>\n",
       "      <td>0.0</td>\n",
       "    </tr>\n",
       "    <tr>\n",
       "      <th>3</th>\n",
       "      <td>Santander</td>\n",
       "      <td>Bucaramanga</td>\n",
       "      <td>0</td>\n",
       "      <td>0.0</td>\n",
       "    </tr>\n",
       "    <tr>\n",
       "      <th>4</th>\n",
       "      <td>Antioquia</td>\n",
       "      <td>Medellín</td>\n",
       "      <td>0</td>\n",
       "      <td>0.0</td>\n",
       "    </tr>\n",
       "  </tbody>\n",
       "</table>\n",
       "</div>"
      ],
      "text/plain": [
       "             l2           l3                  l4  bedrooms\n",
       "0     Antioquia     Medellín          El Poblado       4.0\n",
       "1  Cundinamarca   Bogotá D.C  Zona Noroccidental       3.0\n",
       "2  Cundinamarca   Bogotá D.C          Zona Norte       0.0\n",
       "3     Santander  Bucaramanga                   0       0.0\n",
       "4     Antioquia     Medellín                   0       0.0"
      ]
     },
     "execution_count": 128,
     "metadata": {},
     "output_type": "execute_result"
    }
   ],
   "source": [
    "# DataFrames auxiliares\n",
    "df_med = data[['l2', 'l3', 'l4', 'bedrooms']].dropna()\n",
    "df_match = data[['l2', 'l3', 'l4', 'bedrooms']].fillna(0)\n",
    "df_match.head()"
   ]
  },
  {
   "cell_type": "code",
   "execution_count": 129,
   "id": "9249ea45-f3f3-444c-846b-8e09a21e2417",
   "metadata": {},
   "outputs": [
    {
     "name": "stdout",
     "output_type": "stream",
     "text": [
      "Iterando la etapa 1...\n",
      "Etapa 1, lista !!! \n",
      "Iterando la etapa 2...\n",
      "Etapa 2, Lista !!!\n"
     ]
    }
   ],
   "source": [
    "# Ubicamos los faltantes en funcion del: \n",
    "#     l2 - Nivel administrativo 2, usualmente provincia.\n",
    "#     l3 - Nivel administrativo 3: usualmente ciudad.\n",
    "#     l4 - Nivel administrativo 4: usualmente barrio.\n",
    "print('Iterando la etapa 1...')\n",
    "for i in range(len(df_match)):\n",
    "    Var = df_match.loc[i, \"bedrooms\"]\n",
    "    if Var == 0:\n",
    "        for j in range(len(df_med)):\n",
    "            l2 = df_match.loc[i, \"l2\"]\n",
    "            l3 = df_match.loc[i, \"l3\"]\n",
    "            l4 = df_match.loc[i, \"l4\"]\n",
    "            X = df_med.loc[(df_med['l2'] == l2) & (df_med['l3'] == l3) & (df_med['l4'] == l4)]\n",
    "            df_match.loc[i, \"bedrooms\"] = X.bedrooms.median()\n",
    "            break\n",
    "print('Etapa 1, lista !!! ')\n",
    "\n",
    "# Ubicamos las coordenadas faltantes en funcion del: \n",
    "#     l2 - Nivel administrativo 2, usualmente provincia.\n",
    "#     l3 - Nivel administrativo 3: usualmente ciudad.\n",
    "df_med = data[['l2', 'l3', 'l4', 'bedrooms']].dropna()\n",
    "df_match = df_match.fillna(0)\n",
    "\n",
    "print('Iterando la etapa 2...')\n",
    "for i in range(len(df_match)):\n",
    "    Var = df_match.loc[i, \"bedrooms\"]\n",
    "    if Var == 0:\n",
    "        for j in range(len(df_med)):\n",
    "            l2 = df_match.loc[i, \"l2\"]\n",
    "            l3 = df_match.loc[i, \"l3\"]\n",
    "            X = df_med.loc[(df_med['l2'] == l2) & (df_med['l3'] == l3)]\n",
    "            df_match.loc[i, \"bedrooms\"] = X.bedrooms.median()\n",
    "            break\n",
    "            \n",
    "data[\"bedrooms\"] = df_match[\"bedrooms\"]\n",
    "\n",
    "print('Etapa 2, Lista !!!')"
   ]
  },
  {
   "cell_type": "code",
   "execution_count": 131,
   "id": "0e506e82-835d-417b-86b1-5260191389e4",
   "metadata": {},
   "outputs": [
    {
     "data": {
      "text/plain": [
       "start_date              0\n",
       "end_date                0\n",
       "l2                      0\n",
       "l3                  11032\n",
       "l4                 152182\n",
       "rooms               71340\n",
       "bedrooms            66224\n",
       "bathrooms           23980\n",
       "surface_total      190575\n",
       "surface_covered    187747\n",
       "price                   0\n",
       "currency               67\n",
       "price_period       161578\n",
       "title                   1\n",
       "description           121\n",
       "property_type           0\n",
       "latitud             10518\n",
       "longitud            10518\n",
       "dtype: int64"
      ]
     },
     "execution_count": 131,
     "metadata": {},
     "output_type": "execute_result"
    }
   ],
   "source": [
    "data.isnull().sum() "
   ]
  },
  {
   "cell_type": "code",
   "execution_count": 163,
   "id": "4ee97d99-bfc3-457c-b014-cc7d89c8bf01",
   "metadata": {},
   "outputs": [
    {
     "data": {
      "text/plain": [
       "start_date              0\n",
       "end_date                0\n",
       "l2                      0\n",
       "l3                  11032\n",
       "l4                 152182\n",
       "rooms                   0\n",
       "bedrooms                0\n",
       "bathrooms               0\n",
       "surface_total       80632\n",
       "surface_covered     80383\n",
       "price                   0\n",
       "currency               67\n",
       "price_period       161578\n",
       "title                   1\n",
       "description           121\n",
       "property_type           0\n",
       "latitud             10518\n",
       "longitud            10518\n",
       "dtype: int64"
      ]
     },
     "execution_count": 163,
     "metadata": {},
     "output_type": "execute_result"
    }
   ],
   "source": [
    "# Reemplazaremos los valores faltantes con el valor 1 \n",
    "data[\"bedrooms\"].fillna(1, inplace = True)\n",
    "data.isnull().sum() "
   ]
  },
  {
   "cell_type": "markdown",
   "id": "7eba040f-8fdf-4a65-966f-71c72b4232ab",
   "metadata": {},
   "source": [
    "#### Obteniendo los valores de la columna: 'surface_total'"
   ]
  },
  {
   "cell_type": "code",
   "execution_count": 134,
   "id": "6dcb71ef-1ef9-48af-a77b-553160efa87e",
   "metadata": {},
   "outputs": [
    {
     "data": {
      "text/html": [
       "<div>\n",
       "<style scoped>\n",
       "    .dataframe tbody tr th:only-of-type {\n",
       "        vertical-align: middle;\n",
       "    }\n",
       "\n",
       "    .dataframe tbody tr th {\n",
       "        vertical-align: top;\n",
       "    }\n",
       "\n",
       "    .dataframe thead th {\n",
       "        text-align: right;\n",
       "    }\n",
       "</style>\n",
       "<table border=\"1\" class=\"dataframe\">\n",
       "  <thead>\n",
       "    <tr style=\"text-align: right;\">\n",
       "      <th></th>\n",
       "      <th>l2</th>\n",
       "      <th>l3</th>\n",
       "      <th>l4</th>\n",
       "      <th>surface_total</th>\n",
       "    </tr>\n",
       "  </thead>\n",
       "  <tbody>\n",
       "    <tr>\n",
       "      <th>0</th>\n",
       "      <td>Antioquia</td>\n",
       "      <td>Medellín</td>\n",
       "      <td>El Poblado</td>\n",
       "      <td>0.0</td>\n",
       "    </tr>\n",
       "    <tr>\n",
       "      <th>1</th>\n",
       "      <td>Cundinamarca</td>\n",
       "      <td>Bogotá D.C</td>\n",
       "      <td>Zona Noroccidental</td>\n",
       "      <td>0.0</td>\n",
       "    </tr>\n",
       "    <tr>\n",
       "      <th>2</th>\n",
       "      <td>Cundinamarca</td>\n",
       "      <td>Bogotá D.C</td>\n",
       "      <td>Zona Norte</td>\n",
       "      <td>0.0</td>\n",
       "    </tr>\n",
       "    <tr>\n",
       "      <th>3</th>\n",
       "      <td>Santander</td>\n",
       "      <td>Bucaramanga</td>\n",
       "      <td>0</td>\n",
       "      <td>0.0</td>\n",
       "    </tr>\n",
       "    <tr>\n",
       "      <th>4</th>\n",
       "      <td>Antioquia</td>\n",
       "      <td>Medellín</td>\n",
       "      <td>0</td>\n",
       "      <td>0.0</td>\n",
       "    </tr>\n",
       "  </tbody>\n",
       "</table>\n",
       "</div>"
      ],
      "text/plain": [
       "             l2           l3                  l4  surface_total\n",
       "0     Antioquia     Medellín          El Poblado            0.0\n",
       "1  Cundinamarca   Bogotá D.C  Zona Noroccidental            0.0\n",
       "2  Cundinamarca   Bogotá D.C          Zona Norte            0.0\n",
       "3     Santander  Bucaramanga                   0            0.0\n",
       "4     Antioquia     Medellín                   0            0.0"
      ]
     },
     "execution_count": 134,
     "metadata": {},
     "output_type": "execute_result"
    }
   ],
   "source": [
    "# DataFrames auxiliares\n",
    "df_med = data[['l2', 'l3', 'l4', 'surface_total']].dropna()\n",
    "df_match = data[['l2', 'l3', 'l4', 'surface_total']].fillna(0)\n",
    "df_match.head()"
   ]
  },
  {
   "cell_type": "code",
   "execution_count": 135,
   "id": "8ba22579-b119-4f07-bd4f-226a6aa16e64",
   "metadata": {},
   "outputs": [
    {
     "name": "stdout",
     "output_type": "stream",
     "text": [
      "Iterando la etapa 1...\n",
      "Etapa 1, lista !!! \n",
      "Iterando la etapa 2...\n",
      "Etapa 2, Lista !!!\n"
     ]
    }
   ],
   "source": [
    "# Ubicamos los faltantes en funcion del: \n",
    "#     l2 - Nivel administrativo 2, usualmente provincia.\n",
    "#     l3 - Nivel administrativo 3: usualmente ciudad.\n",
    "#     l4 - Nivel administrativo 4: usualmente barrio.\n",
    "print('Iterando la etapa 1...')\n",
    "for i in range(len(df_match)):\n",
    "    Var = df_match.loc[i, \"surface_total\"]\n",
    "    if Var == 0:\n",
    "        for j in range(len(df_med)):\n",
    "            l2 = df_match.loc[i, \"l2\"]\n",
    "            l3 = df_match.loc[i, \"l3\"]\n",
    "            l4 = df_match.loc[i, \"l4\"]\n",
    "            X = df_med.loc[(df_med['l2'] == l2) & (df_med['l3'] == l3) & (df_med['l4'] == l4)]\n",
    "            df_match.loc[i, \"surface_total\"] = X.surface_total.median()\n",
    "            break\n",
    "print('Etapa 1, lista !!! ')\n",
    "\n",
    "# Ubicamos las coordenadas faltantes en funcion del: \n",
    "#     l2 - Nivel administrativo 2, usualmente provincia.\n",
    "#     l3 - Nivel administrativo 3: usualmente ciudad.\n",
    "df_med = data[['l2', 'l3', 'l4', 'surface_total']].dropna()\n",
    "df_match = df_match.fillna(0)\n",
    "\n",
    "print('Iterando la etapa 2...')\n",
    "for i in range(len(df_match)):\n",
    "    Var = df_match.loc[i, \"surface_total\"]\n",
    "    if Var == 0:\n",
    "        for j in range(len(df_med)):\n",
    "            l2 = df_match.loc[i, \"l2\"]\n",
    "            l3 = df_match.loc[i, \"l3\"]\n",
    "            X = df_med.loc[(df_med['l2'] == l2) & (df_med['l3'] == l3)]\n",
    "            df_match.loc[i, \"surface_total\"] = X.surface_total.median()\n",
    "            break\n",
    "            \n",
    "data[\"surface_total\"] = df_match[\"surface_total\"]\n",
    "\n",
    "print('Etapa 2, Lista !!!')"
   ]
  },
  {
   "cell_type": "code",
   "execution_count": 137,
   "id": "6e6ad5ad-dc54-404e-94b3-86e324f3adf7",
   "metadata": {},
   "outputs": [
    {
     "data": {
      "text/plain": [
       "start_date              0\n",
       "end_date                0\n",
       "l2                      0\n",
       "l3                  11032\n",
       "l4                 152182\n",
       "rooms               71340\n",
       "bedrooms            66224\n",
       "bathrooms           23980\n",
       "surface_total       80632\n",
       "surface_covered    187747\n",
       "price                   0\n",
       "currency               67\n",
       "price_period       161578\n",
       "title                   1\n",
       "description           121\n",
       "property_type           0\n",
       "latitud             10518\n",
       "longitud            10518\n",
       "dtype: int64"
      ]
     },
     "execution_count": 137,
     "metadata": {},
     "output_type": "execute_result"
    }
   ],
   "source": [
    "data.isnull().sum() "
   ]
  },
  {
   "cell_type": "code",
   "execution_count": 168,
   "id": "624ef266-dca2-45c2-9b29-6b662eed531e",
   "metadata": {},
   "outputs": [
    {
     "data": {
      "text/plain": [
       "start_date              0\n",
       "end_date                0\n",
       "l2                      0\n",
       "l3                  11032\n",
       "l4                 152182\n",
       "rooms                   0\n",
       "bedrooms                0\n",
       "bathrooms               0\n",
       "surface_total           0\n",
       "surface_covered     80383\n",
       "price                   0\n",
       "currency               67\n",
       "price_period       161578\n",
       "title                   1\n",
       "description           121\n",
       "property_type           0\n",
       "latitud             10518\n",
       "longitud            10518\n",
       "dtype: int64"
      ]
     },
     "execution_count": 168,
     "metadata": {},
     "output_type": "execute_result"
    }
   ],
   "source": [
    "# Reemplazaremos los valores faltantes con el promedio\n",
    "surface_total_mean = data[\"surface_total\"].mean()\n",
    "data[\"surface_total\"].fillna(surface_total_mean, inplace = True)\n",
    "data.isnull().sum() "
   ]
  },
  {
   "cell_type": "markdown",
   "id": "7613e924-ee06-416b-a619-dc5b4e627fa1",
   "metadata": {},
   "source": [
    "#### Obteniendo los valores de la columna: 'surface_covered'"
   ]
  },
  {
   "cell_type": "code",
   "execution_count": 140,
   "id": "2bcd0c30-b648-4109-967a-c88b36050cb8",
   "metadata": {},
   "outputs": [
    {
     "data": {
      "text/html": [
       "<div>\n",
       "<style scoped>\n",
       "    .dataframe tbody tr th:only-of-type {\n",
       "        vertical-align: middle;\n",
       "    }\n",
       "\n",
       "    .dataframe tbody tr th {\n",
       "        vertical-align: top;\n",
       "    }\n",
       "\n",
       "    .dataframe thead th {\n",
       "        text-align: right;\n",
       "    }\n",
       "</style>\n",
       "<table border=\"1\" class=\"dataframe\">\n",
       "  <thead>\n",
       "    <tr style=\"text-align: right;\">\n",
       "      <th></th>\n",
       "      <th>l2</th>\n",
       "      <th>l3</th>\n",
       "      <th>l4</th>\n",
       "      <th>surface_covered</th>\n",
       "    </tr>\n",
       "  </thead>\n",
       "  <tbody>\n",
       "    <tr>\n",
       "      <th>0</th>\n",
       "      <td>Antioquia</td>\n",
       "      <td>Medellín</td>\n",
       "      <td>El Poblado</td>\n",
       "      <td>0.0</td>\n",
       "    </tr>\n",
       "    <tr>\n",
       "      <th>1</th>\n",
       "      <td>Cundinamarca</td>\n",
       "      <td>Bogotá D.C</td>\n",
       "      <td>Zona Noroccidental</td>\n",
       "      <td>0.0</td>\n",
       "    </tr>\n",
       "    <tr>\n",
       "      <th>2</th>\n",
       "      <td>Cundinamarca</td>\n",
       "      <td>Bogotá D.C</td>\n",
       "      <td>Zona Norte</td>\n",
       "      <td>0.0</td>\n",
       "    </tr>\n",
       "    <tr>\n",
       "      <th>3</th>\n",
       "      <td>Santander</td>\n",
       "      <td>Bucaramanga</td>\n",
       "      <td>0</td>\n",
       "      <td>0.0</td>\n",
       "    </tr>\n",
       "    <tr>\n",
       "      <th>4</th>\n",
       "      <td>Antioquia</td>\n",
       "      <td>Medellín</td>\n",
       "      <td>0</td>\n",
       "      <td>0.0</td>\n",
       "    </tr>\n",
       "  </tbody>\n",
       "</table>\n",
       "</div>"
      ],
      "text/plain": [
       "             l2           l3                  l4  surface_covered\n",
       "0     Antioquia     Medellín          El Poblado              0.0\n",
       "1  Cundinamarca   Bogotá D.C  Zona Noroccidental              0.0\n",
       "2  Cundinamarca   Bogotá D.C          Zona Norte              0.0\n",
       "3     Santander  Bucaramanga                   0              0.0\n",
       "4     Antioquia     Medellín                   0              0.0"
      ]
     },
     "execution_count": 140,
     "metadata": {},
     "output_type": "execute_result"
    }
   ],
   "source": [
    "# DataFrames auxiliares\n",
    "df_med = data[['l2', 'l3', 'l4', 'surface_covered']].dropna()\n",
    "df_match = data[['l2', 'l3', 'l4', 'surface_covered']].fillna(0)\n",
    "df_match.head()"
   ]
  },
  {
   "cell_type": "code",
   "execution_count": 141,
   "id": "d1254ab9-fb56-4f25-ab34-46ebcd4a1aad",
   "metadata": {},
   "outputs": [
    {
     "name": "stdout",
     "output_type": "stream",
     "text": [
      "Iterando la etapa 1...\n",
      "Etapa 1, lista !!! \n",
      "Iterando la etapa 2...\n",
      "Etapa 2, Lista !!!\n"
     ]
    }
   ],
   "source": [
    "# Ubicamos los faltantes en funcion del: \n",
    "#     l2 - Nivel administrativo 2, usualmente provincia.\n",
    "#     l3 - Nivel administrativo 3: usualmente ciudad.\n",
    "#     l4 - Nivel administrativo 4: usualmente barrio.\n",
    "print('Iterando la etapa 1...')\n",
    "for i in range(len(df_match)):\n",
    "    Var = df_match.loc[i, \"surface_covered\"]\n",
    "    if Var == 0:\n",
    "        for j in range(len(df_med)):\n",
    "            l2 = df_match.loc[i, \"l2\"]\n",
    "            l3 = df_match.loc[i, \"l3\"]\n",
    "            l4 = df_match.loc[i, \"l4\"]\n",
    "            X = df_med.loc[(df_med['l2'] == l2) & (df_med['l3'] == l3) & (df_med['l4'] == l4)]\n",
    "            df_match.loc[i, \"surface_covered\"] = X.surface_covered.median()\n",
    "            break\n",
    "print('Etapa 1, lista !!! ')\n",
    "\n",
    "# Ubicamos las coordenadas faltantes en funcion del: \n",
    "#     l2 - Nivel administrativo 2, usualmente provincia.\n",
    "#     l3 - Nivel administrativo 3: usualmente ciudad.\n",
    "df_med = data[['l2', 'l3', 'l4', 'surface_covered']].dropna()\n",
    "df_match = df_match.fillna(0)\n",
    "\n",
    "print('Iterando la etapa 2...')\n",
    "for i in range(len(df_match)):\n",
    "    Var = df_match.loc[i, \"surface_covered\"]\n",
    "    if Var == 0:\n",
    "        for j in range(len(df_med)):\n",
    "            l2 = df_match.loc[i, \"l2\"]\n",
    "            l3 = df_match.loc[i, \"l3\"]\n",
    "            X = df_med.loc[(df_med['l2'] == l2) & (df_med['l3'] == l3)]\n",
    "            df_match.loc[i, \"surface_covered\"] = X.surface_covered.median()\n",
    "            break\n",
    "            \n",
    "data[\"surface_covered\"] = df_match[\"surface_covered\"]\n",
    "\n",
    "print('Etapa 2, Lista !!!')"
   ]
  },
  {
   "cell_type": "code",
   "execution_count": 142,
   "id": "55998bdf-8b87-4188-9086-7b5da45c21c1",
   "metadata": {},
   "outputs": [
    {
     "data": {
      "text/plain": [
       "start_date              0\n",
       "end_date                0\n",
       "l2                      0\n",
       "l3                  11032\n",
       "l4                 152182\n",
       "rooms               71340\n",
       "bedrooms            66224\n",
       "bathrooms           23980\n",
       "surface_total       80632\n",
       "surface_covered     80383\n",
       "price                   0\n",
       "currency               67\n",
       "price_period       161578\n",
       "title                   1\n",
       "description           121\n",
       "property_type           0\n",
       "latitud             10518\n",
       "longitud            10518\n",
       "dtype: int64"
      ]
     },
     "execution_count": 142,
     "metadata": {},
     "output_type": "execute_result"
    }
   ],
   "source": [
    "data.isnull().sum() # 187747"
   ]
  },
  {
   "cell_type": "code",
   "execution_count": 170,
   "id": "eb1df1f8-f49a-4893-b0b6-62639b1608e5",
   "metadata": {},
   "outputs": [
    {
     "data": {
      "text/plain": [
       "start_date              0\n",
       "end_date                0\n",
       "l2                      0\n",
       "l3                  11032\n",
       "l4                 152182\n",
       "rooms                   0\n",
       "bedrooms                0\n",
       "bathrooms               0\n",
       "surface_total           0\n",
       "surface_covered         0\n",
       "price                   0\n",
       "currency               67\n",
       "price_period       161578\n",
       "title                   1\n",
       "description           121\n",
       "property_type           0\n",
       "latitud             10518\n",
       "longitud            10518\n",
       "dtype: int64"
      ]
     },
     "execution_count": 170,
     "metadata": {},
     "output_type": "execute_result"
    }
   ],
   "source": [
    "# Reemplazaremos los valores faltantes con el promedio\n",
    "surface_covered_mean = data[\"surface_covered\"].mean()\n",
    "data[\"surface_covered\"].fillna(surface_covered_mean, inplace = True)\n",
    "data.isnull().sum() "
   ]
  },
  {
   "cell_type": "markdown",
   "id": "2273c489-8740-4807-8b2b-9922a946a435",
   "metadata": {},
   "source": [
    "### g) Columnas 'currency', 'price_period', 'title' ,'description'"
   ]
  },
  {
   "cell_type": "markdown",
   "id": "697f3e1f-cd5a-4557-a8ef-011d18461320",
   "metadata": {},
   "source": [
    "Las columnas 'currency' y 'price_period', no tenia información relevante. Las columnas 'title' y 'description', aunque si tenia información relevante, no se encontró la forma de extraer dicha información usando procesamiento de lenguaje natural. Por tales razones se eliminaran las tres columnas."
   ]
  },
  {
   "cell_type": "code",
   "execution_count": 172,
   "id": "0e18222f-5a26-4bbf-bc65-0913c0c9c18f",
   "metadata": {},
   "outputs": [
    {
     "data": {
      "text/html": [
       "<div>\n",
       "<style scoped>\n",
       "    .dataframe tbody tr th:only-of-type {\n",
       "        vertical-align: middle;\n",
       "    }\n",
       "\n",
       "    .dataframe tbody tr th {\n",
       "        vertical-align: top;\n",
       "    }\n",
       "\n",
       "    .dataframe thead th {\n",
       "        text-align: right;\n",
       "    }\n",
       "</style>\n",
       "<table border=\"1\" class=\"dataframe\">\n",
       "  <thead>\n",
       "    <tr style=\"text-align: right;\">\n",
       "      <th></th>\n",
       "      <th>start_date</th>\n",
       "      <th>end_date</th>\n",
       "      <th>l2</th>\n",
       "      <th>l3</th>\n",
       "      <th>l4</th>\n",
       "      <th>rooms</th>\n",
       "      <th>bedrooms</th>\n",
       "      <th>bathrooms</th>\n",
       "      <th>surface_total</th>\n",
       "      <th>surface_covered</th>\n",
       "      <th>price</th>\n",
       "      <th>property_type</th>\n",
       "      <th>latitud</th>\n",
       "      <th>longitud</th>\n",
       "    </tr>\n",
       "  </thead>\n",
       "  <tbody>\n",
       "    <tr>\n",
       "      <th>0</th>\n",
       "      <td>1607925600</td>\n",
       "      <td>1609394400</td>\n",
       "      <td>Antioquia</td>\n",
       "      <td>Medellín</td>\n",
       "      <td>El Poblado</td>\n",
       "      <td>3.0</td>\n",
       "      <td>4.0</td>\n",
       "      <td>4.0</td>\n",
       "      <td>157.0</td>\n",
       "      <td>157.0</td>\n",
       "      <td>1</td>\n",
       "      <td>Casa</td>\n",
       "      <td>6.203000</td>\n",
       "      <td>-75.572000</td>\n",
       "    </tr>\n",
       "    <tr>\n",
       "      <th>1</th>\n",
       "      <td>1600232400</td>\n",
       "      <td>1620968400</td>\n",
       "      <td>Cundinamarca</td>\n",
       "      <td>Bogotá D.C</td>\n",
       "      <td>Zona Noroccidental</td>\n",
       "      <td>3.0</td>\n",
       "      <td>3.0</td>\n",
       "      <td>2.0</td>\n",
       "      <td>137.0</td>\n",
       "      <td>110.0</td>\n",
       "      <td>0</td>\n",
       "      <td>Apartamento</td>\n",
       "      <td>4.722748</td>\n",
       "      <td>-74.073115</td>\n",
       "    </tr>\n",
       "    <tr>\n",
       "      <th>2</th>\n",
       "      <td>1597813200</td>\n",
       "      <td>1597899600</td>\n",
       "      <td>Cundinamarca</td>\n",
       "      <td>Bogotá D.C</td>\n",
       "      <td>Zona Norte</td>\n",
       "      <td>3.0</td>\n",
       "      <td>3.0</td>\n",
       "      <td>2.0</td>\n",
       "      <td>102.0</td>\n",
       "      <td>105.0</td>\n",
       "      <td>0</td>\n",
       "      <td>Casa</td>\n",
       "      <td>4.709000</td>\n",
       "      <td>-74.030000</td>\n",
       "    </tr>\n",
       "    <tr>\n",
       "      <th>3</th>\n",
       "      <td>1606111200</td>\n",
       "      <td>1606716000</td>\n",
       "      <td>Santander</td>\n",
       "      <td>Bucaramanga</td>\n",
       "      <td>NaN</td>\n",
       "      <td>3.0</td>\n",
       "      <td>3.0</td>\n",
       "      <td>1.0</td>\n",
       "      <td>100.0</td>\n",
       "      <td>84.5</td>\n",
       "      <td>1</td>\n",
       "      <td>Otro</td>\n",
       "      <td>6.632215</td>\n",
       "      <td>-73.208634</td>\n",
       "    </tr>\n",
       "    <tr>\n",
       "      <th>4</th>\n",
       "      <td>1601960400</td>\n",
       "      <td>1602046800</td>\n",
       "      <td>Antioquia</td>\n",
       "      <td>Medellín</td>\n",
       "      <td>NaN</td>\n",
       "      <td>3.0</td>\n",
       "      <td>3.0</td>\n",
       "      <td>2.0</td>\n",
       "      <td>121.0</td>\n",
       "      <td>122.0</td>\n",
       "      <td>0</td>\n",
       "      <td>Apartamento</td>\n",
       "      <td>6.217816</td>\n",
       "      <td>-75.564349</td>\n",
       "    </tr>\n",
       "  </tbody>\n",
       "</table>\n",
       "</div>"
      ],
      "text/plain": [
       "   start_date    end_date            l2           l3                  l4  \\\n",
       "0  1607925600  1609394400     Antioquia     Medellín          El Poblado   \n",
       "1  1600232400  1620968400  Cundinamarca   Bogotá D.C  Zona Noroccidental   \n",
       "2  1597813200  1597899600  Cundinamarca   Bogotá D.C          Zona Norte   \n",
       "3  1606111200  1606716000     Santander  Bucaramanga                 NaN   \n",
       "4  1601960400  1602046800     Antioquia     Medellín                 NaN   \n",
       "\n",
       "   rooms  bedrooms  bathrooms  surface_total  surface_covered  price  \\\n",
       "0    3.0       4.0        4.0          157.0            157.0      1   \n",
       "1    3.0       3.0        2.0          137.0            110.0      0   \n",
       "2    3.0       3.0        2.0          102.0            105.0      0   \n",
       "3    3.0       3.0        1.0          100.0             84.5      1   \n",
       "4    3.0       3.0        2.0          121.0            122.0      0   \n",
       "\n",
       "  property_type   latitud   longitud  \n",
       "0          Casa  6.203000 -75.572000  \n",
       "1   Apartamento  4.722748 -74.073115  \n",
       "2          Casa  4.709000 -74.030000  \n",
       "3          Otro  6.632215 -73.208634  \n",
       "4   Apartamento  6.217816 -75.564349  "
      ]
     },
     "execution_count": 172,
     "metadata": {},
     "output_type": "execute_result"
    }
   ],
   "source": [
    "# Eliminamos la columna 'geometry':\n",
    "data.drop(['currency', 'price_period', 'title' ,'description'], axis=1, inplace=True)\n",
    "data.head()"
   ]
  },
  {
   "cell_type": "markdown",
   "id": "70ef3263-bd67-469e-9722-d654881dfd4c",
   "metadata": {},
   "source": [
    "### h) Eliminación de valores nulos\n",
    "\n",
    "Eliminarémos los registros cuyos valores nulos se encuentren en las columnas de *_'latitud' y 'longitud'_*"
   ]
  },
  {
   "cell_type": "code",
   "execution_count": 181,
   "id": "49c953f1-ab7c-4a61-b98e-aeaaeddba994",
   "metadata": {},
   "outputs": [
    {
     "data": {
      "text/html": [
       "<div>\n",
       "<style scoped>\n",
       "    .dataframe tbody tr th:only-of-type {\n",
       "        vertical-align: middle;\n",
       "    }\n",
       "\n",
       "    .dataframe tbody tr th {\n",
       "        vertical-align: top;\n",
       "    }\n",
       "\n",
       "    .dataframe thead th {\n",
       "        text-align: right;\n",
       "    }\n",
       "</style>\n",
       "<table border=\"1\" class=\"dataframe\">\n",
       "  <thead>\n",
       "    <tr style=\"text-align: right;\">\n",
       "      <th></th>\n",
       "      <th>start_date</th>\n",
       "      <th>end_date</th>\n",
       "      <th>l2</th>\n",
       "      <th>l3</th>\n",
       "      <th>l4</th>\n",
       "      <th>rooms</th>\n",
       "      <th>bedrooms</th>\n",
       "      <th>bathrooms</th>\n",
       "      <th>surface_total</th>\n",
       "      <th>surface_covered</th>\n",
       "      <th>price</th>\n",
       "      <th>property_type</th>\n",
       "      <th>latitud</th>\n",
       "      <th>longitud</th>\n",
       "    </tr>\n",
       "  </thead>\n",
       "  <tbody>\n",
       "    <tr>\n",
       "      <th>0</th>\n",
       "      <td>1607925600</td>\n",
       "      <td>1609394400</td>\n",
       "      <td>Antioquia</td>\n",
       "      <td>Medellín</td>\n",
       "      <td>El Poblado</td>\n",
       "      <td>3.0</td>\n",
       "      <td>4.0</td>\n",
       "      <td>4.0</td>\n",
       "      <td>157.0</td>\n",
       "      <td>157.0</td>\n",
       "      <td>1</td>\n",
       "      <td>Casa</td>\n",
       "      <td>6.203000</td>\n",
       "      <td>-75.572000</td>\n",
       "    </tr>\n",
       "    <tr>\n",
       "      <th>1</th>\n",
       "      <td>1600232400</td>\n",
       "      <td>1620968400</td>\n",
       "      <td>Cundinamarca</td>\n",
       "      <td>Bogotá D.C</td>\n",
       "      <td>Zona Noroccidental</td>\n",
       "      <td>3.0</td>\n",
       "      <td>3.0</td>\n",
       "      <td>2.0</td>\n",
       "      <td>137.0</td>\n",
       "      <td>110.0</td>\n",
       "      <td>0</td>\n",
       "      <td>Apartamento</td>\n",
       "      <td>4.722748</td>\n",
       "      <td>-74.073115</td>\n",
       "    </tr>\n",
       "    <tr>\n",
       "      <th>2</th>\n",
       "      <td>1597813200</td>\n",
       "      <td>1597899600</td>\n",
       "      <td>Cundinamarca</td>\n",
       "      <td>Bogotá D.C</td>\n",
       "      <td>Zona Norte</td>\n",
       "      <td>3.0</td>\n",
       "      <td>3.0</td>\n",
       "      <td>2.0</td>\n",
       "      <td>102.0</td>\n",
       "      <td>105.0</td>\n",
       "      <td>0</td>\n",
       "      <td>Casa</td>\n",
       "      <td>4.709000</td>\n",
       "      <td>-74.030000</td>\n",
       "    </tr>\n",
       "    <tr>\n",
       "      <th>3</th>\n",
       "      <td>1606111200</td>\n",
       "      <td>1606716000</td>\n",
       "      <td>Santander</td>\n",
       "      <td>Bucaramanga</td>\n",
       "      <td>NaN</td>\n",
       "      <td>3.0</td>\n",
       "      <td>3.0</td>\n",
       "      <td>1.0</td>\n",
       "      <td>100.0</td>\n",
       "      <td>84.5</td>\n",
       "      <td>1</td>\n",
       "      <td>Otro</td>\n",
       "      <td>6.632215</td>\n",
       "      <td>-73.208634</td>\n",
       "    </tr>\n",
       "    <tr>\n",
       "      <th>4</th>\n",
       "      <td>1601960400</td>\n",
       "      <td>1602046800</td>\n",
       "      <td>Antioquia</td>\n",
       "      <td>Medellín</td>\n",
       "      <td>NaN</td>\n",
       "      <td>3.0</td>\n",
       "      <td>3.0</td>\n",
       "      <td>2.0</td>\n",
       "      <td>121.0</td>\n",
       "      <td>122.0</td>\n",
       "      <td>0</td>\n",
       "      <td>Apartamento</td>\n",
       "      <td>6.217816</td>\n",
       "      <td>-75.564349</td>\n",
       "    </tr>\n",
       "    <tr>\n",
       "      <th>...</th>\n",
       "      <td>...</td>\n",
       "      <td>...</td>\n",
       "      <td>...</td>\n",
       "      <td>...</td>\n",
       "      <td>...</td>\n",
       "      <td>...</td>\n",
       "      <td>...</td>\n",
       "      <td>...</td>\n",
       "      <td>...</td>\n",
       "      <td>...</td>\n",
       "      <td>...</td>\n",
       "      <td>...</td>\n",
       "      <td>...</td>\n",
       "      <td>...</td>\n",
       "    </tr>\n",
       "    <tr>\n",
       "      <th>197544</th>\n",
       "      <td>1603778400</td>\n",
       "      <td>1609394400</td>\n",
       "      <td>Cundinamarca</td>\n",
       "      <td>Bogotá D.C</td>\n",
       "      <td>Zona Suroccidental</td>\n",
       "      <td>3.0</td>\n",
       "      <td>3.0</td>\n",
       "      <td>2.0</td>\n",
       "      <td>69.0</td>\n",
       "      <td>68.0</td>\n",
       "      <td>0</td>\n",
       "      <td>Apartamento</td>\n",
       "      <td>4.649682</td>\n",
       "      <td>-74.161950</td>\n",
       "    </tr>\n",
       "    <tr>\n",
       "      <th>197545</th>\n",
       "      <td>1606456800</td>\n",
       "      <td>1607493600</td>\n",
       "      <td>Cundinamarca</td>\n",
       "      <td>Bogotá D.C</td>\n",
       "      <td>Zona Chapinero</td>\n",
       "      <td>3.0</td>\n",
       "      <td>3.0</td>\n",
       "      <td>1.0</td>\n",
       "      <td>133.5</td>\n",
       "      <td>17.0</td>\n",
       "      <td>0</td>\n",
       "      <td>Oficina</td>\n",
       "      <td>4.668000</td>\n",
       "      <td>-74.055000</td>\n",
       "    </tr>\n",
       "    <tr>\n",
       "      <th>197546</th>\n",
       "      <td>1603864800</td>\n",
       "      <td>1609567200</td>\n",
       "      <td>Valle del Cauca</td>\n",
       "      <td>Cali</td>\n",
       "      <td>NaN</td>\n",
       "      <td>3.0</td>\n",
       "      <td>3.0</td>\n",
       "      <td>1.0</td>\n",
       "      <td>126.5</td>\n",
       "      <td>120.0</td>\n",
       "      <td>0</td>\n",
       "      <td>Otro</td>\n",
       "      <td>3.413000</td>\n",
       "      <td>-76.541000</td>\n",
       "    </tr>\n",
       "    <tr>\n",
       "      <th>197547</th>\n",
       "      <td>1597381200</td>\n",
       "      <td>1597381200</td>\n",
       "      <td>Cundinamarca</td>\n",
       "      <td>Bogotá D.C</td>\n",
       "      <td>Zona Occidental</td>\n",
       "      <td>3.0</td>\n",
       "      <td>3.0</td>\n",
       "      <td>2.0</td>\n",
       "      <td>109.0</td>\n",
       "      <td>116.5</td>\n",
       "      <td>0</td>\n",
       "      <td>Casa</td>\n",
       "      <td>4.674874</td>\n",
       "      <td>-74.147077</td>\n",
       "    </tr>\n",
       "    <tr>\n",
       "      <th>197548</th>\n",
       "      <td>1601960400</td>\n",
       "      <td>1606456800</td>\n",
       "      <td>Atlántico</td>\n",
       "      <td>Barranquilla</td>\n",
       "      <td>NaN</td>\n",
       "      <td>3.0</td>\n",
       "      <td>3.0</td>\n",
       "      <td>1.0</td>\n",
       "      <td>92.0</td>\n",
       "      <td>98.0</td>\n",
       "      <td>0</td>\n",
       "      <td>Apartamento</td>\n",
       "      <td>10.935994</td>\n",
       "      <td>-74.802899</td>\n",
       "    </tr>\n",
       "  </tbody>\n",
       "</table>\n",
       "<p>187031 rows × 14 columns</p>\n",
       "</div>"
      ],
      "text/plain": [
       "        start_date    end_date               l2            l3  \\\n",
       "0       1607925600  1609394400        Antioquia      Medellín   \n",
       "1       1600232400  1620968400     Cundinamarca    Bogotá D.C   \n",
       "2       1597813200  1597899600     Cundinamarca    Bogotá D.C   \n",
       "3       1606111200  1606716000        Santander   Bucaramanga   \n",
       "4       1601960400  1602046800        Antioquia      Medellín   \n",
       "...            ...         ...              ...           ...   \n",
       "197544  1603778400  1609394400     Cundinamarca    Bogotá D.C   \n",
       "197545  1606456800  1607493600     Cundinamarca    Bogotá D.C   \n",
       "197546  1603864800  1609567200  Valle del Cauca          Cali   \n",
       "197547  1597381200  1597381200     Cundinamarca    Bogotá D.C   \n",
       "197548  1601960400  1606456800        Atlántico  Barranquilla   \n",
       "\n",
       "                        l4  rooms  bedrooms  bathrooms  surface_total  \\\n",
       "0               El Poblado    3.0       4.0        4.0          157.0   \n",
       "1       Zona Noroccidental    3.0       3.0        2.0          137.0   \n",
       "2               Zona Norte    3.0       3.0        2.0          102.0   \n",
       "3                      NaN    3.0       3.0        1.0          100.0   \n",
       "4                      NaN    3.0       3.0        2.0          121.0   \n",
       "...                    ...    ...       ...        ...            ...   \n",
       "197544  Zona Suroccidental    3.0       3.0        2.0           69.0   \n",
       "197545      Zona Chapinero    3.0       3.0        1.0          133.5   \n",
       "197546                 NaN    3.0       3.0        1.0          126.5   \n",
       "197547     Zona Occidental    3.0       3.0        2.0          109.0   \n",
       "197548                 NaN    3.0       3.0        1.0           92.0   \n",
       "\n",
       "        surface_covered  price property_type    latitud   longitud  \n",
       "0                 157.0      1          Casa   6.203000 -75.572000  \n",
       "1                 110.0      0   Apartamento   4.722748 -74.073115  \n",
       "2                 105.0      0          Casa   4.709000 -74.030000  \n",
       "3                  84.5      1          Otro   6.632215 -73.208634  \n",
       "4                 122.0      0   Apartamento   6.217816 -75.564349  \n",
       "...                 ...    ...           ...        ...        ...  \n",
       "197544             68.0      0   Apartamento   4.649682 -74.161950  \n",
       "197545             17.0      0       Oficina   4.668000 -74.055000  \n",
       "197546            120.0      0          Otro   3.413000 -76.541000  \n",
       "197547            116.5      0          Casa   4.674874 -74.147077  \n",
       "197548             98.0      0   Apartamento  10.935994 -74.802899  \n",
       "\n",
       "[187031 rows x 14 columns]"
      ]
     },
     "execution_count": 181,
     "metadata": {},
     "output_type": "execute_result"
    }
   ],
   "source": [
    "data = data[data['latitud'].notna()]\n",
    "data"
   ]
  },
  {
   "cell_type": "code",
   "execution_count": 182,
   "id": "5aa72f64-a0c7-4a8b-ab66-682eea12c30e",
   "metadata": {},
   "outputs": [
    {
     "data": {
      "text/plain": [
       "start_date              0\n",
       "end_date                0\n",
       "l2                      0\n",
       "l3                  10708\n",
       "l4                 141664\n",
       "rooms                   0\n",
       "bedrooms                0\n",
       "bathrooms               0\n",
       "surface_total           0\n",
       "surface_covered         0\n",
       "price                   0\n",
       "property_type           0\n",
       "latitud                 0\n",
       "longitud                0\n",
       "dtype: int64"
      ]
     },
     "execution_count": 182,
     "metadata": {},
     "output_type": "execute_result"
    }
   ],
   "source": [
    "data.isnull().sum()"
   ]
  },
  {
   "cell_type": "markdown",
   "id": "91d301ee-b49a-4c4c-9fe0-65327a4be13d",
   "metadata": {},
   "source": [
    "### i) Reemplazamos los valores faltantes de 'l3' y 'l4'"
   ]
  },
  {
   "cell_type": "code",
   "execution_count": 183,
   "id": "5c177413-d01a-4dc9-b36f-8ca3c33ce26e",
   "metadata": {},
   "outputs": [
    {
     "name": "stderr",
     "output_type": "stream",
     "text": [
      "D:\\JOSUE\\TEMP\\ipykernel_10068\\253781045.py:1: SettingWithCopyWarning: \n",
      "A value is trying to be set on a copy of a slice from a DataFrame\n",
      "\n",
      "See the caveats in the documentation: https://pandas.pydata.org/pandas-docs/stable/user_guide/indexing.html#returning-a-view-versus-a-copy\n",
      "  data[\"l3\"].fillna('l3_UnKnown', inplace = True)\n"
     ]
    },
    {
     "data": {
      "text/plain": [
       "start_date              0\n",
       "end_date                0\n",
       "l2                      0\n",
       "l3                      0\n",
       "l4                 141664\n",
       "rooms                   0\n",
       "bedrooms                0\n",
       "bathrooms               0\n",
       "surface_total           0\n",
       "surface_covered         0\n",
       "price                   0\n",
       "property_type           0\n",
       "latitud                 0\n",
       "longitud                0\n",
       "dtype: int64"
      ]
     },
     "execution_count": 183,
     "metadata": {},
     "output_type": "execute_result"
    }
   ],
   "source": [
    "data[\"l3\"].fillna('l3_UnKnown', inplace = True)\n",
    "data.isnull().sum() "
   ]
  },
  {
   "cell_type": "code",
   "execution_count": 184,
   "id": "d0cc5f46-e3b4-4696-ac86-92b8392b7963",
   "metadata": {},
   "outputs": [
    {
     "name": "stderr",
     "output_type": "stream",
     "text": [
      "D:\\JOSUE\\TEMP\\ipykernel_10068\\4197252908.py:1: SettingWithCopyWarning: \n",
      "A value is trying to be set on a copy of a slice from a DataFrame\n",
      "\n",
      "See the caveats in the documentation: https://pandas.pydata.org/pandas-docs/stable/user_guide/indexing.html#returning-a-view-versus-a-copy\n",
      "  data[\"l4\"].fillna('l4_UnKnown', inplace = True)\n"
     ]
    },
    {
     "data": {
      "text/plain": [
       "start_date         0\n",
       "end_date           0\n",
       "l2                 0\n",
       "l3                 0\n",
       "l4                 0\n",
       "rooms              0\n",
       "bedrooms           0\n",
       "bathrooms          0\n",
       "surface_total      0\n",
       "surface_covered    0\n",
       "price              0\n",
       "property_type      0\n",
       "latitud            0\n",
       "longitud           0\n",
       "dtype: int64"
      ]
     },
     "execution_count": 184,
     "metadata": {},
     "output_type": "execute_result"
    }
   ],
   "source": [
    "data[\"l4\"].fillna('l4_UnKnown', inplace = True)\n",
    "data.isnull().sum() "
   ]
  },
  {
   "cell_type": "markdown",
   "id": "ab00f62d-47fc-40d1-a4fb-648524c648df",
   "metadata": {},
   "source": [
    "### j) Guardamos el DataFrame en un *.csv"
   ]
  },
  {
   "cell_type": "code",
   "execution_count": 185,
   "id": "7822c435-0ed6-4c91-b372-116b7142913b",
   "metadata": {},
   "outputs": [
    {
     "name": "stdout",
     "output_type": "stream",
     "text": [
      "Dataset guardado !!!\n"
     ]
    }
   ],
   "source": [
    "data.to_csv('dataset_train.csv')\n",
    "print('Dataset guardado !!!')"
   ]
  },
  {
   "cell_type": "markdown",
   "id": "e4c27a02-1718-407e-bbb0-ceb98e0aa51d",
   "metadata": {},
   "source": [
    "### k) Analisis exploratorio de los datos usando un Mapa de Calor."
   ]
  },
  {
   "cell_type": "markdown",
   "id": "be06dec0-d20e-4760-b06f-7c033b582360",
   "metadata": {},
   "source": [
    "Creamos un histograma de cada categoría para realizar una análisis rápido que nos permita sacar conclusiones a simple vista sobre el dataset."
   ]
  },
  {
   "cell_type": "code",
   "execution_count": 188,
   "id": "34f8c9b9-7e95-463e-92e4-d43df364bf4c",
   "metadata": {},
   "outputs": [
    {
     "data": {
      "text/plain": [
       "<AxesSubplot:>"
      ]
     },
     "execution_count": 188,
     "metadata": {},
     "output_type": "execute_result"
    },
    {
     "data": {
      "image/png": "[encoded data removed]",
      "text/plain": [
       "<Figure size 1080x1080 with 2 Axes>"
      ]
     },
     "metadata": {
      "needs_background": "light"
     },
     "output_type": "display_data"
    }
   ],
   "source": [
    "correlations = data.corr()\n",
    "f, ax = plt.subplots(figsize = (15, 15))\n",
    "sns.heatmap(correlations, annot = True)"
   ]
  },
  {
   "cell_type": "markdown",
   "id": "4e113018-56aa-4327-9da4-e7ff15931640",
   "metadata": {},
   "source": [
    "**Conclusiones del análisis exploratorio.**\n",
    "\n",
    "1) **start_date y end_date** estan fuertemente correlacionadas entre sí.\n",
    "\n",
    "2) **rooms y bedrooms** estan fuertemente correlacionadas entre sí.\n",
    "\n",
    "3) **bathrooms y price** estan medianamente correlacionadas entre sí.\n",
    "\n",
    "4) **bathrooms y price** estan medianamente correlacionadas entre sí.\n",
    "\n",
    "5) **surface_total y surface_covered** no estan correlacionadas con nada.\n",
    "\n",
    "6) **latitud y longitud** estan medianamente correlacionadas entre sí."
   ]
  },
  {
   "cell_type": "markdown",
   "id": "d1d506e4-6fed-4e18-b223-1029c98e9a5b",
   "metadata": {},
   "source": [
    "## 3) Preprocesamiento de datos."
   ]
  },
  {
   "cell_type": "code",
   "execution_count": 189,
   "id": "3c1a46a6-ec78-4763-954a-6259bb0696fd",
   "metadata": {},
   "outputs": [
    {
     "data": {
      "text/html": [
       "<div>\n",
       "<style scoped>\n",
       "    .dataframe tbody tr th:only-of-type {\n",
       "        vertical-align: middle;\n",
       "    }\n",
       "\n",
       "    .dataframe tbody tr th {\n",
       "        vertical-align: top;\n",
       "    }\n",
       "\n",
       "    .dataframe thead th {\n",
       "        text-align: right;\n",
       "    }\n",
       "</style>\n",
       "<table border=\"1\" class=\"dataframe\">\n",
       "  <thead>\n",
       "    <tr style=\"text-align: right;\">\n",
       "      <th></th>\n",
       "      <th>start_date</th>\n",
       "      <th>end_date</th>\n",
       "      <th>l2</th>\n",
       "      <th>l3</th>\n",
       "      <th>l4</th>\n",
       "      <th>rooms</th>\n",
       "      <th>bedrooms</th>\n",
       "      <th>bathrooms</th>\n",
       "      <th>surface_total</th>\n",
       "      <th>surface_covered</th>\n",
       "      <th>price</th>\n",
       "      <th>property_type</th>\n",
       "      <th>latitud</th>\n",
       "      <th>longitud</th>\n",
       "    </tr>\n",
       "  </thead>\n",
       "  <tbody>\n",
       "    <tr>\n",
       "      <th>0</th>\n",
       "      <td>1607925600</td>\n",
       "      <td>1609394400</td>\n",
       "      <td>Antioquia</td>\n",
       "      <td>Medellín</td>\n",
       "      <td>El Poblado</td>\n",
       "      <td>3.0</td>\n",
       "      <td>4.0</td>\n",
       "      <td>4.0</td>\n",
       "      <td>157.0</td>\n",
       "      <td>157.0</td>\n",
       "      <td>1</td>\n",
       "      <td>Casa</td>\n",
       "      <td>6.203000</td>\n",
       "      <td>-75.572000</td>\n",
       "    </tr>\n",
       "    <tr>\n",
       "      <th>1</th>\n",
       "      <td>1600232400</td>\n",
       "      <td>1620968400</td>\n",
       "      <td>Cundinamarca</td>\n",
       "      <td>Bogotá D.C</td>\n",
       "      <td>Zona Noroccidental</td>\n",
       "      <td>3.0</td>\n",
       "      <td>3.0</td>\n",
       "      <td>2.0</td>\n",
       "      <td>137.0</td>\n",
       "      <td>110.0</td>\n",
       "      <td>0</td>\n",
       "      <td>Apartamento</td>\n",
       "      <td>4.722748</td>\n",
       "      <td>-74.073115</td>\n",
       "    </tr>\n",
       "    <tr>\n",
       "      <th>2</th>\n",
       "      <td>1597813200</td>\n",
       "      <td>1597899600</td>\n",
       "      <td>Cundinamarca</td>\n",
       "      <td>Bogotá D.C</td>\n",
       "      <td>Zona Norte</td>\n",
       "      <td>3.0</td>\n",
       "      <td>3.0</td>\n",
       "      <td>2.0</td>\n",
       "      <td>102.0</td>\n",
       "      <td>105.0</td>\n",
       "      <td>0</td>\n",
       "      <td>Casa</td>\n",
       "      <td>4.709000</td>\n",
       "      <td>-74.030000</td>\n",
       "    </tr>\n",
       "  </tbody>\n",
       "</table>\n",
       "</div>"
      ],
      "text/plain": [
       "   start_date    end_date            l2          l3                  l4  \\\n",
       "0  1607925600  1609394400     Antioquia    Medellín          El Poblado   \n",
       "1  1600232400  1620968400  Cundinamarca  Bogotá D.C  Zona Noroccidental   \n",
       "2  1597813200  1597899600  Cundinamarca  Bogotá D.C          Zona Norte   \n",
       "\n",
       "   rooms  bedrooms  bathrooms  surface_total  surface_covered  price  \\\n",
       "0    3.0       4.0        4.0          157.0            157.0      1   \n",
       "1    3.0       3.0        2.0          137.0            110.0      0   \n",
       "2    3.0       3.0        2.0          102.0            105.0      0   \n",
       "\n",
       "  property_type   latitud   longitud  \n",
       "0          Casa  6.203000 -75.572000  \n",
       "1   Apartamento  4.722748 -74.073115  \n",
       "2          Casa  4.709000 -74.030000  "
      ]
     },
     "execution_count": 189,
     "metadata": {},
     "output_type": "execute_result"
    }
   ],
   "source": [
    "# Visualizamos el DataFrame:\n",
    "data.head(3)"
   ]
  },
  {
   "cell_type": "markdown",
   "id": "c131f948-096c-4974-b866-36538f135e88",
   "metadata": {},
   "source": [
    "### a) Codificación de variables categóricas.\n",
    "\n",
    "La variable categórica, a diferencia de las variables cardinales o continuas (que permiten cálculos numéricos), clasifica a los individuos o casos. Normalmente toman valores representados por números enteros, como el uno o el cero, pero estos son solo eso, representaciones."
   ]
  },
  {
   "cell_type": "code",
   "execution_count": 215,
   "id": "79f8ba8f-2067-458b-b7af-3ff619e27e52",
   "metadata": {},
   "outputs": [
    {
     "data": {
      "text/html": [
       "<div>\n",
       "<style scoped>\n",
       "    .dataframe tbody tr th:only-of-type {\n",
       "        vertical-align: middle;\n",
       "    }\n",
       "\n",
       "    .dataframe tbody tr th {\n",
       "        vertical-align: top;\n",
       "    }\n",
       "\n",
       "    .dataframe thead th {\n",
       "        text-align: right;\n",
       "    }\n",
       "</style>\n",
       "<table border=\"1\" class=\"dataframe\">\n",
       "  <thead>\n",
       "    <tr style=\"text-align: right;\">\n",
       "      <th></th>\n",
       "      <th>l2</th>\n",
       "      <th>l3</th>\n",
       "      <th>l4</th>\n",
       "      <th>property_type</th>\n",
       "    </tr>\n",
       "  </thead>\n",
       "  <tbody>\n",
       "    <tr>\n",
       "      <th>0</th>\n",
       "      <td>Antioquia</td>\n",
       "      <td>Medellín</td>\n",
       "      <td>El Poblado</td>\n",
       "      <td>Casa</td>\n",
       "    </tr>\n",
       "    <tr>\n",
       "      <th>1</th>\n",
       "      <td>Cundinamarca</td>\n",
       "      <td>Bogotá D.C</td>\n",
       "      <td>Zona Noroccidental</td>\n",
       "      <td>Apartamento</td>\n",
       "    </tr>\n",
       "    <tr>\n",
       "      <th>2</th>\n",
       "      <td>Cundinamarca</td>\n",
       "      <td>Bogotá D.C</td>\n",
       "      <td>Zona Norte</td>\n",
       "      <td>Casa</td>\n",
       "    </tr>\n",
       "    <tr>\n",
       "      <th>3</th>\n",
       "      <td>Santander</td>\n",
       "      <td>Bucaramanga</td>\n",
       "      <td>l4_UnKnown</td>\n",
       "      <td>Otro</td>\n",
       "    </tr>\n",
       "    <tr>\n",
       "      <th>4</th>\n",
       "      <td>Antioquia</td>\n",
       "      <td>Medellín</td>\n",
       "      <td>l4_UnKnown</td>\n",
       "      <td>Apartamento</td>\n",
       "    </tr>\n",
       "    <tr>\n",
       "      <th>...</th>\n",
       "      <td>...</td>\n",
       "      <td>...</td>\n",
       "      <td>...</td>\n",
       "      <td>...</td>\n",
       "    </tr>\n",
       "    <tr>\n",
       "      <th>197544</th>\n",
       "      <td>Cundinamarca</td>\n",
       "      <td>Bogotá D.C</td>\n",
       "      <td>Zona Suroccidental</td>\n",
       "      <td>Apartamento</td>\n",
       "    </tr>\n",
       "    <tr>\n",
       "      <th>197545</th>\n",
       "      <td>Cundinamarca</td>\n",
       "      <td>Bogotá D.C</td>\n",
       "      <td>Zona Chapinero</td>\n",
       "      <td>Oficina</td>\n",
       "    </tr>\n",
       "    <tr>\n",
       "      <th>197546</th>\n",
       "      <td>Valle del Cauca</td>\n",
       "      <td>Cali</td>\n",
       "      <td>l4_UnKnown</td>\n",
       "      <td>Otro</td>\n",
       "    </tr>\n",
       "    <tr>\n",
       "      <th>197547</th>\n",
       "      <td>Cundinamarca</td>\n",
       "      <td>Bogotá D.C</td>\n",
       "      <td>Zona Occidental</td>\n",
       "      <td>Casa</td>\n",
       "    </tr>\n",
       "    <tr>\n",
       "      <th>197548</th>\n",
       "      <td>Atlántico</td>\n",
       "      <td>Barranquilla</td>\n",
       "      <td>l4_UnKnown</td>\n",
       "      <td>Apartamento</td>\n",
       "    </tr>\n",
       "  </tbody>\n",
       "</table>\n",
       "<p>187031 rows × 4 columns</p>\n",
       "</div>"
      ],
      "text/plain": [
       "                     l2            l3                  l4 property_type\n",
       "0             Antioquia      Medellín          El Poblado          Casa\n",
       "1          Cundinamarca    Bogotá D.C  Zona Noroccidental   Apartamento\n",
       "2          Cundinamarca    Bogotá D.C          Zona Norte          Casa\n",
       "3             Santander   Bucaramanga          l4_UnKnown          Otro\n",
       "4             Antioquia      Medellín          l4_UnKnown   Apartamento\n",
       "...                 ...           ...                 ...           ...\n",
       "197544     Cundinamarca    Bogotá D.C  Zona Suroccidental   Apartamento\n",
       "197545     Cundinamarca    Bogotá D.C      Zona Chapinero       Oficina\n",
       "197546  Valle del Cauca          Cali          l4_UnKnown          Otro\n",
       "197547     Cundinamarca    Bogotá D.C     Zona Occidental          Casa\n",
       "197548        Atlántico  Barranquilla          l4_UnKnown   Apartamento\n",
       "\n",
       "[187031 rows x 4 columns]"
      ]
     },
     "execution_count": 215,
     "metadata": {},
     "output_type": "execute_result"
    }
   ],
   "source": [
    "# Variables categoricas\n",
    "X_cat = data[['l2', 'l3', 'l4', 'property_type']]\n",
    "X_cat"
   ]
  },
  {
   "cell_type": "markdown",
   "id": "78897f12-f1f0-4de3-8365-e1d259dbb730",
   "metadata": {},
   "source": [
    "Tenemos que transformar estas variables categoricas a variables numéricas para poder aplicarlas a un modelo de Machine Learning. Para realizar esto, utilizaremos la libreria de **sklearn** que nos da acceso a una función llamada **OneHotEncoder** que codificará los datos."
   ]
  },
  {
   "cell_type": "code",
   "execution_count": 216,
   "id": "8eb358c8-6bec-4b50-ae85-cc506bd6476f",
   "metadata": {},
   "outputs": [
    {
     "data": {
      "text/plain": [
       "(187031, 380)"
      ]
     },
     "execution_count": 216,
     "metadata": {},
     "output_type": "execute_result"
    }
   ],
   "source": [
    "# Importamos la función OneHotEncoder:\n",
    "from sklearn.preprocessing import OneHotEncoder\n",
    "# Creamos un objeto de OneHotEncoder:\n",
    "onehotencoder = OneHotEncoder()\n",
    "# Transformamos las variables categoricas:\n",
    "X_cat = onehotencoder.fit_transform(X_cat).toarray()\n",
    "# Checamos su tamaño:\n",
    "X_cat.shape"
   ]
  },
  {
   "cell_type": "markdown",
   "id": "7961a323-6698-45b5-8ffe-b02528baf563",
   "metadata": {},
   "source": [
    "Observamos que esta transformación siempre incrementa nuesto número de columnas, en este caso de 4 a 380.\n",
    "\n",
    "Pasamos la variable **X_cat** a DataFrame:"
   ]
  },
  {
   "cell_type": "code",
   "execution_count": 217,
   "id": "ee14b10b-0211-4173-9953-69dfcfe5d60c",
   "metadata": {},
   "outputs": [
    {
     "data": {
      "text/html": [
       "<div>\n",
       "<style scoped>\n",
       "    .dataframe tbody tr th:only-of-type {\n",
       "        vertical-align: middle;\n",
       "    }\n",
       "\n",
       "    .dataframe tbody tr th {\n",
       "        vertical-align: top;\n",
       "    }\n",
       "\n",
       "    .dataframe thead th {\n",
       "        text-align: right;\n",
       "    }\n",
       "</style>\n",
       "<table border=\"1\" class=\"dataframe\">\n",
       "  <thead>\n",
       "    <tr style=\"text-align: right;\">\n",
       "      <th></th>\n",
       "      <th>0</th>\n",
       "      <th>1</th>\n",
       "      <th>2</th>\n",
       "      <th>3</th>\n",
       "      <th>4</th>\n",
       "      <th>5</th>\n",
       "      <th>6</th>\n",
       "      <th>7</th>\n",
       "      <th>8</th>\n",
       "      <th>9</th>\n",
       "      <th>...</th>\n",
       "      <th>370</th>\n",
       "      <th>371</th>\n",
       "      <th>372</th>\n",
       "      <th>373</th>\n",
       "      <th>374</th>\n",
       "      <th>375</th>\n",
       "      <th>376</th>\n",
       "      <th>377</th>\n",
       "      <th>378</th>\n",
       "      <th>379</th>\n",
       "    </tr>\n",
       "  </thead>\n",
       "  <tbody>\n",
       "    <tr>\n",
       "      <th>0</th>\n",
       "      <td>1.0</td>\n",
       "      <td>0.0</td>\n",
       "      <td>0.0</td>\n",
       "      <td>0.0</td>\n",
       "      <td>0.0</td>\n",
       "      <td>0.0</td>\n",
       "      <td>0.0</td>\n",
       "      <td>0.0</td>\n",
       "      <td>0.0</td>\n",
       "      <td>0.0</td>\n",
       "      <td>...</td>\n",
       "      <td>0.0</td>\n",
       "      <td>0.0</td>\n",
       "      <td>0.0</td>\n",
       "      <td>1.0</td>\n",
       "      <td>0.0</td>\n",
       "      <td>0.0</td>\n",
       "      <td>0.0</td>\n",
       "      <td>0.0</td>\n",
       "      <td>0.0</td>\n",
       "      <td>0.0</td>\n",
       "    </tr>\n",
       "    <tr>\n",
       "      <th>1</th>\n",
       "      <td>0.0</td>\n",
       "      <td>0.0</td>\n",
       "      <td>0.0</td>\n",
       "      <td>0.0</td>\n",
       "      <td>0.0</td>\n",
       "      <td>0.0</td>\n",
       "      <td>0.0</td>\n",
       "      <td>0.0</td>\n",
       "      <td>0.0</td>\n",
       "      <td>0.0</td>\n",
       "      <td>...</td>\n",
       "      <td>0.0</td>\n",
       "      <td>0.0</td>\n",
       "      <td>1.0</td>\n",
       "      <td>0.0</td>\n",
       "      <td>0.0</td>\n",
       "      <td>0.0</td>\n",
       "      <td>0.0</td>\n",
       "      <td>0.0</td>\n",
       "      <td>0.0</td>\n",
       "      <td>0.0</td>\n",
       "    </tr>\n",
       "    <tr>\n",
       "      <th>2</th>\n",
       "      <td>0.0</td>\n",
       "      <td>0.0</td>\n",
       "      <td>0.0</td>\n",
       "      <td>0.0</td>\n",
       "      <td>0.0</td>\n",
       "      <td>0.0</td>\n",
       "      <td>0.0</td>\n",
       "      <td>0.0</td>\n",
       "      <td>0.0</td>\n",
       "      <td>0.0</td>\n",
       "      <td>...</td>\n",
       "      <td>0.0</td>\n",
       "      <td>0.0</td>\n",
       "      <td>0.0</td>\n",
       "      <td>1.0</td>\n",
       "      <td>0.0</td>\n",
       "      <td>0.0</td>\n",
       "      <td>0.0</td>\n",
       "      <td>0.0</td>\n",
       "      <td>0.0</td>\n",
       "      <td>0.0</td>\n",
       "    </tr>\n",
       "    <tr>\n",
       "      <th>3</th>\n",
       "      <td>0.0</td>\n",
       "      <td>0.0</td>\n",
       "      <td>0.0</td>\n",
       "      <td>0.0</td>\n",
       "      <td>0.0</td>\n",
       "      <td>0.0</td>\n",
       "      <td>0.0</td>\n",
       "      <td>0.0</td>\n",
       "      <td>0.0</td>\n",
       "      <td>0.0</td>\n",
       "      <td>...</td>\n",
       "      <td>0.0</td>\n",
       "      <td>1.0</td>\n",
       "      <td>0.0</td>\n",
       "      <td>0.0</td>\n",
       "      <td>0.0</td>\n",
       "      <td>0.0</td>\n",
       "      <td>0.0</td>\n",
       "      <td>0.0</td>\n",
       "      <td>1.0</td>\n",
       "      <td>0.0</td>\n",
       "    </tr>\n",
       "    <tr>\n",
       "      <th>4</th>\n",
       "      <td>1.0</td>\n",
       "      <td>0.0</td>\n",
       "      <td>0.0</td>\n",
       "      <td>0.0</td>\n",
       "      <td>0.0</td>\n",
       "      <td>0.0</td>\n",
       "      <td>0.0</td>\n",
       "      <td>0.0</td>\n",
       "      <td>0.0</td>\n",
       "      <td>0.0</td>\n",
       "      <td>...</td>\n",
       "      <td>0.0</td>\n",
       "      <td>1.0</td>\n",
       "      <td>1.0</td>\n",
       "      <td>0.0</td>\n",
       "      <td>0.0</td>\n",
       "      <td>0.0</td>\n",
       "      <td>0.0</td>\n",
       "      <td>0.0</td>\n",
       "      <td>0.0</td>\n",
       "      <td>0.0</td>\n",
       "    </tr>\n",
       "    <tr>\n",
       "      <th>...</th>\n",
       "      <td>...</td>\n",
       "      <td>...</td>\n",
       "      <td>...</td>\n",
       "      <td>...</td>\n",
       "      <td>...</td>\n",
       "      <td>...</td>\n",
       "      <td>...</td>\n",
       "      <td>...</td>\n",
       "      <td>...</td>\n",
       "      <td>...</td>\n",
       "      <td>...</td>\n",
       "      <td>...</td>\n",
       "      <td>...</td>\n",
       "      <td>...</td>\n",
       "      <td>...</td>\n",
       "      <td>...</td>\n",
       "      <td>...</td>\n",
       "      <td>...</td>\n",
       "      <td>...</td>\n",
       "      <td>...</td>\n",
       "      <td>...</td>\n",
       "    </tr>\n",
       "    <tr>\n",
       "      <th>197544</th>\n",
       "      <td>0.0</td>\n",
       "      <td>0.0</td>\n",
       "      <td>0.0</td>\n",
       "      <td>0.0</td>\n",
       "      <td>0.0</td>\n",
       "      <td>0.0</td>\n",
       "      <td>0.0</td>\n",
       "      <td>0.0</td>\n",
       "      <td>0.0</td>\n",
       "      <td>0.0</td>\n",
       "      <td>...</td>\n",
       "      <td>1.0</td>\n",
       "      <td>0.0</td>\n",
       "      <td>1.0</td>\n",
       "      <td>0.0</td>\n",
       "      <td>0.0</td>\n",
       "      <td>0.0</td>\n",
       "      <td>0.0</td>\n",
       "      <td>0.0</td>\n",
       "      <td>0.0</td>\n",
       "      <td>0.0</td>\n",
       "    </tr>\n",
       "    <tr>\n",
       "      <th>197545</th>\n",
       "      <td>0.0</td>\n",
       "      <td>0.0</td>\n",
       "      <td>0.0</td>\n",
       "      <td>0.0</td>\n",
       "      <td>0.0</td>\n",
       "      <td>0.0</td>\n",
       "      <td>0.0</td>\n",
       "      <td>0.0</td>\n",
       "      <td>0.0</td>\n",
       "      <td>0.0</td>\n",
       "      <td>...</td>\n",
       "      <td>0.0</td>\n",
       "      <td>0.0</td>\n",
       "      <td>0.0</td>\n",
       "      <td>0.0</td>\n",
       "      <td>0.0</td>\n",
       "      <td>0.0</td>\n",
       "      <td>0.0</td>\n",
       "      <td>1.0</td>\n",
       "      <td>0.0</td>\n",
       "      <td>0.0</td>\n",
       "    </tr>\n",
       "    <tr>\n",
       "      <th>197546</th>\n",
       "      <td>0.0</td>\n",
       "      <td>0.0</td>\n",
       "      <td>0.0</td>\n",
       "      <td>0.0</td>\n",
       "      <td>0.0</td>\n",
       "      <td>0.0</td>\n",
       "      <td>0.0</td>\n",
       "      <td>0.0</td>\n",
       "      <td>0.0</td>\n",
       "      <td>0.0</td>\n",
       "      <td>...</td>\n",
       "      <td>0.0</td>\n",
       "      <td>1.0</td>\n",
       "      <td>0.0</td>\n",
       "      <td>0.0</td>\n",
       "      <td>0.0</td>\n",
       "      <td>0.0</td>\n",
       "      <td>0.0</td>\n",
       "      <td>0.0</td>\n",
       "      <td>1.0</td>\n",
       "      <td>0.0</td>\n",
       "    </tr>\n",
       "    <tr>\n",
       "      <th>197547</th>\n",
       "      <td>0.0</td>\n",
       "      <td>0.0</td>\n",
       "      <td>0.0</td>\n",
       "      <td>0.0</td>\n",
       "      <td>0.0</td>\n",
       "      <td>0.0</td>\n",
       "      <td>0.0</td>\n",
       "      <td>0.0</td>\n",
       "      <td>0.0</td>\n",
       "      <td>0.0</td>\n",
       "      <td>...</td>\n",
       "      <td>0.0</td>\n",
       "      <td>0.0</td>\n",
       "      <td>0.0</td>\n",
       "      <td>1.0</td>\n",
       "      <td>0.0</td>\n",
       "      <td>0.0</td>\n",
       "      <td>0.0</td>\n",
       "      <td>0.0</td>\n",
       "      <td>0.0</td>\n",
       "      <td>0.0</td>\n",
       "    </tr>\n",
       "    <tr>\n",
       "      <th>197548</th>\n",
       "      <td>0.0</td>\n",
       "      <td>0.0</td>\n",
       "      <td>1.0</td>\n",
       "      <td>0.0</td>\n",
       "      <td>0.0</td>\n",
       "      <td>0.0</td>\n",
       "      <td>0.0</td>\n",
       "      <td>0.0</td>\n",
       "      <td>0.0</td>\n",
       "      <td>0.0</td>\n",
       "      <td>...</td>\n",
       "      <td>0.0</td>\n",
       "      <td>1.0</td>\n",
       "      <td>1.0</td>\n",
       "      <td>0.0</td>\n",
       "      <td>0.0</td>\n",
       "      <td>0.0</td>\n",
       "      <td>0.0</td>\n",
       "      <td>0.0</td>\n",
       "      <td>0.0</td>\n",
       "      <td>0.0</td>\n",
       "    </tr>\n",
       "  </tbody>\n",
       "</table>\n",
       "<p>187031 rows × 380 columns</p>\n",
       "</div>"
      ],
      "text/plain": [
       "        0    1    2    3    4    5    6    7    8    9    ...  370  371  372  \\\n",
       "0       1.0  0.0  0.0  0.0  0.0  0.0  0.0  0.0  0.0  0.0  ...  0.0  0.0  0.0   \n",
       "1       0.0  0.0  0.0  0.0  0.0  0.0  0.0  0.0  0.0  0.0  ...  0.0  0.0  1.0   \n",
       "2       0.0  0.0  0.0  0.0  0.0  0.0  0.0  0.0  0.0  0.0  ...  0.0  0.0  0.0   \n",
       "3       0.0  0.0  0.0  0.0  0.0  0.0  0.0  0.0  0.0  0.0  ...  0.0  1.0  0.0   \n",
       "4       1.0  0.0  0.0  0.0  0.0  0.0  0.0  0.0  0.0  0.0  ...  0.0  1.0  1.0   \n",
       "...     ...  ...  ...  ...  ...  ...  ...  ...  ...  ...  ...  ...  ...  ...   \n",
       "197544  0.0  0.0  0.0  0.0  0.0  0.0  0.0  0.0  0.0  0.0  ...  1.0  0.0  1.0   \n",
       "197545  0.0  0.0  0.0  0.0  0.0  0.0  0.0  0.0  0.0  0.0  ...  0.0  0.0  0.0   \n",
       "197546  0.0  0.0  0.0  0.0  0.0  0.0  0.0  0.0  0.0  0.0  ...  0.0  1.0  0.0   \n",
       "197547  0.0  0.0  0.0  0.0  0.0  0.0  0.0  0.0  0.0  0.0  ...  0.0  0.0  0.0   \n",
       "197548  0.0  0.0  1.0  0.0  0.0  0.0  0.0  0.0  0.0  0.0  ...  0.0  1.0  1.0   \n",
       "\n",
       "        373  374  375  376  377  378  379  \n",
       "0       1.0  0.0  0.0  0.0  0.0  0.0  0.0  \n",
       "1       0.0  0.0  0.0  0.0  0.0  0.0  0.0  \n",
       "2       1.0  0.0  0.0  0.0  0.0  0.0  0.0  \n",
       "3       0.0  0.0  0.0  0.0  0.0  1.0  0.0  \n",
       "4       0.0  0.0  0.0  0.0  0.0  0.0  0.0  \n",
       "...     ...  ...  ...  ...  ...  ...  ...  \n",
       "197544  0.0  0.0  0.0  0.0  0.0  0.0  0.0  \n",
       "197545  0.0  0.0  0.0  0.0  1.0  0.0  0.0  \n",
       "197546  0.0  0.0  0.0  0.0  0.0  1.0  0.0  \n",
       "197547  1.0  0.0  0.0  0.0  0.0  0.0  0.0  \n",
       "197548  0.0  0.0  0.0  0.0  0.0  0.0  0.0  \n",
       "\n",
       "[187031 rows x 380 columns]"
      ]
     },
     "execution_count": 217,
     "metadata": {},
     "output_type": "execute_result"
    }
   ],
   "source": [
    "# Creamos el dataframe\n",
    "X_cat = pd.DataFrame(data = X_cat, index = data.index)\n",
    "X_cat"
   ]
  },
  {
   "cell_type": "markdown",
   "id": "21452aa2-2551-408b-89bc-d3d043e838d2",
   "metadata": {},
   "source": [
    "### b) Variables numéricas a utilizar en el modelo."
   ]
  },
  {
   "cell_type": "markdown",
   "id": "82ef474d-da86-4b85-a0e3-12f6540849cd",
   "metadata": {},
   "source": [
    "Aquí creamos un DataFrame que contenga solo variables numéricas y que no incluyan a nuestra columna **price**, ya que esta es la columna objetivo, o sea, es la columna que tratamos de predecir. "
   ]
  },
  {
   "cell_type": "code",
   "execution_count": 218,
   "id": "067dd9bb-39c6-4f91-999f-30db553f2e1e",
   "metadata": {},
   "outputs": [
    {
     "data": {
      "text/html": [
       "<div>\n",
       "<style scoped>\n",
       "    .dataframe tbody tr th:only-of-type {\n",
       "        vertical-align: middle;\n",
       "    }\n",
       "\n",
       "    .dataframe tbody tr th {\n",
       "        vertical-align: top;\n",
       "    }\n",
       "\n",
       "    .dataframe thead th {\n",
       "        text-align: right;\n",
       "    }\n",
       "</style>\n",
       "<table border=\"1\" class=\"dataframe\">\n",
       "  <thead>\n",
       "    <tr style=\"text-align: right;\">\n",
       "      <th></th>\n",
       "      <th>start_date</th>\n",
       "      <th>end_date</th>\n",
       "      <th>rooms</th>\n",
       "      <th>bedrooms</th>\n",
       "      <th>bathrooms</th>\n",
       "      <th>surface_total</th>\n",
       "      <th>surface_covered</th>\n",
       "      <th>latitud</th>\n",
       "      <th>longitud</th>\n",
       "    </tr>\n",
       "  </thead>\n",
       "  <tbody>\n",
       "    <tr>\n",
       "      <th>0</th>\n",
       "      <td>1607925600</td>\n",
       "      <td>1609394400</td>\n",
       "      <td>3.0</td>\n",
       "      <td>4.0</td>\n",
       "      <td>4.0</td>\n",
       "      <td>157.0</td>\n",
       "      <td>157.0</td>\n",
       "      <td>6.203000</td>\n",
       "      <td>-75.572000</td>\n",
       "    </tr>\n",
       "    <tr>\n",
       "      <th>1</th>\n",
       "      <td>1600232400</td>\n",
       "      <td>1620968400</td>\n",
       "      <td>3.0</td>\n",
       "      <td>3.0</td>\n",
       "      <td>2.0</td>\n",
       "      <td>137.0</td>\n",
       "      <td>110.0</td>\n",
       "      <td>4.722748</td>\n",
       "      <td>-74.073115</td>\n",
       "    </tr>\n",
       "    <tr>\n",
       "      <th>2</th>\n",
       "      <td>1597813200</td>\n",
       "      <td>1597899600</td>\n",
       "      <td>3.0</td>\n",
       "      <td>3.0</td>\n",
       "      <td>2.0</td>\n",
       "      <td>102.0</td>\n",
       "      <td>105.0</td>\n",
       "      <td>4.709000</td>\n",
       "      <td>-74.030000</td>\n",
       "    </tr>\n",
       "    <tr>\n",
       "      <th>3</th>\n",
       "      <td>1606111200</td>\n",
       "      <td>1606716000</td>\n",
       "      <td>3.0</td>\n",
       "      <td>3.0</td>\n",
       "      <td>1.0</td>\n",
       "      <td>100.0</td>\n",
       "      <td>84.5</td>\n",
       "      <td>6.632215</td>\n",
       "      <td>-73.208634</td>\n",
       "    </tr>\n",
       "    <tr>\n",
       "      <th>4</th>\n",
       "      <td>1601960400</td>\n",
       "      <td>1602046800</td>\n",
       "      <td>3.0</td>\n",
       "      <td>3.0</td>\n",
       "      <td>2.0</td>\n",
       "      <td>121.0</td>\n",
       "      <td>122.0</td>\n",
       "      <td>6.217816</td>\n",
       "      <td>-75.564349</td>\n",
       "    </tr>\n",
       "    <tr>\n",
       "      <th>...</th>\n",
       "      <td>...</td>\n",
       "      <td>...</td>\n",
       "      <td>...</td>\n",
       "      <td>...</td>\n",
       "      <td>...</td>\n",
       "      <td>...</td>\n",
       "      <td>...</td>\n",
       "      <td>...</td>\n",
       "      <td>...</td>\n",
       "    </tr>\n",
       "    <tr>\n",
       "      <th>197544</th>\n",
       "      <td>1603778400</td>\n",
       "      <td>1609394400</td>\n",
       "      <td>3.0</td>\n",
       "      <td>3.0</td>\n",
       "      <td>2.0</td>\n",
       "      <td>69.0</td>\n",
       "      <td>68.0</td>\n",
       "      <td>4.649682</td>\n",
       "      <td>-74.161950</td>\n",
       "    </tr>\n",
       "    <tr>\n",
       "      <th>197545</th>\n",
       "      <td>1606456800</td>\n",
       "      <td>1607493600</td>\n",
       "      <td>3.0</td>\n",
       "      <td>3.0</td>\n",
       "      <td>1.0</td>\n",
       "      <td>133.5</td>\n",
       "      <td>17.0</td>\n",
       "      <td>4.668000</td>\n",
       "      <td>-74.055000</td>\n",
       "    </tr>\n",
       "    <tr>\n",
       "      <th>197546</th>\n",
       "      <td>1603864800</td>\n",
       "      <td>1609567200</td>\n",
       "      <td>3.0</td>\n",
       "      <td>3.0</td>\n",
       "      <td>1.0</td>\n",
       "      <td>126.5</td>\n",
       "      <td>120.0</td>\n",
       "      <td>3.413000</td>\n",
       "      <td>-76.541000</td>\n",
       "    </tr>\n",
       "    <tr>\n",
       "      <th>197547</th>\n",
       "      <td>1597381200</td>\n",
       "      <td>1597381200</td>\n",
       "      <td>3.0</td>\n",
       "      <td>3.0</td>\n",
       "      <td>2.0</td>\n",
       "      <td>109.0</td>\n",
       "      <td>116.5</td>\n",
       "      <td>4.674874</td>\n",
       "      <td>-74.147077</td>\n",
       "    </tr>\n",
       "    <tr>\n",
       "      <th>197548</th>\n",
       "      <td>1601960400</td>\n",
       "      <td>1606456800</td>\n",
       "      <td>3.0</td>\n",
       "      <td>3.0</td>\n",
       "      <td>1.0</td>\n",
       "      <td>92.0</td>\n",
       "      <td>98.0</td>\n",
       "      <td>10.935994</td>\n",
       "      <td>-74.802899</td>\n",
       "    </tr>\n",
       "  </tbody>\n",
       "</table>\n",
       "<p>187031 rows × 9 columns</p>\n",
       "</div>"
      ],
      "text/plain": [
       "        start_date    end_date  rooms  bedrooms  bathrooms  surface_total  \\\n",
       "0       1607925600  1609394400    3.0       4.0        4.0          157.0   \n",
       "1       1600232400  1620968400    3.0       3.0        2.0          137.0   \n",
       "2       1597813200  1597899600    3.0       3.0        2.0          102.0   \n",
       "3       1606111200  1606716000    3.0       3.0        1.0          100.0   \n",
       "4       1601960400  1602046800    3.0       3.0        2.0          121.0   \n",
       "...            ...         ...    ...       ...        ...            ...   \n",
       "197544  1603778400  1609394400    3.0       3.0        2.0           69.0   \n",
       "197545  1606456800  1607493600    3.0       3.0        1.0          133.5   \n",
       "197546  1603864800  1609567200    3.0       3.0        1.0          126.5   \n",
       "197547  1597381200  1597381200    3.0       3.0        2.0          109.0   \n",
       "197548  1601960400  1606456800    3.0       3.0        1.0           92.0   \n",
       "\n",
       "        surface_covered    latitud   longitud  \n",
       "0                 157.0   6.203000 -75.572000  \n",
       "1                 110.0   4.722748 -74.073115  \n",
       "2                 105.0   4.709000 -74.030000  \n",
       "3                  84.5   6.632215 -73.208634  \n",
       "4                 122.0   6.217816 -75.564349  \n",
       "...                 ...        ...        ...  \n",
       "197544             68.0   4.649682 -74.161950  \n",
       "197545             17.0   4.668000 -74.055000  \n",
       "197546            120.0   3.413000 -76.541000  \n",
       "197547            116.5   4.674874 -74.147077  \n",
       "197548             98.0  10.935994 -74.802899  \n",
       "\n",
       "[187031 rows x 9 columns]"
      ]
     },
     "execution_count": 218,
     "metadata": {},
     "output_type": "execute_result"
    }
   ],
   "source": [
    "# Notemos que hemos elminado la columna objetivo: 'price'.\n",
    "X_numerical = data[['start_date', 'end_date', 'rooms', 'bedrooms', 'bathrooms', 'surface_total', 'surface_covered', 'latitud', 'longitud']]\n",
    "X_numerical"
   ]
  },
  {
   "cell_type": "markdown",
   "id": "0d0854d9-8386-4c75-9bdd-984ea61664a4",
   "metadata": {},
   "source": [
    "### c) Escalado de datos.\n",
    "\n",
    "Como tenémos dos DataFrame, **X_cat** y **X_numerical**. Tenemos que unirlos para poder trabajarlos como uno solo y asi poder escalarlo."
   ]
  },
  {
   "cell_type": "code",
   "execution_count": 219,
   "id": "632a8957-e02c-4648-bca6-7f73ef231547",
   "metadata": {},
   "outputs": [
    {
     "data": {
      "text/html": [
       "<div>\n",
       "<style scoped>\n",
       "    .dataframe tbody tr th:only-of-type {\n",
       "        vertical-align: middle;\n",
       "    }\n",
       "\n",
       "    .dataframe tbody tr th {\n",
       "        vertical-align: top;\n",
       "    }\n",
       "\n",
       "    .dataframe thead th {\n",
       "        text-align: right;\n",
       "    }\n",
       "</style>\n",
       "<table border=\"1\" class=\"dataframe\">\n",
       "  <thead>\n",
       "    <tr style=\"text-align: right;\">\n",
       "      <th></th>\n",
       "      <th>0</th>\n",
       "      <th>1</th>\n",
       "      <th>2</th>\n",
       "      <th>3</th>\n",
       "      <th>4</th>\n",
       "      <th>5</th>\n",
       "      <th>6</th>\n",
       "      <th>7</th>\n",
       "      <th>8</th>\n",
       "      <th>9</th>\n",
       "      <th>...</th>\n",
       "      <th>379</th>\n",
       "      <th>start_date</th>\n",
       "      <th>end_date</th>\n",
       "      <th>rooms</th>\n",
       "      <th>bedrooms</th>\n",
       "      <th>bathrooms</th>\n",
       "      <th>surface_total</th>\n",
       "      <th>surface_covered</th>\n",
       "      <th>latitud</th>\n",
       "      <th>longitud</th>\n",
       "    </tr>\n",
       "  </thead>\n",
       "  <tbody>\n",
       "    <tr>\n",
       "      <th>0</th>\n",
       "      <td>1.0</td>\n",
       "      <td>0.0</td>\n",
       "      <td>0.0</td>\n",
       "      <td>0.0</td>\n",
       "      <td>0.0</td>\n",
       "      <td>0.0</td>\n",
       "      <td>0.0</td>\n",
       "      <td>0.0</td>\n",
       "      <td>0.0</td>\n",
       "      <td>0.0</td>\n",
       "      <td>...</td>\n",
       "      <td>0.0</td>\n",
       "      <td>1607925600</td>\n",
       "      <td>1609394400</td>\n",
       "      <td>3.0</td>\n",
       "      <td>4.0</td>\n",
       "      <td>4.0</td>\n",
       "      <td>157.0</td>\n",
       "      <td>157.0</td>\n",
       "      <td>6.203000</td>\n",
       "      <td>-75.572000</td>\n",
       "    </tr>\n",
       "    <tr>\n",
       "      <th>1</th>\n",
       "      <td>0.0</td>\n",
       "      <td>0.0</td>\n",
       "      <td>0.0</td>\n",
       "      <td>0.0</td>\n",
       "      <td>0.0</td>\n",
       "      <td>0.0</td>\n",
       "      <td>0.0</td>\n",
       "      <td>0.0</td>\n",
       "      <td>0.0</td>\n",
       "      <td>0.0</td>\n",
       "      <td>...</td>\n",
       "      <td>0.0</td>\n",
       "      <td>1600232400</td>\n",
       "      <td>1620968400</td>\n",
       "      <td>3.0</td>\n",
       "      <td>3.0</td>\n",
       "      <td>2.0</td>\n",
       "      <td>137.0</td>\n",
       "      <td>110.0</td>\n",
       "      <td>4.722748</td>\n",
       "      <td>-74.073115</td>\n",
       "    </tr>\n",
       "    <tr>\n",
       "      <th>2</th>\n",
       "      <td>0.0</td>\n",
       "      <td>0.0</td>\n",
       "      <td>0.0</td>\n",
       "      <td>0.0</td>\n",
       "      <td>0.0</td>\n",
       "      <td>0.0</td>\n",
       "      <td>0.0</td>\n",
       "      <td>0.0</td>\n",
       "      <td>0.0</td>\n",
       "      <td>0.0</td>\n",
       "      <td>...</td>\n",
       "      <td>0.0</td>\n",
       "      <td>1597813200</td>\n",
       "      <td>1597899600</td>\n",
       "      <td>3.0</td>\n",
       "      <td>3.0</td>\n",
       "      <td>2.0</td>\n",
       "      <td>102.0</td>\n",
       "      <td>105.0</td>\n",
       "      <td>4.709000</td>\n",
       "      <td>-74.030000</td>\n",
       "    </tr>\n",
       "    <tr>\n",
       "      <th>3</th>\n",
       "      <td>0.0</td>\n",
       "      <td>0.0</td>\n",
       "      <td>0.0</td>\n",
       "      <td>0.0</td>\n",
       "      <td>0.0</td>\n",
       "      <td>0.0</td>\n",
       "      <td>0.0</td>\n",
       "      <td>0.0</td>\n",
       "      <td>0.0</td>\n",
       "      <td>0.0</td>\n",
       "      <td>...</td>\n",
       "      <td>0.0</td>\n",
       "      <td>1606111200</td>\n",
       "      <td>1606716000</td>\n",
       "      <td>3.0</td>\n",
       "      <td>3.0</td>\n",
       "      <td>1.0</td>\n",
       "      <td>100.0</td>\n",
       "      <td>84.5</td>\n",
       "      <td>6.632215</td>\n",
       "      <td>-73.208634</td>\n",
       "    </tr>\n",
       "    <tr>\n",
       "      <th>4</th>\n",
       "      <td>1.0</td>\n",
       "      <td>0.0</td>\n",
       "      <td>0.0</td>\n",
       "      <td>0.0</td>\n",
       "      <td>0.0</td>\n",
       "      <td>0.0</td>\n",
       "      <td>0.0</td>\n",
       "      <td>0.0</td>\n",
       "      <td>0.0</td>\n",
       "      <td>0.0</td>\n",
       "      <td>...</td>\n",
       "      <td>0.0</td>\n",
       "      <td>1601960400</td>\n",
       "      <td>1602046800</td>\n",
       "      <td>3.0</td>\n",
       "      <td>3.0</td>\n",
       "      <td>2.0</td>\n",
       "      <td>121.0</td>\n",
       "      <td>122.0</td>\n",
       "      <td>6.217816</td>\n",
       "      <td>-75.564349</td>\n",
       "    </tr>\n",
       "    <tr>\n",
       "      <th>...</th>\n",
       "      <td>...</td>\n",
       "      <td>...</td>\n",
       "      <td>...</td>\n",
       "      <td>...</td>\n",
       "      <td>...</td>\n",
       "      <td>...</td>\n",
       "      <td>...</td>\n",
       "      <td>...</td>\n",
       "      <td>...</td>\n",
       "      <td>...</td>\n",
       "      <td>...</td>\n",
       "      <td>...</td>\n",
       "      <td>...</td>\n",
       "      <td>...</td>\n",
       "      <td>...</td>\n",
       "      <td>...</td>\n",
       "      <td>...</td>\n",
       "      <td>...</td>\n",
       "      <td>...</td>\n",
       "      <td>...</td>\n",
       "      <td>...</td>\n",
       "    </tr>\n",
       "    <tr>\n",
       "      <th>197544</th>\n",
       "      <td>0.0</td>\n",
       "      <td>0.0</td>\n",
       "      <td>0.0</td>\n",
       "      <td>0.0</td>\n",
       "      <td>0.0</td>\n",
       "      <td>0.0</td>\n",
       "      <td>0.0</td>\n",
       "      <td>0.0</td>\n",
       "      <td>0.0</td>\n",
       "      <td>0.0</td>\n",
       "      <td>...</td>\n",
       "      <td>0.0</td>\n",
       "      <td>1603778400</td>\n",
       "      <td>1609394400</td>\n",
       "      <td>3.0</td>\n",
       "      <td>3.0</td>\n",
       "      <td>2.0</td>\n",
       "      <td>69.0</td>\n",
       "      <td>68.0</td>\n",
       "      <td>4.649682</td>\n",
       "      <td>-74.161950</td>\n",
       "    </tr>\n",
       "    <tr>\n",
       "      <th>197545</th>\n",
       "      <td>0.0</td>\n",
       "      <td>0.0</td>\n",
       "      <td>0.0</td>\n",
       "      <td>0.0</td>\n",
       "      <td>0.0</td>\n",
       "      <td>0.0</td>\n",
       "      <td>0.0</td>\n",
       "      <td>0.0</td>\n",
       "      <td>0.0</td>\n",
       "      <td>0.0</td>\n",
       "      <td>...</td>\n",
       "      <td>0.0</td>\n",
       "      <td>1606456800</td>\n",
       "      <td>1607493600</td>\n",
       "      <td>3.0</td>\n",
       "      <td>3.0</td>\n",
       "      <td>1.0</td>\n",
       "      <td>133.5</td>\n",
       "      <td>17.0</td>\n",
       "      <td>4.668000</td>\n",
       "      <td>-74.055000</td>\n",
       "    </tr>\n",
       "    <tr>\n",
       "      <th>197546</th>\n",
       "      <td>0.0</td>\n",
       "      <td>0.0</td>\n",
       "      <td>0.0</td>\n",
       "      <td>0.0</td>\n",
       "      <td>0.0</td>\n",
       "      <td>0.0</td>\n",
       "      <td>0.0</td>\n",
       "      <td>0.0</td>\n",
       "      <td>0.0</td>\n",
       "      <td>0.0</td>\n",
       "      <td>...</td>\n",
       "      <td>0.0</td>\n",
       "      <td>1603864800</td>\n",
       "      <td>1609567200</td>\n",
       "      <td>3.0</td>\n",
       "      <td>3.0</td>\n",
       "      <td>1.0</td>\n",
       "      <td>126.5</td>\n",
       "      <td>120.0</td>\n",
       "      <td>3.413000</td>\n",
       "      <td>-76.541000</td>\n",
       "    </tr>\n",
       "    <tr>\n",
       "      <th>197547</th>\n",
       "      <td>0.0</td>\n",
       "      <td>0.0</td>\n",
       "      <td>0.0</td>\n",
       "      <td>0.0</td>\n",
       "      <td>0.0</td>\n",
       "      <td>0.0</td>\n",
       "      <td>0.0</td>\n",
       "      <td>0.0</td>\n",
       "      <td>0.0</td>\n",
       "      <td>0.0</td>\n",
       "      <td>...</td>\n",
       "      <td>0.0</td>\n",
       "      <td>1597381200</td>\n",
       "      <td>1597381200</td>\n",
       "      <td>3.0</td>\n",
       "      <td>3.0</td>\n",
       "      <td>2.0</td>\n",
       "      <td>109.0</td>\n",
       "      <td>116.5</td>\n",
       "      <td>4.674874</td>\n",
       "      <td>-74.147077</td>\n",
       "    </tr>\n",
       "    <tr>\n",
       "      <th>197548</th>\n",
       "      <td>0.0</td>\n",
       "      <td>0.0</td>\n",
       "      <td>1.0</td>\n",
       "      <td>0.0</td>\n",
       "      <td>0.0</td>\n",
       "      <td>0.0</td>\n",
       "      <td>0.0</td>\n",
       "      <td>0.0</td>\n",
       "      <td>0.0</td>\n",
       "      <td>0.0</td>\n",
       "      <td>...</td>\n",
       "      <td>0.0</td>\n",
       "      <td>1601960400</td>\n",
       "      <td>1606456800</td>\n",
       "      <td>3.0</td>\n",
       "      <td>3.0</td>\n",
       "      <td>1.0</td>\n",
       "      <td>92.0</td>\n",
       "      <td>98.0</td>\n",
       "      <td>10.935994</td>\n",
       "      <td>-74.802899</td>\n",
       "    </tr>\n",
       "  </tbody>\n",
       "</table>\n",
       "<p>187031 rows × 389 columns</p>\n",
       "</div>"
      ],
      "text/plain": [
       "          0    1    2    3    4    5    6    7    8    9  ...  379  \\\n",
       "0       1.0  0.0  0.0  0.0  0.0  0.0  0.0  0.0  0.0  0.0  ...  0.0   \n",
       "1       0.0  0.0  0.0  0.0  0.0  0.0  0.0  0.0  0.0  0.0  ...  0.0   \n",
       "2       0.0  0.0  0.0  0.0  0.0  0.0  0.0  0.0  0.0  0.0  ...  0.0   \n",
       "3       0.0  0.0  0.0  0.0  0.0  0.0  0.0  0.0  0.0  0.0  ...  0.0   \n",
       "4       1.0  0.0  0.0  0.0  0.0  0.0  0.0  0.0  0.0  0.0  ...  0.0   \n",
       "...     ...  ...  ...  ...  ...  ...  ...  ...  ...  ...  ...  ...   \n",
       "197544  0.0  0.0  0.0  0.0  0.0  0.0  0.0  0.0  0.0  0.0  ...  0.0   \n",
       "197545  0.0  0.0  0.0  0.0  0.0  0.0  0.0  0.0  0.0  0.0  ...  0.0   \n",
       "197546  0.0  0.0  0.0  0.0  0.0  0.0  0.0  0.0  0.0  0.0  ...  0.0   \n",
       "197547  0.0  0.0  0.0  0.0  0.0  0.0  0.0  0.0  0.0  0.0  ...  0.0   \n",
       "197548  0.0  0.0  1.0  0.0  0.0  0.0  0.0  0.0  0.0  0.0  ...  0.0   \n",
       "\n",
       "        start_date    end_date  rooms  bedrooms  bathrooms  surface_total  \\\n",
       "0       1607925600  1609394400    3.0       4.0        4.0          157.0   \n",
       "1       1600232400  1620968400    3.0       3.0        2.0          137.0   \n",
       "2       1597813200  1597899600    3.0       3.0        2.0          102.0   \n",
       "3       1606111200  1606716000    3.0       3.0        1.0          100.0   \n",
       "4       1601960400  1602046800    3.0       3.0        2.0          121.0   \n",
       "...            ...         ...    ...       ...        ...            ...   \n",
       "197544  1603778400  1609394400    3.0       3.0        2.0           69.0   \n",
       "197545  1606456800  1607493600    3.0       3.0        1.0          133.5   \n",
       "197546  1603864800  1609567200    3.0       3.0        1.0          126.5   \n",
       "197547  1597381200  1597381200    3.0       3.0        2.0          109.0   \n",
       "197548  1601960400  1606456800    3.0       3.0        1.0           92.0   \n",
       "\n",
       "        surface_covered    latitud   longitud  \n",
       "0                 157.0   6.203000 -75.572000  \n",
       "1                 110.0   4.722748 -74.073115  \n",
       "2                 105.0   4.709000 -74.030000  \n",
       "3                  84.5   6.632215 -73.208634  \n",
       "4                 122.0   6.217816 -75.564349  \n",
       "...                 ...        ...        ...  \n",
       "197544             68.0   4.649682 -74.161950  \n",
       "197545             17.0   4.668000 -74.055000  \n",
       "197546            120.0   3.413000 -76.541000  \n",
       "197547            116.5   4.674874 -74.147077  \n",
       "197548             98.0  10.935994 -74.802899  \n",
       "\n",
       "[187031 rows x 389 columns]"
      ]
     },
     "execution_count": 219,
     "metadata": {},
     "output_type": "execute_result"
    }
   ],
   "source": [
    "# Concatenamos ambos DataFrame para tener uno solo relacionado:\n",
    "X_all = pd.concat([X_cat, X_numerical], axis = 1)\n",
    "X_all"
   ]
  },
  {
   "cell_type": "markdown",
   "id": "a9dc7a7a-ef84-4a54-99d5-1002d4f36769",
   "metadata": {},
   "source": [
    "El escalado va a transformar los valores de las variables de forma que estén confinados en un rango $[a, b]$, típicamente $[0, 1]$ o $[-1, 1]$. Esto ayuda a que los modelos de **Machine Learning** usen todos los datos de manera uniforme y no haya sesgos hacia una variable debido a su tamaño con respecto a otra.\n",
    "\n",
    "Para realizar esto, utilizaremos la libreria de **sklearn** que nos da acceso a una función llamada **MinMaxScaler** que escalará los datos."
   ]
  },
  {
   "cell_type": "code",
   "execution_count": 220,
   "id": "54b9d593-1066-4aa9-a21d-220e9f751d29",
   "metadata": {},
   "outputs": [
    {
     "name": "stderr",
     "output_type": "stream",
     "text": [
      "D:\\JOSUE\\Anaconda_2022\\lib\\site-packages\\sklearn\\utils\\validation.py:1688: FutureWarning: Feature names only support names that are all strings. Got feature names with dtypes: ['int', 'str']. An error will be raised in 1.2.\n",
      "  warnings.warn(\n",
      "D:\\JOSUE\\Anaconda_2022\\lib\\site-packages\\sklearn\\utils\\validation.py:1688: FutureWarning: Feature names only support names that are all strings. Got feature names with dtypes: ['int', 'str']. An error will be raised in 1.2.\n",
      "  warnings.warn(\n"
     ]
    },
    {
     "data": {
      "text/plain": [
       "array([[1.00000000e+00, 0.00000000e+00, 0.00000000e+00, ...,\n",
       "        4.48275991e-05, 5.80147155e-01, 8.45076429e-01],\n",
       "       [0.00000000e+00, 0.00000000e+00, 0.00000000e+00, ...,\n",
       "        3.13218481e-05, 5.58122118e-01, 8.73782118e-01],\n",
       "       [0.00000000e+00, 0.00000000e+00, 0.00000000e+00, ...,\n",
       "        2.98850661e-05, 5.57917551e-01, 8.74607821e-01],\n",
       "       ...,\n",
       "       [0.00000000e+00, 0.00000000e+00, 0.00000000e+00, ...,\n",
       "        3.41954121e-05, 5.38634039e-01, 8.26518763e-01],\n",
       "       [0.00000000e+00, 0.00000000e+00, 0.00000000e+00, ...,\n",
       "        3.31896647e-05, 5.57409786e-01, 8.72365640e-01],\n",
       "       [0.00000000e+00, 0.00000000e+00, 1.00000000e+00, ...,\n",
       "        2.78735712e-05, 6.50570564e-01, 8.59805755e-01]])"
      ]
     },
     "execution_count": 220,
     "metadata": {},
     "output_type": "execute_result"
    }
   ],
   "source": [
    "#############################################\n",
    "# El minimo siempre sera: 0 y el maximo : 1 #\n",
    "#############################################\n",
    "\n",
    "# Importamos la función MinMaxScaler:\n",
    "from sklearn.preprocessing import MinMaxScaler\n",
    "# Creamos un objeto de MinMaxScaler:\n",
    "scaler = MinMaxScaler()\n",
    "# Transformamos las variables escaladas:\n",
    "X = scaler.fit_transform(X_all)\n",
    "# Checamos el array:\n",
    "X"
   ]
  },
  {
   "cell_type": "markdown",
   "id": "dbfb2ffc-b0f9-45fe-a0f1-a3b46ed49309",
   "metadata": {},
   "source": [
    "### d) Vector de predicciones (objetivo)"
   ]
  },
  {
   "cell_type": "code",
   "execution_count": 221,
   "id": "b84e1800-e257-4d22-8063-d700ec3f97ca",
   "metadata": {},
   "outputs": [
    {
     "data": {
      "text/plain": [
       "0         1\n",
       "1         0\n",
       "2         0\n",
       "3         1\n",
       "4         0\n",
       "         ..\n",
       "197544    0\n",
       "197545    0\n",
       "197546    0\n",
       "197547    0\n",
       "197548    0\n",
       "Name: price, Length: 187031, dtype: int64"
      ]
     },
     "execution_count": 221,
     "metadata": {},
     "output_type": "execute_result"
    }
   ],
   "source": [
    "# Variable dependiente\n",
    "y = data['price']\n",
    "y"
   ]
  },
  {
   "cell_type": "code",
   "execution_count": 222,
   "id": "e3124dec-7b5c-46fc-96c0-9380bfb77434",
   "metadata": {},
   "outputs": [
    {
     "data": {
      "text/plain": [
       "(187031, 187031)"
      ]
     },
     "execution_count": 222,
     "metadata": {},
     "output_type": "execute_result"
    }
   ],
   "source": [
    "len(X), len(y)"
   ]
  },
  {
   "cell_type": "markdown",
   "id": "25e0698b-46fe-479f-a461-81c7aa7d2af3",
   "metadata": {},
   "source": [
    "## 4) Procesamiento de datos"
   ]
  },
  {
   "cell_type": "markdown",
   "id": "fbe9edfa-9def-4b45-ae27-f9f429406eec",
   "metadata": {},
   "source": [
    "### a) Set de entrenamiento y de prueba.\n",
    "\n",
    "Lo primero que haremos será dividir el conjunto de entrenamiento en un 75% para crear el modelo y el otro 25% para probar el modelo, verificamos los resultados y asi asegurar que no tiene **Overfitting**.\n",
    "\n",
    "Para realizar esto, utilizaremos la libreria de **sklearn** que nos da acceso a una función llamada **train_test_split** que nos dará los datos de entrenamiento (X_train, y_train) y prueba (X_test, y_test)."
   ]
  },
  {
   "cell_type": "code",
   "execution_count": 223,
   "id": "d2f6594d-ef70-4249-ad0b-201827e6951b",
   "metadata": {},
   "outputs": [
    {
     "name": "stdout",
     "output_type": "stream",
     "text": [
      "Sets de entrenamiento y prueba listos !!!\n"
     ]
    }
   ],
   "source": [
    "# Importamos la función train_test_split:\n",
    "from sklearn.model_selection import train_test_split\n",
    "# Creamos los datos de entrenamiento y prueba:\n",
    "X_train, X_test, y_train, y_test = train_test_split(X, y, test_size = 0.25) # 25% para entrenamiento\n",
    "\n",
    "print('Sets de entrenamiento y prueba listos !!!')"
   ]
  },
  {
   "cell_type": "code",
   "execution_count": 224,
   "id": "d07749f9-95f1-4685-9246-9364f2b822ef",
   "metadata": {},
   "outputs": [
    {
     "data": {
      "text/plain": [
       "(140273, 389)"
      ]
     },
     "execution_count": 224,
     "metadata": {},
     "output_type": "execute_result"
    }
   ],
   "source": [
    "# Tamaño del modelo de entrenamiento:\n",
    "X_train.shape"
   ]
  },
  {
   "cell_type": "code",
   "execution_count": 225,
   "id": "7b6a365d-93fc-4bc5-8ff6-df8fafc2eb6e",
   "metadata": {},
   "outputs": [
    {
     "data": {
      "text/plain": [
       "(46758, 389)"
      ]
     },
     "execution_count": 225,
     "metadata": {},
     "output_type": "execute_result"
    }
   ],
   "source": [
    "# Tamaño del modelo de prueba:\n",
    "X_test.shape"
   ]
  },
  {
   "cell_type": "markdown",
   "id": "b684ac00-b33a-4d76-b4eb-460ff886c743",
   "metadata": {},
   "source": [
    "## 5) Regresión Logística.\n",
    "\n",
    "Utilizaremos la libreria de **sklearn.linear_model** que nos da acceso a una función llamada **LogisticRegression** para usar la regresión logística y **sklearn.metrics** que nos da acceso a una función llamada **accuracy_score** para obtener la tasa de acierto."
   ]
  },
  {
   "cell_type": "code",
   "execution_count": 226,
   "id": "b0801398-9c9d-438d-b28a-a6b13a04d06b",
   "metadata": {},
   "outputs": [
    {
     "name": "stdout",
     "output_type": "stream",
     "text": [
      "\n",
      "El modelo ha sido entrenado!!!\n"
     ]
    },
    {
     "name": "stderr",
     "output_type": "stream",
     "text": [
      "D:\\JOSUE\\Anaconda_2022\\lib\\site-packages\\sklearn\\linear_model\\_logistic.py:814: ConvergenceWarning: lbfgs failed to converge (status=1):\n",
      "STOP: TOTAL NO. of ITERATIONS REACHED LIMIT.\n",
      "\n",
      "Increase the number of iterations (max_iter) or scale the data as shown in:\n",
      "    https://scikit-learn.org/stable/modules/preprocessing.html\n",
      "Please also refer to the documentation for alternative solver options:\n",
      "    https://scikit-learn.org/stable/modules/linear_model.html#logistic-regression\n",
      "  n_iter_i = _check_optimize_result(\n"
     ]
    }
   ],
   "source": [
    "# -- Regresión Logística -- #\n",
    "\n",
    "# Importamos la función LogisticRegression y accuracy_score:\n",
    "from sklearn.linear_model import LogisticRegression\n",
    "from sklearn.metrics import accuracy_score\n",
    "\n",
    "# Creamos un objeto de LogisticRegression:\n",
    "model_lr = LogisticRegression()\n",
    "\n",
    "# Cremos el modelo para predecir uasando los datos de entrenamiento:\n",
    "model_lr.fit(X_train, y_train)\n",
    "\n",
    "# Hacemos la prediccion, para ver si el modelo se comporta bien:\n",
    "y_pred = model_lr.predict(X_test)\n",
    "\n",
    "# Vector de predicción:\n",
    "y_pred\n",
    "\n",
    "print('\\nEl modelo ha sido entrenado!!!')"
   ]
  },
  {
   "cell_type": "markdown",
   "id": "924daf22-346d-4995-b391-96a58adbf46f",
   "metadata": {},
   "source": [
    "### a) Tasa de acierto del modelo.\n",
    "\n",
    "La tasa de acierto se calcula de la siguiente forma:"
   ]
  },
  {
   "cell_type": "code",
   "execution_count": 227,
   "id": "b2c0e3a2-2e66-4263-b464-c5cb5dd45100",
   "metadata": {},
   "outputs": [
    {
     "name": "stdout",
     "output_type": "stream",
     "text": [
      "Tasa de acierto: 83.88 %\n"
     ]
    }
   ],
   "source": [
    "print(f'Tasa de acierto: {round(100*accuracy_score(y_pred, y_test),2)} %')"
   ]
  },
  {
   "cell_type": "markdown",
   "id": "6c94a9c3-8c81-48d2-92ad-ec5b70030d38",
   "metadata": {},
   "source": [
    "### b) Matriz de confusión.\n",
    "\n",
    "Utilizaremos la libreria de **sklearn.metrics** que nos da acceso a una función llamada **confusion_matrix** para visualizar la matriz de confusión."
   ]
  },
  {
   "cell_type": "code",
   "execution_count": 228,
   "id": "18eef651-f767-499c-a767-6e3ecde33acb",
   "metadata": {},
   "outputs": [
    {
     "data": {
      "text/plain": [
       "<AxesSubplot:>"
      ]
     },
     "execution_count": 228,
     "metadata": {},
     "output_type": "execute_result"
    },
    {
     "data": {
      "image/png": "[encoded data removed]",
      "text/plain": [
       "<Figure size 432x288 with 2 Axes>"
      ]
     },
     "metadata": {
      "needs_background": "light"
     },
     "output_type": "display_data"
    }
   ],
   "source": [
    "# Importamos la función confusion_matrix:\n",
    "from sklearn.metrics import confusion_matrix\n",
    "# Cremos la matriz de confusión uasando el vector de predicción (y_pred) y de prueba (y_test):\n",
    "cm = confusion_matrix(y_test, y_pred)\n",
    "# Visualizamos la matriz de confusión con un mapa de calor:\n",
    "sns.heatmap(cm, annot = True)"
   ]
  },
  {
   "cell_type": "markdown",
   "id": "80760026-d35f-446f-bb94-72f0f37f6e20",
   "metadata": {},
   "source": [
    "**a) El modelo clasifica de forma correcta que:**\n",
    "\n",
    "    34,000 verdaderos positivos (TP) y 2,200 falsos positivos (FP).\n",
    "\n",
    "**b) El modelo clasifica de forma incorrecta que:**\n",
    "\n",
    "    5,300 falsos negativos (FN) y 5,600 verdaderos negativos (TN)"
   ]
  },
  {
   "cell_type": "markdown",
   "id": "d92bc554-6af4-4d6d-bd52-737c93803fc2",
   "metadata": {},
   "source": [
    "### c) Reporte de clasificación.\n",
    "\n",
    "Utilizaremos la libreria de **sklearn.metrics** que nos da acceso a una función llamada **classification_report** para obtener:\n",
    "\n",
    "    * precision    \n",
    "    * recall  \n",
    "    * f1-score   \n",
    "    * support"
   ]
  },
  {
   "cell_type": "code",
   "execution_count": 229,
   "id": "9aadbfc5-51fc-4967-ac25-c55dd1acd317",
   "metadata": {},
   "outputs": [
    {
     "name": "stdout",
     "output_type": "stream",
     "text": [
      "              precision    recall  f1-score   support\n",
      "\n",
      "           0       0.86      0.94      0.90     35840\n",
      "           1       0.72      0.51      0.60     10918\n",
      "\n",
      "    accuracy                           0.84     46758\n",
      "   macro avg       0.79      0.73      0.75     46758\n",
      "weighted avg       0.83      0.84      0.83     46758\n",
      "\n"
     ]
    }
   ],
   "source": [
    "# Importamos la función classification_report:\n",
    "from sklearn.metrics import classification_report\n",
    "\n",
    "# Imprimimos las variables:\n",
    "print(classification_report(y_test, y_pred))"
   ]
  },
  {
   "cell_type": "markdown",
   "id": "7979da7c-39fb-4690-af9d-d9c03460da75",
   "metadata": {},
   "source": [
    "## 6) Bosques aleatorios.\n",
    "\n",
    "Utilizaremos la libreria de **sklearn.ensemble** que nos da acceso a una función llamada **RandomForestClassifier** para usar la clasificación por bosques aleatorios."
   ]
  },
  {
   "cell_type": "code",
   "execution_count": 230,
   "id": "9598a0f0-05bb-4262-b81f-53ac72221e9a",
   "metadata": {},
   "outputs": [
    {
     "name": "stdout",
     "output_type": "stream",
     "text": [
      "[1 0 0 ... 0 0 0]\n",
      "El modelo ha sido entrenado!!!\n"
     ]
    }
   ],
   "source": [
    "# -- Bosques Aleatorios -- #\n",
    "\n",
    "# Importamos la función RandomForestClassifier:\n",
    "from sklearn.ensemble import RandomForestClassifier\n",
    "\n",
    "# Creamos un objeto de RandomForestClassifier:\n",
    "model_rf = RandomForestClassifier()\n",
    "\n",
    "# Cremos el modelo para predecir uasando los datos de entrenamiento:\n",
    "model_rf.fit(X_train, y_train)\n",
    "\n",
    "# Hacemos la prediccion, para ver si el modelo se comporta bien:\n",
    "y_pred = model_rf.predict(X_test)\n",
    "\n",
    "# Vector de predicción:\n",
    "print(y_pred)\n",
    "\n",
    "print('El modelo ha sido entrenado!!!')"
   ]
  },
  {
   "cell_type": "markdown",
   "id": "319706c5-a17a-4a55-b5e2-17d3b737eaec",
   "metadata": {},
   "source": [
    "### a) Tasa de acierto del modelo."
   ]
  },
  {
   "cell_type": "code",
   "execution_count": 231,
   "id": "f2426b75-2ce4-4167-9784-865a7a6f4607",
   "metadata": {},
   "outputs": [
    {
     "name": "stdout",
     "output_type": "stream",
     "text": [
      "Tasa de acierto: 89.45 %\n"
     ]
    }
   ],
   "source": [
    "print(f'Tasa de acierto: {round(100*accuracy_score(y_pred, y_test),2)} %')"
   ]
  },
  {
   "cell_type": "markdown",
   "id": "3ae9a0c0-68d5-4807-8fbe-af09175094dd",
   "metadata": {},
   "source": [
    "### b) Matriz de confusión."
   ]
  },
  {
   "cell_type": "code",
   "execution_count": 232,
   "id": "3ef86464-0637-4c60-9640-aaa24dec3004",
   "metadata": {},
   "outputs": [
    {
     "data": {
      "text/plain": [
       "<AxesSubplot:>"
      ]
     },
     "execution_count": 232,
     "metadata": {},
     "output_type": "execute_result"
    },
    {
     "data": {
      "image/png": "[encoded data removed]",
      "text/plain": [
       "<Figure size 432x288 with 2 Axes>"
      ]
     },
     "metadata": {
      "needs_background": "light"
     },
     "output_type": "display_data"
    }
   ],
   "source": [
    "# Resultados en el Conjunto de Testing\n",
    "cm = confusion_matrix(y_test, y_pred)\n",
    "sns.heatmap(cm, annot = True)"
   ]
  },
  {
   "cell_type": "markdown",
   "id": "ef3aa07e-31d0-41a4-b989-ee96be21581e",
   "metadata": {},
   "source": [
    "**a) El modelo clasifica de forma correcta que:**\n",
    "\n",
    "    34,000 verdaderos positivos (TP) y 1,900 falsos positivos (FP).\n",
    "\n",
    "**b) El modelo clasifica de forma incorrecta que:**\n",
    "\n",
    "    3,000 falsos negativos (FN) y 7,900 verdaderos negativos (TN)"
   ]
  },
  {
   "cell_type": "markdown",
   "id": "1ee8fc77-992b-4436-8a1e-8e34b532261d",
   "metadata": {},
   "source": [
    "### c) Reporte de clasificación."
   ]
  },
  {
   "cell_type": "code",
   "execution_count": 233,
   "id": "1b354d4d-2e09-4d5d-b44e-58e2a2d29dab",
   "metadata": {},
   "outputs": [
    {
     "name": "stdout",
     "output_type": "stream",
     "text": [
      "              precision    recall  f1-score   support\n",
      "\n",
      "           0       0.92      0.95      0.93     35840\n",
      "           1       0.80      0.72      0.76     10918\n",
      "\n",
      "    accuracy                           0.89     46758\n",
      "   macro avg       0.86      0.84      0.85     46758\n",
      "weighted avg       0.89      0.89      0.89     46758\n",
      "\n"
     ]
    }
   ],
   "source": [
    "print(classification_report(y_test, y_pred))"
   ]
  },
  {
   "cell_type": "markdown",
   "id": "4a8fb239-b672-4b46-b1f0-49161254d293",
   "metadata": {},
   "source": [
    "## 7) Redes neuronales artificiales.\n",
    "\n",
    "Utilizaremos la libreria de **tensorflow** para utilizar **keras** que nos permite crear *redes neuronales artificiales densas*."
   ]
  },
  {
   "cell_type": "code",
   "execution_count": 238,
   "id": "be6b33f1-a58d-4a9a-a9f0-41ee8a7b5b5c",
   "metadata": {},
   "outputs": [
    {
     "name": "stdout",
     "output_type": "stream",
     "text": [
      "Model: \"sequential_1\"\n",
      "_________________________________________________________________\n",
      " Layer (type)                Output Shape              Param #   \n",
      "=================================================================\n",
      " dense_4 (Dense)             (None, 500)               195000    \n",
      "                                                                 \n",
      " dense_5 (Dense)             (None, 500)               250500    \n",
      "                                                                 \n",
      " dense_6 (Dense)             (None, 500)               250500    \n",
      "                                                                 \n",
      " dense_7 (Dense)             (None, 1)                 501       \n",
      "                                                                 \n",
      "=================================================================\n",
      "Total params: 696,501\n",
      "Trainable params: 696,501\n",
      "Non-trainable params: 0\n",
      "_________________________________________________________________\n"
     ]
    }
   ],
   "source": [
    "# -- Redes Neuronales Artificiales -- #\n",
    "\n",
    "# Importamos la libreria tensorflow:\n",
    "import tensorflow as tf\n",
    "\n",
    "# Creamos un modelo secuencuencial de capas profundas\n",
    "model_rnn = tf.keras.models.Sequential()\n",
    "\n",
    "# Añadimos una primera capa densa (de entrada):\n",
    "# units: número de neuronas de la primera capa oculta \n",
    "# activation: funcion de activacion, para este ejemplo usaremos la funcion rectificadora lineal unitaria.\n",
    "# input_shape: Número de columnas de nuestro dataset, X_all.\n",
    "model_rnn.add(tf.keras.layers.Dense(units = 500, activation = 'relu', input_shape = (389, )))\n",
    "\n",
    "# Añadimos una segunda capa densa (oculta):\n",
    "model_rnn.add(tf.keras.layers.Dense(units = 500, activation = 'relu'))\n",
    "\n",
    "# Añadimos una tercera capa densa (oculta):\n",
    "model_rnn.add(tf.keras.layers.Dense(units = 500, activation = 'relu'))\n",
    "\n",
    "# Añadimos una cuarta capa densa (de salida):\n",
    "model_rnn.add(tf.keras.layers.Dense(units = 1, activation = 'sigmoid'))\n",
    "\n",
    "# Podemos ver la arquitectura de nuestra red neuronal:\n",
    "model_rnn.summary()"
   ]
  },
  {
   "cell_type": "markdown",
   "id": "f742858e-438a-472a-ba52-82972260ade1",
   "metadata": {},
   "source": [
    "Compilamos el modelo indicando el optimizador que se va a utilizar (optimizador de Adam) y la funcion de perdidas para medir el error"
   ]
  },
  {
   "cell_type": "code",
   "execution_count": 239,
   "id": "bc80e09d-303a-4a1e-8084-131d08ce759e",
   "metadata": {},
   "outputs": [
    {
     "name": "stdout",
     "output_type": "stream",
     "text": [
      "Compilado listo !!\n"
     ]
    }
   ],
   "source": [
    "# Compilamos el modelo\n",
    "model_rnn.compile(optimizer = 'Adam', loss = 'binary_crossentropy', metrics = ['accuracy'])\n",
    "\n",
    "print('Compilado listo !!')"
   ]
  },
  {
   "cell_type": "code",
   "execution_count": 240,
   "id": "ccc5655c-e32d-4afa-94ba-706282bc7c80",
   "metadata": {},
   "outputs": [
    {
     "name": "stdout",
     "output_type": "stream",
     "text": [
      "Epoch 1/100\n",
      "2806/2806 [==============================] - 20s 6ms/step - loss: 0.3536 - accuracy: 0.8380\n",
      "Epoch 2/100\n",
      "2806/2806 [==============================] - 15s 5ms/step - loss: 0.3320 - accuracy: 0.8488\n",
      "Epoch 3/100\n",
      "2806/2806 [==============================] - 16s 6ms/step - loss: 0.3258 - accuracy: 0.8511\n",
      "Epoch 4/100\n",
      "2806/2806 [==============================] - 16s 6ms/step - loss: 0.3222 - accuracy: 0.8534\n",
      "Epoch 5/100\n",
      "2806/2806 [==============================] - 16s 6ms/step - loss: 0.3190 - accuracy: 0.8551\n",
      "Epoch 6/100\n",
      "2806/2806 [==============================] - 16s 6ms/step - loss: 0.3173 - accuracy: 0.8559\n",
      "Epoch 7/100\n",
      "2806/2806 [==============================] - 16s 6ms/step - loss: 0.3148 - accuracy: 0.8570\n",
      "Epoch 8/100\n",
      "2806/2806 [==============================] - 15s 6ms/step - loss: 0.3129 - accuracy: 0.8577\n",
      "Epoch 9/100\n",
      "2806/2806 [==============================] - 15s 5ms/step - loss: 0.3116 - accuracy: 0.8582\n",
      "Epoch 10/100\n",
      "2806/2806 [==============================] - 16s 6ms/step - loss: 0.3103 - accuracy: 0.8586\n",
      "Epoch 11/100\n",
      "2806/2806 [==============================] - 16s 6ms/step - loss: 0.3089 - accuracy: 0.8588\n",
      "Epoch 12/100\n",
      "2806/2806 [==============================] - 16s 6ms/step - loss: 0.3074 - accuracy: 0.8602\n",
      "Epoch 13/100\n",
      "2806/2806 [==============================] - 16s 6ms/step - loss: 0.3062 - accuracy: 0.8604\n",
      "Epoch 14/100\n",
      "2806/2806 [==============================] - 16s 6ms/step - loss: 0.3049 - accuracy: 0.8612\n",
      "Epoch 15/100\n",
      "2806/2806 [==============================] - 16s 6ms/step - loss: 0.3037 - accuracy: 0.8612\n",
      "Epoch 16/100\n",
      "2806/2806 [==============================] - 15s 5ms/step - loss: 0.3034 - accuracy: 0.8616\n",
      "Epoch 17/100\n",
      "2806/2806 [==============================] - 16s 6ms/step - loss: 0.3020 - accuracy: 0.8622\n",
      "Epoch 18/100\n",
      "2806/2806 [==============================] - 16s 6ms/step - loss: 0.3009 - accuracy: 0.8625\n",
      "Epoch 19/100\n",
      "2806/2806 [==============================] - 15s 6ms/step - loss: 0.3003 - accuracy: 0.8622\n",
      "Epoch 20/100\n",
      "2806/2806 [==============================] - 15s 5ms/step - loss: 0.2989 - accuracy: 0.8634\n",
      "Epoch 21/100\n",
      "2806/2806 [==============================] - 16s 6ms/step - loss: 0.2983 - accuracy: 0.8636\n",
      "Epoch 22/100\n",
      "2806/2806 [==============================] - 17s 6ms/step - loss: 0.2971 - accuracy: 0.8636\n",
      "Epoch 23/100\n",
      "2806/2806 [==============================] - 17s 6ms/step - loss: 0.2963 - accuracy: 0.8650\n",
      "Epoch 24/100\n",
      "2806/2806 [==============================] - 16s 6ms/step - loss: 0.2955 - accuracy: 0.8655\n",
      "Epoch 25/100\n",
      "2806/2806 [==============================] - 16s 6ms/step - loss: 0.2948 - accuracy: 0.8646\n",
      "Epoch 26/100\n",
      "2806/2806 [==============================] - 16s 6ms/step - loss: 0.2942 - accuracy: 0.8649\n",
      "Epoch 27/100\n",
      "2806/2806 [==============================] - 16s 6ms/step - loss: 0.2932 - accuracy: 0.8654\n",
      "Epoch 28/100\n",
      "2806/2806 [==============================] - 16s 6ms/step - loss: 0.2923 - accuracy: 0.8662\n",
      "Epoch 29/100\n",
      "2806/2806 [==============================] - 16s 6ms/step - loss: 0.2922 - accuracy: 0.8665\n",
      "Epoch 30/100\n",
      "2806/2806 [==============================] - 16s 6ms/step - loss: 0.2912 - accuracy: 0.8664\n",
      "Epoch 31/100\n",
      "2806/2806 [==============================] - 15s 5ms/step - loss: 0.2904 - accuracy: 0.8667\n",
      "Epoch 32/100\n",
      "2806/2806 [==============================] - 15s 5ms/step - loss: 0.2895 - accuracy: 0.8677\n",
      "Epoch 33/100\n",
      "2806/2806 [==============================] - 16s 6ms/step - loss: 0.2890 - accuracy: 0.8673\n",
      "Epoch 34/100\n",
      "2806/2806 [==============================] - 16s 6ms/step - loss: 0.2885 - accuracy: 0.8679\n",
      "Epoch 35/100\n",
      "2806/2806 [==============================] - 16s 6ms/step - loss: 0.2875 - accuracy: 0.8685\n",
      "Epoch 36/100\n",
      "2806/2806 [==============================] - 16s 6ms/step - loss: 0.2871 - accuracy: 0.8687\n",
      "Epoch 37/100\n",
      "2806/2806 [==============================] - 16s 6ms/step - loss: 0.2863 - accuracy: 0.8689\n",
      "Epoch 38/100\n",
      "2806/2806 [==============================] - 16s 6ms/step - loss: 0.2856 - accuracy: 0.8690\n",
      "Epoch 39/100\n",
      "2806/2806 [==============================] - 15s 6ms/step - loss: 0.2850 - accuracy: 0.8690\n",
      "Epoch 40/100\n",
      "2806/2806 [==============================] - 16s 6ms/step - loss: 0.2847 - accuracy: 0.8692\n",
      "Epoch 41/100\n",
      "2806/2806 [==============================] - 16s 6ms/step - loss: 0.2845 - accuracy: 0.8694\n",
      "Epoch 42/100\n",
      "2806/2806 [==============================] - 16s 6ms/step - loss: 0.2828 - accuracy: 0.8701\n",
      "Epoch 43/100\n",
      "2806/2806 [==============================] - 15s 5ms/step - loss: 0.2829 - accuracy: 0.8701\n",
      "Epoch 44/100\n",
      "2806/2806 [==============================] - 17s 6ms/step - loss: 0.2818 - accuracy: 0.8709\n",
      "Epoch 45/100\n",
      "2806/2806 [==============================] - 16s 6ms/step - loss: 0.2819 - accuracy: 0.8706\n",
      "Epoch 46/100\n",
      "2806/2806 [==============================] - 16s 6ms/step - loss: 0.2807 - accuracy: 0.8711\n",
      "Epoch 47/100\n",
      "2806/2806 [==============================] - 16s 6ms/step - loss: 0.2810 - accuracy: 0.8714\n",
      "Epoch 48/100\n",
      "2806/2806 [==============================] - 16s 6ms/step - loss: 0.2794 - accuracy: 0.8717\n",
      "Epoch 49/100\n",
      "2806/2806 [==============================] - 17s 6ms/step - loss: 0.2800 - accuracy: 0.8716\n",
      "Epoch 50/100\n",
      "2806/2806 [==============================] - 17s 6ms/step - loss: 0.2792 - accuracy: 0.8717\n",
      "Epoch 51/100\n",
      "2806/2806 [==============================] - 17s 6ms/step - loss: 0.2784 - accuracy: 0.8719\n",
      "Epoch 52/100\n",
      "2806/2806 [==============================] - 16s 6ms/step - loss: 0.2777 - accuracy: 0.8726\n",
      "Epoch 53/100\n",
      "2806/2806 [==============================] - 16s 6ms/step - loss: 0.2776 - accuracy: 0.8725\n",
      "Epoch 54/100\n",
      "2806/2806 [==============================] - 16s 6ms/step - loss: 0.2773 - accuracy: 0.8722\n",
      "Epoch 55/100\n",
      "2806/2806 [==============================] - 15s 5ms/step - loss: 0.2763 - accuracy: 0.8731\n",
      "Epoch 56/100\n",
      "2806/2806 [==============================] - 16s 6ms/step - loss: 0.2764 - accuracy: 0.8738\n",
      "Epoch 57/100\n",
      "2806/2806 [==============================] - 16s 6ms/step - loss: 0.2754 - accuracy: 0.8744\n",
      "Epoch 58/100\n",
      "2806/2806 [==============================] - 17s 6ms/step - loss: 0.2753 - accuracy: 0.8736\n",
      "Epoch 59/100\n",
      "2806/2806 [==============================] - 16s 6ms/step - loss: 0.2752 - accuracy: 0.8738\n",
      "Epoch 60/100\n",
      "2806/2806 [==============================] - 16s 6ms/step - loss: 0.2742 - accuracy: 0.8733\n",
      "Epoch 61/100\n",
      "2806/2806 [==============================] - 16s 6ms/step - loss: 0.2743 - accuracy: 0.8745\n",
      "Epoch 62/100\n",
      "2806/2806 [==============================] - 16s 6ms/step - loss: 0.2735 - accuracy: 0.8742\n",
      "Epoch 63/100\n",
      "2806/2806 [==============================] - 17s 6ms/step - loss: 0.2735 - accuracy: 0.8743\n",
      "Epoch 64/100\n",
      "2806/2806 [==============================] - 16s 6ms/step - loss: 0.2738 - accuracy: 0.8748\n",
      "Epoch 65/100\n",
      "2806/2806 [==============================] - 16s 6ms/step - loss: 0.2727 - accuracy: 0.8754\n",
      "Epoch 66/100\n",
      "2806/2806 [==============================] - 15s 5ms/step - loss: 0.2724 - accuracy: 0.8748\n",
      "Epoch 67/100\n",
      "2806/2806 [==============================] - 16s 6ms/step - loss: 0.2715 - accuracy: 0.8751\n",
      "Epoch 68/100\n",
      "2806/2806 [==============================] - 16s 6ms/step - loss: 0.2710 - accuracy: 0.8755\n",
      "Epoch 69/100\n",
      "2806/2806 [==============================] - 16s 6ms/step - loss: 0.2710 - accuracy: 0.8754\n",
      "Epoch 70/100\n",
      "2806/2806 [==============================] - 16s 6ms/step - loss: 0.2712 - accuracy: 0.8757\n",
      "Epoch 71/100\n",
      "2806/2806 [==============================] - 16s 6ms/step - loss: 0.2699 - accuracy: 0.8763\n",
      "Epoch 72/100\n",
      "2806/2806 [==============================] - 16s 6ms/step - loss: 0.2705 - accuracy: 0.8757\n",
      "Epoch 73/100\n",
      "2806/2806 [==============================] - 16s 6ms/step - loss: 0.2699 - accuracy: 0.8756\n",
      "Epoch 74/100\n",
      "2806/2806 [==============================] - 16s 6ms/step - loss: 0.2703 - accuracy: 0.8763\n",
      "Epoch 75/100\n",
      "2806/2806 [==============================] - 17s 6ms/step - loss: 0.2687 - accuracy: 0.8765\n",
      "Epoch 76/100\n",
      "2806/2806 [==============================] - 16s 6ms/step - loss: 0.2691 - accuracy: 0.8763\n",
      "Epoch 77/100\n",
      "2806/2806 [==============================] - 15s 5ms/step - loss: 0.2692 - accuracy: 0.8761\n",
      "Epoch 78/100\n",
      "2806/2806 [==============================] - 15s 5ms/step - loss: 0.2683 - accuracy: 0.8759\n",
      "Epoch 79/100\n",
      "2806/2806 [==============================] - 17s 6ms/step - loss: 0.2683 - accuracy: 0.8769\n",
      "Epoch 80/100\n",
      "2806/2806 [==============================] - 16s 6ms/step - loss: 0.2685 - accuracy: 0.8766\n",
      "Epoch 81/100\n",
      "2806/2806 [==============================] - 16s 6ms/step - loss: 0.2674 - accuracy: 0.8775\n",
      "Epoch 82/100\n",
      "2806/2806 [==============================] - 16s 6ms/step - loss: 0.2668 - accuracy: 0.8772\n",
      "Epoch 83/100\n",
      "2806/2806 [==============================] - 16s 6ms/step - loss: 0.2666 - accuracy: 0.8769\n",
      "Epoch 84/100\n",
      "2806/2806 [==============================] - 16s 6ms/step - loss: 0.2663 - accuracy: 0.8783\n",
      "Epoch 85/100\n",
      "2806/2806 [==============================] - 16s 6ms/step - loss: 0.2669 - accuracy: 0.8771\n",
      "Epoch 86/100\n",
      "2806/2806 [==============================] - 16s 6ms/step - loss: 0.2656 - accuracy: 0.8772\n",
      "Epoch 87/100\n",
      "2806/2806 [==============================] - 16s 6ms/step - loss: 0.2657 - accuracy: 0.8772\n",
      "Epoch 88/100\n",
      "2806/2806 [==============================] - 16s 6ms/step - loss: 0.2649 - accuracy: 0.8786\n",
      "Epoch 89/100\n",
      "2806/2806 [==============================] - 15s 5ms/step - loss: 0.2653 - accuracy: 0.8782\n",
      "Epoch 90/100\n",
      "2806/2806 [==============================] - 15s 5ms/step - loss: 0.2651 - accuracy: 0.8787\n",
      "Epoch 91/100\n",
      "2806/2806 [==============================] - 16s 6ms/step - loss: 0.2639 - accuracy: 0.8788\n",
      "Epoch 92/100\n",
      "2806/2806 [==============================] - 17s 6ms/step - loss: 0.2650 - accuracy: 0.8777\n",
      "Epoch 93/100\n",
      "2806/2806 [==============================] - 17s 6ms/step - loss: 0.2639 - accuracy: 0.8787\n",
      "Epoch 94/100\n",
      "2806/2806 [==============================] - 15s 5ms/step - loss: 0.2634 - accuracy: 0.8790\n",
      "Epoch 95/100\n",
      "2806/2806 [==============================] - 16s 6ms/step - loss: 0.2635 - accuracy: 0.8785\n",
      "Epoch 96/100\n",
      "2806/2806 [==============================] - 16s 6ms/step - loss: 0.2634 - accuracy: 0.8788\n",
      "Epoch 97/100\n",
      "2806/2806 [==============================] - 16s 6ms/step - loss: 0.2636 - accuracy: 0.8790\n",
      "Epoch 98/100\n",
      "2806/2806 [==============================] - 16s 6ms/step - loss: 0.2638 - accuracy: 0.8792\n",
      "Epoch 99/100\n",
      "2806/2806 [==============================] - 16s 6ms/step - loss: 0.2627 - accuracy: 0.8794\n",
      "Epoch 100/100\n",
      "2806/2806 [==============================] - 15s 6ms/step - loss: 0.2621 - accuracy: 0.8796\n"
     ]
    }
   ],
   "source": [
    "# Entrenamos el modelo:\n",
    "epochs_hist = model_rnn.fit(X_train, y_train, epochs = 100, batch_size = 50)"
   ]
  },
  {
   "cell_type": "code",
   "execution_count": 243,
   "id": "8c686c15-2d13-4e1c-a691-d4d31e8a6597",
   "metadata": {},
   "outputs": [
    {
     "name": "stdout",
     "output_type": "stream",
     "text": [
      "1462/1462 [==============================] - 6s 2ms/step\n"
     ]
    }
   ],
   "source": [
    "y_pred = model_rnn.predict(X_test)"
   ]
  },
  {
   "cell_type": "code",
   "execution_count": 244,
   "id": "d476339e-6a08-4cb7-9c2c-f6dfa164e3a6",
   "metadata": {},
   "outputs": [],
   "source": [
    "y_pred = (y_pred > 0.5)"
   ]
  },
  {
   "cell_type": "markdown",
   "id": "b0851aac-3006-478f-ae3b-b324208556af",
   "metadata": {},
   "source": [
    "### a) Tasa de acierto del modelo."
   ]
  },
  {
   "cell_type": "code",
   "execution_count": 245,
   "id": "bc655e11-7d7b-4083-86ac-9ef317a6052d",
   "metadata": {},
   "outputs": [
    {
     "name": "stdout",
     "output_type": "stream",
     "text": [
      "Tasa de acierto: 85.17 %\n"
     ]
    }
   ],
   "source": [
    "print(f'Tasa de acierto: {round(100*accuracy_score(y_pred, y_test),2)} %')"
   ]
  },
  {
   "cell_type": "markdown",
   "id": "54306aff-77ba-4d00-b59b-4157c57e61e6",
   "metadata": {},
   "source": [
    "### b) Matriz de confusión."
   ]
  },
  {
   "cell_type": "code",
   "execution_count": 246,
   "id": "eed1b45c-583d-401f-b41e-e346a976721a",
   "metadata": {},
   "outputs": [
    {
     "data": {
      "text/plain": [
       "<AxesSubplot:>"
      ]
     },
     "execution_count": 246,
     "metadata": {},
     "output_type": "execute_result"
    },
    {
     "data": {
      "image/png": "[encoded data removed]",
      "text/plain": [
       "<Figure size 432x288 with 2 Axes>"
      ]
     },
     "metadata": {
      "needs_background": "light"
     },
     "output_type": "display_data"
    }
   ],
   "source": [
    "# Resultados en el Conjunto de Testing\n",
    "cm = confusion_matrix(y_test, y_pred)\n",
    "sns.heatmap(cm, annot = True)"
   ]
  },
  {
   "cell_type": "markdown",
   "id": "8097b967-8f16-4017-99e3-1e21b6bceb1d",
   "metadata": {},
   "source": [
    "**a) El modelo clasifica de forma correcta que:**\n",
    "\n",
    "    33,000 verdaderos positivos (TP) y 2,700 falsos positivos (FP).\n",
    "\n",
    "**b) El modelo clasifica de forma incorrecta que:**\n",
    "\n",
    "    4,200 falsos negativos (FN) y 6,700 verdaderos negativos (TN)"
   ]
  },
  {
   "cell_type": "markdown",
   "id": "c51c420c-6590-47d9-bd09-9e708823c4e9",
   "metadata": {},
   "source": [
    "### c) Reporte de clasificación."
   ]
  },
  {
   "cell_type": "code",
   "execution_count": 247,
   "id": "30647073-a58f-4a56-ab95-e70d7ad356e8",
   "metadata": {},
   "outputs": [
    {
     "name": "stdout",
     "output_type": "stream",
     "text": [
      "              precision    recall  f1-score   support\n",
      "\n",
      "           0       0.89      0.92      0.91     35840\n",
      "           1       0.71      0.61      0.66     10918\n",
      "\n",
      "    accuracy                           0.85     46758\n",
      "   macro avg       0.80      0.77      0.78     46758\n",
      "weighted avg       0.85      0.85      0.85     46758\n",
      "\n"
     ]
    }
   ],
   "source": [
    "print(classification_report(y_test, y_pred))"
   ]
  },
  {
   "cell_type": "markdown",
   "id": "c0ebf52e-e0e9-4420-8e8b-2d6663dbe207",
   "metadata": {},
   "source": [
    "## 8) Resumen de los 3 modelos"
   ]
  },
  {
   "cell_type": "markdown",
   "id": "42a8a716-6914-4262-ba15-bd2d80910750",
   "metadata": {},
   "source": [
    "1) LogisticRegression:\n",
    "\n",
    "    * Accuracy: 83.88 %\n",
    "    * Recall(0): 0.94\n",
    "    * Recall(1): 0.51\n",
    "\n",
    "\n",
    "2) RandomForestClassifier:\n",
    "\n",
    "    * Accuracy: 89.45 %\n",
    "    * Recall(0): 0.95\n",
    "    * Recall(1): 0.72\n",
    "\n",
    "\n",
    "3) ArtificialNeuralNetwork:\n",
    "\n",
    "    * Accuracy: 85.17 %\n",
    "    * Recall(0): 0.92\n",
    "    * Recall(1): 0.61\n",
    "\n",
    "\n",
    "Por lo tanto, utilizaremos el modelo de RandomForestClassifier para clasificar el dataset del test."
   ]
  },
  {
   "cell_type": "markdown",
   "id": "ac79b889-059e-4cfd-ad4f-88b781493208",
   "metadata": {},
   "source": [
    "## 9) Archivo pickle"
   ]
  },
  {
   "cell_type": "markdown",
   "id": "da1a6f2e-ae92-493e-856c-7bf79a1bc2e1",
   "metadata": {},
   "source": [
    "### a) Entrenamiento con todo el dataset: properties_colombia_train.csv"
   ]
  },
  {
   "cell_type": "code",
   "execution_count": 253,
   "id": "4032b5b9-3898-4b2a-83a4-8099bc8e77a1",
   "metadata": {},
   "outputs": [
    {
     "name": "stdout",
     "output_type": "stream",
     "text": [
      "Set de entrenamiento listo !!!\n"
     ]
    }
   ],
   "source": [
    "X_train_csv = X \n",
    "y_train_csv = y\n",
    "\n",
    "print('Set de entrenamiento listo !!!')"
   ]
  },
  {
   "cell_type": "markdown",
   "id": "554f4192-07e1-419a-a1e9-682e6af44ecc",
   "metadata": {},
   "source": [
    "### b) Modelo: RandomForestClassifier"
   ]
  },
  {
   "cell_type": "code",
   "execution_count": 254,
   "id": "368207df-7833-43e5-84c3-c6cff5dd66a0",
   "metadata": {},
   "outputs": [
    {
     "name": "stdout",
     "output_type": "stream",
     "text": [
      "El modelo ha sido entrenado !!!\n"
     ]
    }
   ],
   "source": [
    "# -- Bosques Aleatorios -- #\n",
    "\n",
    "# Importamos la función RandomForestClassifier:\n",
    "from sklearn.ensemble import RandomForestClassifier\n",
    "\n",
    "# Creamos un objeto de RandomForestClassifier:\n",
    "model_RFC = RandomForestClassifier()\n",
    "\n",
    "# Creamos el modelo para predecir uasando los datos de entrenamiento:\n",
    "model_RFC.fit(X_train_csv, y_train_csv)\n",
    "\n",
    "print('El modelo ha sido entrenado !!!')"
   ]
  },
  {
   "cell_type": "markdown",
   "id": "1aac698e-430e-47ff-954e-51752d81223b",
   "metadata": {},
   "source": [
    "### c) Creacion del archivo *.sav"
   ]
  },
  {
   "cell_type": "code",
   "execution_count": 256,
   "id": "f141656a-4ba8-487e-9594-f924e8fac901",
   "metadata": {},
   "outputs": [
    {
     "name": "stdout",
     "output_type": "stream",
     "text": [
      "Modelo guardado !!!\n"
     ]
    }
   ],
   "source": [
    "import pickle\n",
    "\n",
    "pickle.dump(model_RFC, open('model_random_forest_classifier.sav', 'wb'))\n",
    "\n",
    "print('Modelo guardado !!!')"
   ]
  },
  {
   "cell_type": "code",
   "execution_count": null,
   "id": "f4f541f0-554e-42ca-aa94-636482165088",
   "metadata": {},
   "outputs": [],
   "source": []
  }
 ],
 "metadata": {
  "kernelspec": {
   "display_name": "Python 3 (ipykernel)",
   "language": "python",
   "name": "python3"
  },
  "language_info": {
   "codemirror_mode": {
    "name": "ipython",
    "version": 3
   },
   "file_extension": ".py",
   "mimetype": "text/x-python",
   "name": "python",
   "nbconvert_exporter": "python",
   "pygments_lexer": "ipython3",
   "version": "3.9.12"
  }
 },
 "nbformat": 4,
 "nbformat_minor": 5
}
